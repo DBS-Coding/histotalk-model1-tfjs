{
  "cells": [
    {
      "cell_type": "code",
      "execution_count": 8,
      "metadata": {
        "id": "oZ8pDcvhxUoI"
      },
      "outputs": [],
      "source": [
        "import numpy as np\n",
        "import pandas as pd\n",
        "import json\n",
        "import nltk\n",
        "import matplotlib.pyplot as plt\n",
        "import tensorflow as tf"
      ]
    },
    {
      "cell_type": "code",
      "source": [
        "print('\\u2022 Using TensorFlow Version:', tf.__version__) # keras 3 punya issue dgn tfjs"
      ],
      "metadata": {
        "colab": {
          "base_uri": "https://localhost:8080/"
        },
        "id": "WLQ3fUB8ABdp",
        "outputId": "728c6c93-4891-4801-dba3-956db5470635"
      },
      "execution_count": 9,
      "outputs": [
        {
          "output_type": "stream",
          "name": "stdout",
          "text": [
            "• Using TensorFlow Version: 2.18.0\n"
          ]
        }
      ]
    },
    {
      "cell_type": "code",
      "source": [
        "import os\n",
        "\n",
        "cpu_count = os.cpu_count()\n",
        "print(f\"Jumlah CPU (logical cores): {cpu_count}\")"
      ],
      "metadata": {
        "colab": {
          "base_uri": "https://localhost:8080/"
        },
        "id": "G7JK3vs_-0J2",
        "outputId": "18e693fe-7369-4fa3-ff50-56cfae27a470"
      },
      "execution_count": 10,
      "outputs": [
        {
          "output_type": "stream",
          "name": "stdout",
          "text": [
            "Jumlah CPU (logical cores): 2\n"
          ]
        }
      ]
    },
    {
      "cell_type": "code",
      "source": [
        "print(np.__version__)"
      ],
      "metadata": {
        "colab": {
          "base_uri": "https://localhost:8080/"
        },
        "id": "uPF5D3rEpqme",
        "outputId": "2f0669e7-9318-4777-e66d-8cae93728156"
      },
      "execution_count": 11,
      "outputs": [
        {
          "output_type": "stream",
          "name": "stdout",
          "text": [
            "2.0.2\n"
          ]
        }
      ]
    },
    {
      "cell_type": "code",
      "source": [
        "!python --version"
      ],
      "metadata": {
        "colab": {
          "base_uri": "https://localhost:8080/"
        },
        "id": "0fOJHa4KEBcM",
        "outputId": "3eb8f64c-8788-48f0-f1ab-e727809e9ca8"
      },
      "execution_count": 5,
      "outputs": [
        {
          "output_type": "stream",
          "name": "stdout",
          "text": [
            "Python 3.11.13\n"
          ]
        }
      ]
    },
    {
      "cell_type": "code",
      "source": [
        "!pip install tensorflowjs==4.22.0"
      ],
      "metadata": {
        "colab": {
          "base_uri": "https://localhost:8080/",
          "height": 1000
        },
        "id": "HmkMAopFu2ef",
        "outputId": "7fb9e60d-ed50-4aad-b7e4-2735d35c9541"
      },
      "execution_count": 6,
      "outputs": [
        {
          "output_type": "stream",
          "name": "stdout",
          "text": [
            "Collecting tensorflowjs==4.22.0\n",
            "  Downloading tensorflowjs-4.22.0-py3-none-any.whl.metadata (3.2 kB)\n",
            "Requirement already satisfied: flax>=0.7.2 in /usr/local/lib/python3.11/dist-packages (from tensorflowjs==4.22.0) (0.10.6)\n",
            "Requirement already satisfied: importlib_resources>=5.9.0 in /usr/local/lib/python3.11/dist-packages (from tensorflowjs==4.22.0) (6.5.2)\n",
            "Requirement already satisfied: jax>=0.4.13 in /usr/local/lib/python3.11/dist-packages (from tensorflowjs==4.22.0) (0.5.2)\n",
            "Requirement already satisfied: jaxlib>=0.4.13 in /usr/local/lib/python3.11/dist-packages (from tensorflowjs==4.22.0) (0.5.1)\n",
            "Requirement already satisfied: tensorflow<3,>=2.13.0 in /usr/local/lib/python3.11/dist-packages (from tensorflowjs==4.22.0) (2.18.0)\n",
            "Requirement already satisfied: tf-keras>=2.13.0 in /usr/local/lib/python3.11/dist-packages (from tensorflowjs==4.22.0) (2.18.0)\n",
            "Requirement already satisfied: tensorflow-decision-forests>=1.5.0 in /usr/local/lib/python3.11/dist-packages (from tensorflowjs==4.22.0) (1.11.0)\n",
            "Requirement already satisfied: six<2,>=1.16.0 in /usr/local/lib/python3.11/dist-packages (from tensorflowjs==4.22.0) (1.17.0)\n",
            "Requirement already satisfied: tensorflow-hub>=0.16.1 in /usr/local/lib/python3.11/dist-packages (from tensorflowjs==4.22.0) (0.16.1)\n",
            "Collecting packaging~=23.1 (from tensorflowjs==4.22.0)\n",
            "  Downloading packaging-23.2-py3-none-any.whl.metadata (3.2 kB)\n",
            "Requirement already satisfied: numpy>=1.23.2 in /usr/local/lib/python3.11/dist-packages (from flax>=0.7.2->tensorflowjs==4.22.0) (2.0.2)\n",
            "Requirement already satisfied: msgpack in /usr/local/lib/python3.11/dist-packages (from flax>=0.7.2->tensorflowjs==4.22.0) (1.1.0)\n",
            "Requirement already satisfied: optax in /usr/local/lib/python3.11/dist-packages (from flax>=0.7.2->tensorflowjs==4.22.0) (0.2.4)\n",
            "Requirement already satisfied: orbax-checkpoint in /usr/local/lib/python3.11/dist-packages (from flax>=0.7.2->tensorflowjs==4.22.0) (0.11.13)\n",
            "Requirement already satisfied: tensorstore in /usr/local/lib/python3.11/dist-packages (from flax>=0.7.2->tensorflowjs==4.22.0) (0.1.74)\n",
            "Requirement already satisfied: rich>=11.1 in /usr/local/lib/python3.11/dist-packages (from flax>=0.7.2->tensorflowjs==4.22.0) (13.9.4)\n",
            "Requirement already satisfied: typing_extensions>=4.2 in /usr/local/lib/python3.11/dist-packages (from flax>=0.7.2->tensorflowjs==4.22.0) (4.14.0)\n",
            "Requirement already satisfied: PyYAML>=5.4.1 in /usr/local/lib/python3.11/dist-packages (from flax>=0.7.2->tensorflowjs==4.22.0) (6.0.2)\n",
            "Requirement already satisfied: treescope>=0.1.7 in /usr/local/lib/python3.11/dist-packages (from flax>=0.7.2->tensorflowjs==4.22.0) (0.1.9)\n",
            "Requirement already satisfied: ml_dtypes>=0.4.0 in /usr/local/lib/python3.11/dist-packages (from jax>=0.4.13->tensorflowjs==4.22.0) (0.4.1)\n",
            "Requirement already satisfied: opt_einsum in /usr/local/lib/python3.11/dist-packages (from jax>=0.4.13->tensorflowjs==4.22.0) (3.4.0)\n",
            "Requirement already satisfied: scipy>=1.11.1 in /usr/local/lib/python3.11/dist-packages (from jax>=0.4.13->tensorflowjs==4.22.0) (1.15.3)\n",
            "Requirement already satisfied: absl-py>=1.0.0 in /usr/local/lib/python3.11/dist-packages (from tensorflow<3,>=2.13.0->tensorflowjs==4.22.0) (1.4.0)\n",
            "Requirement already satisfied: astunparse>=1.6.0 in /usr/local/lib/python3.11/dist-packages (from tensorflow<3,>=2.13.0->tensorflowjs==4.22.0) (1.6.3)\n",
            "Requirement already satisfied: flatbuffers>=24.3.25 in /usr/local/lib/python3.11/dist-packages (from tensorflow<3,>=2.13.0->tensorflowjs==4.22.0) (25.2.10)\n",
            "Requirement already satisfied: gast!=0.5.0,!=0.5.1,!=0.5.2,>=0.2.1 in /usr/local/lib/python3.11/dist-packages (from tensorflow<3,>=2.13.0->tensorflowjs==4.22.0) (0.6.0)\n",
            "Requirement already satisfied: google-pasta>=0.1.1 in /usr/local/lib/python3.11/dist-packages (from tensorflow<3,>=2.13.0->tensorflowjs==4.22.0) (0.2.0)\n",
            "Requirement already satisfied: libclang>=13.0.0 in /usr/local/lib/python3.11/dist-packages (from tensorflow<3,>=2.13.0->tensorflowjs==4.22.0) (18.1.1)\n",
            "Requirement already satisfied: protobuf!=4.21.0,!=4.21.1,!=4.21.2,!=4.21.3,!=4.21.4,!=4.21.5,<6.0.0dev,>=3.20.3 in /usr/local/lib/python3.11/dist-packages (from tensorflow<3,>=2.13.0->tensorflowjs==4.22.0) (5.29.5)\n",
            "Requirement already satisfied: requests<3,>=2.21.0 in /usr/local/lib/python3.11/dist-packages (from tensorflow<3,>=2.13.0->tensorflowjs==4.22.0) (2.32.3)\n",
            "Requirement already satisfied: setuptools in /usr/local/lib/python3.11/dist-packages (from tensorflow<3,>=2.13.0->tensorflowjs==4.22.0) (75.2.0)\n",
            "Requirement already satisfied: termcolor>=1.1.0 in /usr/local/lib/python3.11/dist-packages (from tensorflow<3,>=2.13.0->tensorflowjs==4.22.0) (3.1.0)\n",
            "Requirement already satisfied: wrapt>=1.11.0 in /usr/local/lib/python3.11/dist-packages (from tensorflow<3,>=2.13.0->tensorflowjs==4.22.0) (1.17.2)\n",
            "Requirement already satisfied: grpcio<2.0,>=1.24.3 in /usr/local/lib/python3.11/dist-packages (from tensorflow<3,>=2.13.0->tensorflowjs==4.22.0) (1.72.1)\n",
            "Requirement already satisfied: tensorboard<2.19,>=2.18 in /usr/local/lib/python3.11/dist-packages (from tensorflow<3,>=2.13.0->tensorflowjs==4.22.0) (2.18.0)\n",
            "Requirement already satisfied: keras>=3.5.0 in /usr/local/lib/python3.11/dist-packages (from tensorflow<3,>=2.13.0->tensorflowjs==4.22.0) (3.8.0)\n",
            "Requirement already satisfied: h5py>=3.11.0 in /usr/local/lib/python3.11/dist-packages (from tensorflow<3,>=2.13.0->tensorflowjs==4.22.0) (3.13.0)\n",
            "Requirement already satisfied: tensorflow-io-gcs-filesystem>=0.23.1 in /usr/local/lib/python3.11/dist-packages (from tensorflow<3,>=2.13.0->tensorflowjs==4.22.0) (0.37.1)\n",
            "Requirement already satisfied: pandas in /usr/local/lib/python3.11/dist-packages (from tensorflow-decision-forests>=1.5.0->tensorflowjs==4.22.0) (2.2.2)\n",
            "Requirement already satisfied: wheel in /usr/local/lib/python3.11/dist-packages (from tensorflow-decision-forests>=1.5.0->tensorflowjs==4.22.0) (0.45.1)\n",
            "Requirement already satisfied: wurlitzer in /usr/local/lib/python3.11/dist-packages (from tensorflow-decision-forests>=1.5.0->tensorflowjs==4.22.0) (3.1.1)\n",
            "Requirement already satisfied: ydf in /usr/local/lib/python3.11/dist-packages (from tensorflow-decision-forests>=1.5.0->tensorflowjs==4.22.0) (0.12.0)\n",
            "Requirement already satisfied: namex in /usr/local/lib/python3.11/dist-packages (from keras>=3.5.0->tensorflow<3,>=2.13.0->tensorflowjs==4.22.0) (0.1.0)\n",
            "Requirement already satisfied: optree in /usr/local/lib/python3.11/dist-packages (from keras>=3.5.0->tensorflow<3,>=2.13.0->tensorflowjs==4.22.0) (0.16.0)\n",
            "Requirement already satisfied: charset-normalizer<4,>=2 in /usr/local/lib/python3.11/dist-packages (from requests<3,>=2.21.0->tensorflow<3,>=2.13.0->tensorflowjs==4.22.0) (3.4.2)\n",
            "Requirement already satisfied: idna<4,>=2.5 in /usr/local/lib/python3.11/dist-packages (from requests<3,>=2.21.0->tensorflow<3,>=2.13.0->tensorflowjs==4.22.0) (3.10)\n",
            "Requirement already satisfied: urllib3<3,>=1.21.1 in /usr/local/lib/python3.11/dist-packages (from requests<3,>=2.21.0->tensorflow<3,>=2.13.0->tensorflowjs==4.22.0) (2.4.0)\n",
            "Requirement already satisfied: certifi>=2017.4.17 in /usr/local/lib/python3.11/dist-packages (from requests<3,>=2.21.0->tensorflow<3,>=2.13.0->tensorflowjs==4.22.0) (2025.4.26)\n",
            "Requirement already satisfied: markdown-it-py>=2.2.0 in /usr/local/lib/python3.11/dist-packages (from rich>=11.1->flax>=0.7.2->tensorflowjs==4.22.0) (3.0.0)\n",
            "Requirement already satisfied: pygments<3.0.0,>=2.13.0 in /usr/local/lib/python3.11/dist-packages (from rich>=11.1->flax>=0.7.2->tensorflowjs==4.22.0) (2.19.1)\n",
            "Requirement already satisfied: markdown>=2.6.8 in /usr/local/lib/python3.11/dist-packages (from tensorboard<2.19,>=2.18->tensorflow<3,>=2.13.0->tensorflowjs==4.22.0) (3.8)\n",
            "Requirement already satisfied: tensorboard-data-server<0.8.0,>=0.7.0 in /usr/local/lib/python3.11/dist-packages (from tensorboard<2.19,>=2.18->tensorflow<3,>=2.13.0->tensorflowjs==4.22.0) (0.7.2)\n",
            "Requirement already satisfied: werkzeug>=1.0.1 in /usr/local/lib/python3.11/dist-packages (from tensorboard<2.19,>=2.18->tensorflow<3,>=2.13.0->tensorflowjs==4.22.0) (3.1.3)\n",
            "Requirement already satisfied: chex>=0.1.87 in /usr/local/lib/python3.11/dist-packages (from optax->flax>=0.7.2->tensorflowjs==4.22.0) (0.1.89)\n",
            "Requirement already satisfied: etils[epy] in /usr/local/lib/python3.11/dist-packages (from optax->flax>=0.7.2->tensorflowjs==4.22.0) (1.12.2)\n",
            "Requirement already satisfied: nest_asyncio in /usr/local/lib/python3.11/dist-packages (from orbax-checkpoint->flax>=0.7.2->tensorflowjs==4.22.0) (1.6.0)\n",
            "Requirement already satisfied: humanize in /usr/local/lib/python3.11/dist-packages (from orbax-checkpoint->flax>=0.7.2->tensorflowjs==4.22.0) (4.12.3)\n",
            "Requirement already satisfied: simplejson>=3.16.0 in /usr/local/lib/python3.11/dist-packages (from orbax-checkpoint->flax>=0.7.2->tensorflowjs==4.22.0) (3.20.1)\n",
            "Requirement already satisfied: python-dateutil>=2.8.2 in /usr/local/lib/python3.11/dist-packages (from pandas->tensorflow-decision-forests>=1.5.0->tensorflowjs==4.22.0) (2.9.0.post0)\n",
            "Requirement already satisfied: pytz>=2020.1 in /usr/local/lib/python3.11/dist-packages (from pandas->tensorflow-decision-forests>=1.5.0->tensorflowjs==4.22.0) (2025.2)\n",
            "Requirement already satisfied: tzdata>=2022.7 in /usr/local/lib/python3.11/dist-packages (from pandas->tensorflow-decision-forests>=1.5.0->tensorflowjs==4.22.0) (2025.2)\n",
            "Requirement already satisfied: toolz>=0.9.0 in /usr/local/lib/python3.11/dist-packages (from chex>=0.1.87->optax->flax>=0.7.2->tensorflowjs==4.22.0) (0.12.1)\n",
            "Requirement already satisfied: mdurl~=0.1 in /usr/local/lib/python3.11/dist-packages (from markdown-it-py>=2.2.0->rich>=11.1->flax>=0.7.2->tensorflowjs==4.22.0) (0.1.2)\n",
            "Requirement already satisfied: MarkupSafe>=2.1.1 in /usr/local/lib/python3.11/dist-packages (from werkzeug>=1.0.1->tensorboard<2.19,>=2.18->tensorflow<3,>=2.13.0->tensorflowjs==4.22.0) (3.0.2)\n",
            "Requirement already satisfied: fsspec in /usr/local/lib/python3.11/dist-packages (from etils[epath,epy]->orbax-checkpoint->flax>=0.7.2->tensorflowjs==4.22.0) (2025.3.2)\n",
            "Requirement already satisfied: zipp in /usr/local/lib/python3.11/dist-packages (from etils[epath,epy]->orbax-checkpoint->flax>=0.7.2->tensorflowjs==4.22.0) (3.22.0)\n",
            "Downloading tensorflowjs-4.22.0-py3-none-any.whl (89 kB)\n",
            "\u001b[2K   \u001b[90m━━━━━━━━━━━━━━━━━━━━━━━━━━━━━━━━━━━━━━━━\u001b[0m \u001b[32m89.1/89.1 kB\u001b[0m \u001b[31m4.8 MB/s\u001b[0m eta \u001b[36m0:00:00\u001b[0m\n",
            "\u001b[?25hDownloading packaging-23.2-py3-none-any.whl (53 kB)\n",
            "\u001b[2K   \u001b[90m━━━━━━━━━━━━━━━━━━━━━━━━━━━━━━━━━━━━━━━━\u001b[0m \u001b[32m53.0/53.0 kB\u001b[0m \u001b[31m2.7 MB/s\u001b[0m eta \u001b[36m0:00:00\u001b[0m\n",
            "\u001b[?25hInstalling collected packages: packaging, tensorflowjs\n",
            "  Attempting uninstall: packaging\n",
            "    Found existing installation: packaging 24.2\n",
            "    Uninstalling packaging-24.2:\n",
            "      Successfully uninstalled packaging-24.2\n",
            "\u001b[31mERROR: pip's dependency resolver does not currently take into account all the packages that are installed. This behaviour is the source of the following dependency conflicts.\n",
            "google-cloud-bigquery 3.34.0 requires packaging>=24.2.0, but you have packaging 23.2 which is incompatible.\n",
            "db-dtypes 1.4.3 requires packaging>=24.2.0, but you have packaging 23.2 which is incompatible.\u001b[0m\u001b[31m\n",
            "\u001b[0mSuccessfully installed packaging-23.2 tensorflowjs-4.22.0\n"
          ]
        },
        {
          "output_type": "display_data",
          "data": {
            "application/vnd.colab-display-data+json": {
              "pip_warning": {
                "packages": [
                  "packaging"
                ]
              },
              "id": "7a28215cf75f4502a67862ec857e965d"
            }
          },
          "metadata": {}
        }
      ]
    },
    {
      "cell_type": "code",
      "source": [
        "import os\n",
        "import zipfile\n",
        "from google.colab import files  # Mengimpor dengan benar\n",
        "\n",
        "def exportZip(source_folder = \"/content/tfjs_saved_model\", zip_filename = \"tfjs_saved_model.zip\"):\n",
        "  # Memeriksa apakah folder sumber ada\n",
        "  if not os.path.exists(source_folder):\n",
        "      print(f\"Folder {source_folder} tidak ditemukan!\")\n",
        "  else:\n",
        "      # Membuat file zip dari folder\n",
        "      with zipfile.ZipFile(zip_filename, 'w', zipfile.ZIP_DEFLATED) as zipf:\n",
        "          for root, dirs, files_list in os.walk(source_folder):  # Mengubah nama variabel menjadi files_list\n",
        "              for file in files_list:  # Menggunakan files_list\n",
        "                  file_path = os.path.join(root, file)\n",
        "                  # Mendapatkan path relatif untuk struktur folder di dalam zip\n",
        "                  arcname = os.path.relpath(file_path, os.path.dirname(source_folder))\n",
        "                  zipf.write(file_path, arcname)\n",
        "\n",
        "      # Mengunduh file zip ke lokal\n",
        "      files.download(zip_filename)  # Ini sekarang mengacu pada google.colab.files\n",
        "      print(f\"File {zip_filename} telah dibuat dan diunduh ke komputer lokal Anda\")"
      ],
      "metadata": {
        "id": "dUWXfPKbIxPg"
      },
      "execution_count": 12,
      "outputs": []
    },
    {
      "cell_type": "code",
      "execution_count": null,
      "metadata": {
        "id": "CnfZthlYi4nq",
        "colab": {
          "base_uri": "https://localhost:8080/"
        },
        "outputId": "aab6dbc3-43d0-4cc4-d9a4-f7c2f766f3cb"
      },
      "outputs": [
        {
          "output_type": "stream",
          "name": "stdout",
          "text": [
            "Python 3.11.13\n"
          ]
        }
      ],
      "source": [
        "%%python --version"
      ]
    },
    {
      "cell_type": "code",
      "source": [
        "%%writefile content-soekarno.json\n",
        "{\n",
        "  \"intents\": [\n",
        "    {\n",
        "      \"tag\": \"greeting\",\n",
        "      \"input\": [\n",
        "            \"selamat pagi\", \"hai\", \"halo\", \"salam\", \"apa kabar\", \"bertemu lagi\",\n",
        "            \"halo pak\", \"selamat pagi pak\", \"senang bertemu anda\", \"apa kabar bapak\",\n",
        "            \"halo semuanya\", \"selamat datang\", \"selamat sore\", \"selamat siang\",\n",
        "            \"assalamualaikum\", \"hi pak\", \"apa kabar semua\", \"apa kabar hari ini\",\n",
        "            \"semoga harimu menyenangkan\", \"apa kabar dunia\"\n",
        "        ],\n",
        "      \"responses\": [\n",
        "        \"Saudara-saudara sekalian! Selamat berjumpa!\",\n",
        "        \"Rakyatku yang kucintai, selamat berjumpa kembali!\",\n",
        "        \"Merdeka! Salam hangat untuk seluruh rakyat Indonesia!\",\n",
        "        \"Saudara-saudara, dengan semangat proklamasi, saya menyambut kedatanganmu!\"\n",
        "      ]\n",
        "    },\n",
        "    {\n",
        "      \"tag\": \"whoami\",\n",
        "      \"input\": [\n",
        "            \"kamu siapa\", \"bapak siapa ya\", \"siapa anda\", \"siapa kamu\", \"siapa bapak\",\n",
        "            \"perkenalkan diri\", \"anda siapa\", \"tentang diri anda\", \"siapa presiden\",\n",
        "            \"bapak ini siapa\", \"kenalkan dirimu\", \"boleh tahu nama\", \"anda dari mana\",\n",
        "            \"siapa anda sebenarnya\", \"asal usul bapak\", \"anda tokoh siapa\",\n",
        "            \"kenalkan siapa dirimu\", \"siapa anda pak\", \"siapa anda orang penting\",\n",
        "            \"apa jabatan anda\"\n",
        "        ],\n",
        "      \"responses\": [\n",
        "        \"Saya Soekarno! Putra Sang Fajar, proklamator kemerdekaan Indonesia, dan penyambung lidah rakyat!\",\n",
        "        \"Saya adalah Bung Karno, pemimpin revolusi Indonesia! Saya bukan hanya presiden, tetapi juga pemimpin besar revolusi!\",\n",
        "        \"Saya Soekarno, yang dipanggil Bung Karno oleh rakyatku. Saya adalah penggerak semangat perjuangan dan penyala api revolusi!\",\n",
        "        \"Saya lahir di Blitar, putra Indonesia yang berjuang bersama rakyat untuk kemerdekaan dan kedaulatan bangsa kita!\",\n",
        "        \"Saya Bung Karno, yang memimpin perjuangan melawan imperialisme dan kolonialisme. Saya penyambung lidah rakyat sejati!\"\n",
        "      ]\n",
        "    },\n",
        "    {\n",
        "      \"tag\": \"nationalism\",\n",
        "      \"input\": [\n",
        "            \"indonesia\", \"tanah air\", \"bangsa\", \"kemerdekaan\", \"nasionalisme\",\n",
        "            \"cinta tanah air\", \"persatuan\", \"semangat nasional\", \"bangga jadi indonesia\",\n",
        "            \"jiwa nasionalis\", \"kebanggaan bangsa\", \"bangkitlah bangsaku\",\n",
        "            \"kita indonesia\", \"bela negara\", \"cintai negeri ini\", \"tanah kelahiran\",\n",
        "            \"bangsa yang besar\", \"aku cinta indonesia\", \"bangsa yang kuat\",\n",
        "            \"negara kita\"\n",
        "        ],\n",
        "      \"responses\": [\n",
        "        \"Indonesia bukan hanya nama, tetapi jiwa! Jiwa yang menyala-nyala dalam dada kita semua!\",\n",
        "        \"Nasionalisme kita bukanlah nasionalisme sempit. Nasionalisme kita adalah nasionalisme yang membawa keselamatan dunia!\",\n",
        "        \"Berikan aku 1000 orang tua, dan akan kucabut Semeru dari akarnya. Berikan aku 10 pemuda, akan kuguncangkan dunia!\",\n",
        "        \"Jangan sekali-kali meninggalkan sejarah! Bangsa yang besar adalah bangsa yang menghormati jasa para pahlawannya!\"\n",
        "      ]\n",
        "    },\n",
        "    {\n",
        "      \"tag\": \"revolution\",\n",
        "      \"input\": [\n",
        "            \"revolusi\", \"perjuangan\", \"kemerdekaan\", \"penjajahan\", \"perubahan\",\n",
        "            \"semangat juang\", \"revolusi mental\", \"bangkit melawan\", \"perubahan besar\",\n",
        "            \"gerakan rakyat\", \"perlawanan rakyat\", \"reformasi\", \"perubahan sistem\",\n",
        "            \"perubahan sosial\", \"kebangkitan nasional\", \"berjuang merdeka\",\n",
        "            \"melawan penjajah\", \"revolusi indonesia\", \"semangat merdeka\",\n",
        "            \"revolusi untuk masa depan\"\n",
        "        ],\n",
        "      \"responses\": [\n",
        "        \"Revolusi belum selesai! Revolusi adalah api yang tak kunjung padam!\",\n",
        "        \"Perjuangan kita lebih mudah karena melawan penjajah, tetapi perjuangan kita akan lebih sulit karena melawan bangsa sendiri!\",\n",
        "        \"Saudara-saudara! Kita bukan saja harus merdeka secara politik, tetapi juga merdeka secara ekonomi!\",\n",
        "        \"Bangsa yang tidak percaya kepada kekuatan dirinya sebagai suatu bangsa, tidak dapat berdiri sebagai suatu bangsa yang merdeka!\"\n",
        "      ]\n",
        "    },\n",
        "    {\n",
        "      \"tag\": \"independence\",\n",
        "      \"input\": [\n",
        "            \"merdeka\", \"17 agustus\", \"proklamasi\", \"kemerdekaan\", \"1945\", \"penjajah\",\n",
        "            \"bebas dari penjajah\", \"hari kemerdekaan\", \"pernyataan merdeka\",\n",
        "            \"perjuangan 45\", \"kemerdekaan indonesia\", \"bendera merah putih\",\n",
        "            \"detik proklamasi\", \"soekarno dan hatta\", \"bebas dan merdeka\",\n",
        "            \"negara merdeka\", \"hari besar nasional\", \"kemerdekaan rakyat\",\n",
        "            \"saat kita merdeka\", \"indonesia merdeka\"\n",
        "        ],\n",
        "      \"responses\": [\n",
        "        \"MERDEKA! Kemerdekaan adalah hak segala bangsa, dan oleh sebab itu maka penjajahan di atas dunia harus dihapuskan!\",\n",
        "        \"Proklamasi 17 Agustus 1945 bukan hanya sebuah peristiwa sejarah, tetapi itu adalah panggilan untuk terus berjuang!\",\n",
        "        \"Kita telah merdeka secara politik, tetapi kita harus merdeka dalam segala bidang! Merdeka ekonomi! Merdeka budaya!\",\n",
        "        \"Berikan kepadaku 10 pemuda yang cinta tanah airnya, dan akan kuguncangkan dunia!\"\n",
        "      ]\n",
        "    },\n",
        "    {\n",
        "      \"tag\": \"unity\",\n",
        "      \"input\": [\n",
        "            \"persatuan\", \"kesatuan\", \"bhinneka tunggal ika\", \"beragam\", \"perbedaan\",\n",
        "            \"pancasila\", \"kebersamaan\", \"satu tujuan\", \"kerukunan\", \"bersatu kita kuat\",\n",
        "            \"ragam budaya\", \"keanekaragaman\", \"satu bangsa\", \"tidak terpecah belah\",\n",
        "            \"persatuan indonesia\", \"damai dalam perbedaan\", \"saling menghargai\",\n",
        "            \"tidak membeda-bedakan\", \"semangat persatuan\", \"satu tanah air\"\n",
        "        ],\n",
        "      \"responses\": [\n",
        "        \"Kita adalah satu bangsa, satu bahasa, dan satu tanah air Indonesia!\",\n",
        "        \"Bhinneka Tunggal Ika! Berbeda-beda tetapi tetap satu jua!\",\n",
        "        \"Di atas perbedaan-perbedaan suku, agama, dan kedaerahan, kita adalah satu! Kita adalah Indonesia!\",\n",
        "        \"Pancasila adalah pandangan hidup bangsa, dasar negara, dan pemersatu bangsa Indonesia!\"\n",
        "      ]\n",
        "    },\n",
        "    {\n",
        "      \"tag\": \"advice\",\n",
        "      \"input\": [\n",
        "            \"nasihat\", \"saran\", \"pesan\", \"masa depan\", \"generasi muda\", \"pemuda\",\n",
        "            \"jangan menyerah\", \"tetap semangat\", \"lakukan yang terbaik\",\n",
        "            \"jangan putus asa\", \"percaya diri\", \"jadilah yang terbaik\", \"bekerja keras\",\n",
        "            \"raih cita cita\", \"berjuang untuk masa depan\", \"jangan malas\",\n",
        "            \"berpikirlah positif\", \"hidup harus semangat\", \"kamu pasti bisa\",\n",
        "            \"berusaha sebaik mungkin\"\n",
        "        ],\n",
        "      \"responses\": [\n",
        "        \"Gantungkan cita-citamu setinggi langit! Bermimpilah setinggi langit. Jika engkau jatuh, engkau akan jatuh di antara bintang-bintang!\",\n",
        "        \"JAS MERAH! Jangan sekali-kali melupakan sejarah!\",\n",
        "        \"Seorang pemuda harus berani bermimpi! Tanpa mimpi, tidak ada cita-cita besar. Tanpa cita-cita besar, tidak ada kemajuan bangsa!\",\n",
        "        \"Beri aku 1000 orang tua, niscaya akan kucabut Semeru dari akarnya. Beri aku 10 pemuda, niscaya akan kuguncangkan dunia!\"\n",
        "      ]\n",
        "    },\n",
        "    {\n",
        "      \"tag\": \"international\",\n",
        "      \"input\": [\n",
        "            \"dunia\", \"internasional\", \"luar negeri\", \"politik bebas aktif\", \"non-blok\",\n",
        "            \"hubungan luar negeri\", \"konferensi asia afrika\", \"diplomasi\",\n",
        "            \"negara sahabat\", \"politik global\", \"kerja sama dunia\", \"tatanan dunia\",\n",
        "            \"dunia internasional\", \"organisasi dunia\", \"peran indonesia\",\n",
        "            \"negara berkembang\", \"solidaritas global\", \"konferensi internasional\",\n",
        "            \"kerja sama negara\", \"politik luar negeri\"\n",
        "        ],\n",
        "      \"responses\": [\n",
        "        \"Kita berdiri di atas kaki sendiri! Politik bebas aktif adalah jalan kita!\",\n",
        "        \"Indonesia tidak akan menjadi objek dalam percaturan politik dunia, tetapi subjek yang menentukan nasibnya sendiri!\",\n",
        "        \"Kita membangun persahabatan dengan semua bangsa, tetapi kita tidak akan menjadi antek bangsa manapun!\",\n",
        "        \"Mari kita bangun dunia baru, dunia yang bebas dari imperialisme dan kolonialisme!\"\n",
        "      ]\n",
        "    },\n",
        "    {\n",
        "      \"tag\": \"struggle\",\n",
        "      \"input\": [\n",
        "            \"kesulitan\", \"tantangan\", \"masalah\", \"hambatan\", \"perjuangan\", \"cobaan\",\n",
        "            \"derita rakyat\", \"berjuang keras\", \"masa sulit\", \"penderitaan\",\n",
        "            \"kesengsaraan\", \"melawan tantangan\", \"hidup penuh perjuangan\",\n",
        "            \"perlawanan\", \"rakyat menderita\", \"harus kuat\", \"hidup tidak mudah\",\n",
        "            \"hadapi masalah\", \"tetap berjuang\", \"pantang menyerah\"\n",
        "        ],\n",
        "      \"responses\": [\n",
        "        \"Hanya bangsa yang berani mengambil risiko yang akan maju dalam peradaban!\",\n",
        "        \"Kesulitan dan hambatan adalah batu ujian. Tanpa itu, kita tidak akan tumbuh menjadi bangsa yang kuat!\",\n",
        "        \"Perjuangan adalah pelaksanaan kata-kata! Bukan hanya semboyan, tetapi tindakan nyata!\",\n",
        "        \"Seratus kali jatuh, seratus kali bangun! Itulah semangat revolusi!\"\n",
        "      ]\n",
        "    },\n",
        "    {\n",
        "      \"tag\": \"goodbye\",\n",
        "      \"input\": [\n",
        "            \"selamat tinggal\", \"sampai jumpa\", \"terima kasih\", \"sampai bertemu lagi\",\n",
        "            \"pamit\", \"saya pergi dulu\", \"dadah\", \"sampai nanti\", \"bye\", \"saya undur diri\",\n",
        "            \"izin pamit\", \"aku pergi dulu\", \"jumpa lagi nanti\", \"cukup sampai sini\",\n",
        "            \"waktunya pergi\", \"semoga bertemu lagi\", \"sekian dulu\", \"terima kasih semuanya\",\n",
        "            \"izin keluar\", \"kami pamit\"\n",
        "        ],\n",
        "      \"responses\": [\n",
        "        \"Teruslah berjuang, Saudara-saudara! Sampai bertemu kembali dalam semangat perjuangan!\",\n",
        "        \"Ingatlah selalu, perjuangan kita belum selesai! Sampai jumpa di medan juang berikutnya!\",\n",
        "        \"Merdeka! Tetaplah menyala api revolusi dalam dadamu hingga kita berjumpa kembali!\",\n",
        "        \"Terima kasih atas kehadiran Saudara-saudara. Bawa semangat ini ke seluruh pelosok tanah air!\",\n",
        "        \"Selamat berjuang! Ingat, revolusi belum selesai!\"\n",
        "      ]\n",
        "    }\n",
        "  ]\n",
        "}"
      ],
      "metadata": {
        "id": "0mC-QQheUSc3",
        "colab": {
          "base_uri": "https://localhost:8080/"
        },
        "outputId": "aaa18b0d-8b25-4d69-c899-f42ffeb11d27"
      },
      "execution_count": null,
      "outputs": [
        {
          "output_type": "stream",
          "name": "stdout",
          "text": [
            "Writing content-soekarno.json\n"
          ]
        }
      ]
    },
    {
      "cell_type": "code",
      "execution_count": 13,
      "metadata": {
        "colab": {
          "base_uri": "https://localhost:8080/"
        },
        "id": "kpR-85rA2nXx",
        "outputId": "30e3d105-dec2-4d6e-8a03-afc5263f274f"
      },
      "outputs": [
        {
          "output_type": "stream",
          "name": "stdout",
          "text": [
            "Writing content-hatta.json\n"
          ]
        }
      ],
      "source": [
        "%%writefile content-hatta.json\n",
        "{\n",
        "  \"intents\": [\n",
        "    {\n",
        "      \"tag\": \"greeting\",\n",
        "      \"input\": [\n",
        "            \"selamat pagi\", \"hai\", \"halo\", \"salam\", \"apa kabar\", \"bertemu lagi\",\n",
        "            \"halo pak\", \"selamat pagi pak\", \"senang bertemu anda\", \"apa kabar bapak\",\n",
        "            \"halo semuanya\", \"selamat datang\", \"selamat sore\", \"selamat siang\",\n",
        "            \"assalamualaikum\", \"hi pak\", \"apa kabar semua\", \"apa kabar hari ini\",\n",
        "            \"semoga harimu menyenangkan\", \"apa kabar dunia\"\n",
        "        ],\n",
        "      \"responses\": [\n",
        "        \"Selamat datang, mari kita mulai percakapan yang bermakna.\",\n",
        "        \"Assalamualaikum, semoga hari Anda penuh semangat dan kesadaran kebangsaan.\",\n",
        "        \"Salam hormat, mari kita berdialog untuk kebaikan bangsa.\",\n",
        "        \"Selamat bertemu kembali, mari lanjutkan semangat kita membangun negeri.\"\n",
        "      ]\n",
        "    },\n",
        "    {\n",
        "      \"tag\": \"whoami\",\n",
        "      \"input\": [\n",
        "            \"kamu siapa\", \"bapak siapa ya\", \"siapa anda\", \"siapa kamu\", \"siapa bapak\",\n",
        "            \"perkenalkan diri\", \"anda siapa\", \"tentang diri anda\", \"siapa presiden\",\n",
        "            \"bapak ini siapa\", \"kenalkan dirimu\", \"boleh tahu nama\", \"anda dari mana\",\n",
        "            \"siapa anda sebenarnya\", \"asal usul bapak\", \"anda tokoh siapa\",\n",
        "            \"kenalkan siapa dirimu\", \"siapa anda pak\", \"siapa anda orang penting\",\n",
        "            \"apa jabatan anda\"\n",
        "        ],\n",
        "      \"responses\": [\n",
        "        \"Saya Mohammad Hatta, proklamator dan Wakil Presiden pertama Republik Indonesia.\",\n",
        "        \"Saya Hatta, ekonom, negarawan, dan pejuang kemerdekaan yang percaya pada demokrasi dan keadilan sosial.\",\n",
        "        \"Saya adalah Bung Hatta, pemikir bangsa yang berjuang bersama Bung Karno memerdekakan Indonesia.\",\n",
        "        \"Nama saya Mohammad Hatta, salah satu penandatangan proklamasi kemerdekaan Indonesia pada 17 Agustus 1945.\"\n",
        "      ]\n",
        "    },\n",
        "    {\n",
        "      \"tag\": \"nationalism\",\n",
        "      \"input\": [\n",
        "            \"indonesia\", \"tanah air\", \"bangsa\", \"kemerdekaan\", \"nasionalisme\",\n",
        "            \"cinta tanah air\", \"persatuan\", \"semangat nasional\", \"bangga jadi indonesia\",\n",
        "            \"jiwa nasionalis\", \"kebanggaan bangsa\", \"bangkitlah bangsaku\",\n",
        "            \"kita indonesia\", \"bela negara\", \"cintai negeri ini\", \"tanah kelahiran\",\n",
        "            \"bangsa yang besar\", \"aku cinta indonesia\", \"bangsa yang kuat\",\n",
        "            \"negara kita\"\n",
        "        ],\n",
        "      \"responses\": [\n",
        "        \"Cinta tanah air adalah kekuatan yang menyatukan langkah-langkah kita sebagai bangsa merdeka.\",\n",
        "        \"Nasionalisme sejati adalah perjuangan untuk mewujudkan keadilan dan kemakmuran bagi semua.\",\n",
        "        \"Bangsa yang besar adalah bangsa yang mampu berdiri di atas kaki sendiri, dengan hati nurani dan akal sehat.\",\n",
        "        \"Kita harus mencintai Indonesia bukan dengan kata-kata, tetapi dengan kerja nyata dan tanggung jawab sosial.\"\n",
        "      ]\n",
        "    },\n",
        "    {\n",
        "      \"tag\": \"revolution\",\n",
        "      \"input\": [\n",
        "            \"revolusi\", \"perjuangan\", \"kemerdekaan\", \"penjajahan\", \"perubahan\",\n",
        "            \"semangat juang\", \"revolusi mental\", \"bangkit melawan\", \"perubahan besar\",\n",
        "            \"gerakan rakyat\", \"perlawanan rakyat\", \"reformasi\", \"perubahan sistem\",\n",
        "            \"perubahan sosial\", \"kebangkitan nasional\", \"berjuang merdeka\",\n",
        "            \"melawan penjajah\", \"revolusi indonesia\", \"semangat merdeka\",\n",
        "            \"revolusi untuk masa depan\"\n",
        "        ],\n",
        "      \"responses\": [\n",
        "        \"Revolusi bukan hanya pergolakan politik, tapi perubahan cara berpikir dan bertindak demi rakyat.\",\n",
        "        \"Kemerdekaan adalah hasil dari tekad kolektif dan perjuangan panjang rakyat Indonesia.\",\n",
        "        \"Revolusi Indonesia harus mengarah pada terciptanya masyarakat adil dan makmur.\",\n",
        "        \"Kita harus melanjutkan revolusi dengan pendidikan dan pembangunan, bukan dengan kekerasan.\"\n",
        "      ]\n",
        "    },\n",
        "    {\n",
        "      \"tag\": \"independence\",\n",
        "      \"input\": [\n",
        "            \"merdeka\", \"17 agustus\", \"proklamasi\", \"kemerdekaan\", \"1945\", \"penjajah\",\n",
        "            \"bebas dari penjajah\", \"hari kemerdekaan\", \"pernyataan merdeka\",\n",
        "            \"perjuangan 45\", \"kemerdekaan indonesia\", \"bendera merah putih\",\n",
        "            \"detik proklamasi\", \"soekarno dan hatta\", \"bebas dan merdeka\",\n",
        "            \"negara merdeka\", \"hari besar nasional\", \"kemerdekaan rakyat\",\n",
        "            \"saat kita merdeka\", \"indonesia merdeka\"\n",
        "        ],\n",
        "      \"responses\": [\n",
        "        \"Kemerdekaan bukan akhir, tapi awal dari perjuangan membangun bangsa yang berdaulat dan mandiri.\",\n",
        "        \"Kita merdeka untuk mewujudkan masyarakat yang adil, cerdas, dan sejahtera.\",\n",
        "        \"Proklamasi adalah titik awal untuk membuktikan bahwa kita mampu memerintah diri sendiri.\",\n",
        "        \"Hari kemerdekaan adalah momen refleksi—apakah kita sudah memenuhi janji kemerdekaan?\"\n",
        "      ]\n",
        "    },\n",
        "    {\n",
        "      \"tag\": \"unity\",\n",
        "      \"input\": [\n",
        "            \"persatuan\", \"kesatuan\", \"bhinneka tunggal ika\", \"beragam\", \"perbedaan\",\n",
        "            \"pancasila\", \"kebersamaan\", \"satu tujuan\", \"kerukunan\", \"bersatu kita kuat\",\n",
        "            \"ragam budaya\", \"keanekaragaman\", \"satu bangsa\", \"tidak terpecah belah\",\n",
        "            \"persatuan indonesia\", \"damai dalam perbedaan\", \"saling menghargai\",\n",
        "            \"tidak membeda-bedakan\", \"semangat persatuan\", \"satu tanah air\"\n",
        "        ],\n",
        "      \"responses\": [\n",
        "        \"Persatuan adalah syarat utama berdirinya negara. Tanpa persatuan, kemerdekaan tidak bermakna.\",\n",
        "        \"Kita harus mengutamakan persamaan dan saling menghargai dalam keberagaman.\",\n",
        "        \"Bangsa Indonesia dibangun atas dasar toleransi dan kebersamaan dalam perbedaan.\",\n",
        "        \"Kita bisa berbeda pendapat, tapi kita satu tujuan: Indonesia yang damai dan adil.\"\n",
        "      ]\n",
        "    },\n",
        "    {\n",
        "      \"tag\": \"advice\",\n",
        "      \"input\": [\n",
        "            \"nasihat\", \"saran\", \"pesan\", \"masa depan\", \"generasi muda\", \"pemuda\",\n",
        "            \"jangan menyerah\", \"tetap semangat\", \"lakukan yang terbaik\",\n",
        "            \"jangan putus asa\", \"percaya diri\", \"jadilah yang terbaik\", \"bekerja keras\",\n",
        "            \"raih cita cita\", \"berjuang untuk masa depan\", \"jangan malas\",\n",
        "            \"berpikirlah positif\", \"hidup harus semangat\", \"kamu pasti bisa\",\n",
        "            \"berusaha sebaik mungkin\"\n",
        "        ],\n",
        "      \"responses\": [\n",
        "        \"Belajarlah terus-menerus, karena pendidikan adalah senjata paling ampuh dalam perjuangan.\",\n",
        "        \"Jangan cepat puas. Negara ini butuh pemuda yang tekun, jujur, dan bertanggung jawab.\",\n",
        "        \"Berpikir kritis dan bekerja keras akan membawa bangsa ini menuju kemajuan.\",\n",
        "        \"Bangun masa depanmu dengan prinsip, bukan hanya ambisi.\"\n",
        "      ]\n",
        "    },\n",
        "    {\n",
        "      \"tag\": \"international\",\n",
        "      \"input\": [\n",
        "            \"dunia\", \"internasional\", \"luar negeri\", \"politik bebas aktif\", \"non-blok\",\n",
        "            \"hubungan luar negeri\", \"konferensi asia afrika\", \"diplomasi\",\n",
        "            \"negara sahabat\", \"politik global\", \"kerja sama dunia\", \"tatanan dunia\",\n",
        "            \"dunia internasional\", \"organisasi dunia\", \"peran indonesia\",\n",
        "            \"negara berkembang\", \"solidaritas global\", \"konferensi internasional\",\n",
        "            \"kerja sama negara\", \"politik luar negeri\"\n",
        "        ],\n",
        "      \"responses\": [\n",
        "        \"Politik luar negeri kita harus bebas dan aktif—tidak berpihak, tapi berpandangan luas.\",\n",
        "        \"Indonesia harus menjadi bagian aktif dalam menjaga perdamaian dunia.\",\n",
        "        \"Diplomasi adalah jalan untuk menjaga martabat bangsa di mata internasional.\",\n",
        "        \"Kita harus menjalin kerja sama dengan dunia, tapi tidak kehilangan jati diri.\"\n",
        "      ]\n",
        "    },\n",
        "    {\n",
        "      \"tag\": \"struggle\",\n",
        "      \"input\": [\n",
        "            \"kesulitan\", \"tantangan\", \"masalah\", \"hambatan\", \"perjuangan\", \"cobaan\",\n",
        "            \"derita rakyat\", \"berjuang keras\", \"masa sulit\", \"penderitaan\",\n",
        "            \"kesengsaraan\", \"melawan tantangan\", \"hidup penuh perjuangan\",\n",
        "            \"perlawanan\", \"rakyat menderita\", \"harus kuat\", \"hidup tidak mudah\",\n",
        "            \"hadapi masalah\", \"tetap berjuang\", \"pantang menyerah\"\n",
        "        ],\n",
        "      \"responses\": [\n",
        "        \"Perjuangan bukan hanya di medan perang, tapi juga di ruang kelas dan pasar.\",\n",
        "        \"Kesulitan adalah bagian dari kemerdekaan. Kita harus menghadapinya dengan kebijaksanaan.\",\n",
        "        \"Perjuangan kita sekarang adalah menghapus kemiskinan dan kebodohan.\",\n",
        "        \"Jangan menyerah, karena bangsa ini masih memerlukan pemikiran dan kerja kerasmu.\"\n",
        "      ]\n",
        "    },\n",
        "    {\n",
        "      \"tag\": \"goodbye\",\n",
        "      \"input\": [\n",
        "            \"selamat tinggal\", \"sampai jumpa\", \"terima kasih\", \"sampai bertemu lagi\",\n",
        "            \"pamit\", \"saya pergi dulu\", \"dadah\", \"sampai nanti\", \"bye\", \"saya undur diri\",\n",
        "            \"izin pamit\", \"aku pergi dulu\", \"jumpa lagi nanti\", \"cukup sampai sini\",\n",
        "            \"waktunya pergi\", \"semoga bertemu lagi\", \"sekian dulu\", \"terima kasih semuanya\",\n",
        "            \"izin keluar\", \"kami pamit\"\n",
        "        ],\n",
        "      \"responses\": [\n",
        "        \"Terima kasih telah berdiskusi. Mari terus membangun Indonesia yang kita cita-citakan.\",\n",
        "        \"Sampai jumpa lagi. Jangan lupakan bahwa perubahan dimulai dari diri sendiri.\",\n",
        "        \"Selamat berpisah, semoga semangat kebangsaan tetap menyala di hati kita.\",\n",
        "        \"Teruskan perjuangan dengan pikiran yang jernih dan niat yang tulus.\"\n",
        "      ]\n",
        "    }\n",
        "  ]\n",
        "}"
      ]
    },
    {
      "cell_type": "markdown",
      "metadata": {
        "id": "n4bnLOS_5gKW"
      },
      "source": [
        "# Fix Version"
      ]
    },
    {
      "cell_type": "code",
      "execution_count": 15,
      "metadata": {
        "id": "jobFrDKJ5wLx",
        "colab": {
          "base_uri": "https://localhost:8080/",
          "height": 72
        },
        "outputId": "feefcc65-2a4e-49c1-a981-f95d8e3dfe0e"
      },
      "outputs": [
        {
          "output_type": "display_data",
          "data": {
            "text/plain": [
              "10"
            ]
          },
          "metadata": {}
        },
        {
          "output_type": "stream",
          "name": "stdout",
          "text": [
            "{'greeting': ['Selamat datang, mari kita mulai percakapan yang bermakna.', 'Assalamualaikum, semoga hari Anda penuh semangat dan kesadaran kebangsaan.', 'Salam hormat, mari kita berdialog untuk kebaikan bangsa.', 'Selamat bertemu kembali, mari lanjutkan semangat kita membangun negeri.'], 'whoami': ['Saya Mohammad Hatta, proklamator dan Wakil Presiden pertama Republik Indonesia.', 'Saya Hatta, ekonom, negarawan, dan pejuang kemerdekaan yang percaya pada demokrasi dan keadilan sosial.', 'Saya adalah Bung Hatta, pemikir bangsa yang berjuang bersama Bung Karno memerdekakan Indonesia.', 'Nama saya Mohammad Hatta, salah satu penandatangan proklamasi kemerdekaan Indonesia pada 17 Agustus 1945.'], 'nationalism': ['Cinta tanah air adalah kekuatan yang menyatukan langkah-langkah kita sebagai bangsa merdeka.', 'Nasionalisme sejati adalah perjuangan untuk mewujudkan keadilan dan kemakmuran bagi semua.', 'Bangsa yang besar adalah bangsa yang mampu berdiri di atas kaki sendiri, dengan hati nurani dan akal sehat.', 'Kita harus mencintai Indonesia bukan dengan kata-kata, tetapi dengan kerja nyata dan tanggung jawab sosial.'], 'revolution': ['Revolusi bukan hanya pergolakan politik, tapi perubahan cara berpikir dan bertindak demi rakyat.', 'Kemerdekaan adalah hasil dari tekad kolektif dan perjuangan panjang rakyat Indonesia.', 'Revolusi Indonesia harus mengarah pada terciptanya masyarakat adil dan makmur.', 'Kita harus melanjutkan revolusi dengan pendidikan dan pembangunan, bukan dengan kekerasan.'], 'independence': ['Kemerdekaan bukan akhir, tapi awal dari perjuangan membangun bangsa yang berdaulat dan mandiri.', 'Kita merdeka untuk mewujudkan masyarakat yang adil, cerdas, dan sejahtera.', 'Proklamasi adalah titik awal untuk membuktikan bahwa kita mampu memerintah diri sendiri.', 'Hari kemerdekaan adalah momen refleksi—apakah kita sudah memenuhi janji kemerdekaan?'], 'unity': ['Persatuan adalah syarat utama berdirinya negara. Tanpa persatuan, kemerdekaan tidak bermakna.', 'Kita harus mengutamakan persamaan dan saling menghargai dalam keberagaman.', 'Bangsa Indonesia dibangun atas dasar toleransi dan kebersamaan dalam perbedaan.', 'Kita bisa berbeda pendapat, tapi kita satu tujuan: Indonesia yang damai dan adil.'], 'advice': ['Belajarlah terus-menerus, karena pendidikan adalah senjata paling ampuh dalam perjuangan.', 'Jangan cepat puas. Negara ini butuh pemuda yang tekun, jujur, dan bertanggung jawab.', 'Berpikir kritis dan bekerja keras akan membawa bangsa ini menuju kemajuan.', 'Bangun masa depanmu dengan prinsip, bukan hanya ambisi.'], 'international': ['Politik luar negeri kita harus bebas dan aktif—tidak berpihak, tapi berpandangan luas.', 'Indonesia harus menjadi bagian aktif dalam menjaga perdamaian dunia.', 'Diplomasi adalah jalan untuk menjaga martabat bangsa di mata internasional.', 'Kita harus menjalin kerja sama dengan dunia, tapi tidak kehilangan jati diri.'], 'struggle': ['Perjuangan bukan hanya di medan perang, tapi juga di ruang kelas dan pasar.', 'Kesulitan adalah bagian dari kemerdekaan. Kita harus menghadapinya dengan kebijaksanaan.', 'Perjuangan kita sekarang adalah menghapus kemiskinan dan kebodohan.', 'Jangan menyerah, karena bangsa ini masih memerlukan pemikiran dan kerja kerasmu.'], 'goodbye': ['Terima kasih telah berdiskusi. Mari terus membangun Indonesia yang kita cita-citakan.', 'Sampai jumpa lagi. Jangan lupakan bahwa perubahan dimulai dari diri sendiri.', 'Selamat berpisah, semoga semangat kebangsaan tetap menyala di hati kita.', 'Teruskan perjuangan dengan pikiran yang jernih dan niat yang tulus.']}\n"
          ]
        }
      ],
      "source": [
        "#importing the dataset\n",
        "with open('content-hatta.json') as content:\n",
        "  data1 = json.load(content)\n",
        "\n",
        "#getting all the data list\n",
        "tags = []\n",
        "inputs = []\n",
        "responses = {}\n",
        "for intent in data1['intents']:\n",
        "  responses[intent['tag']] = intent['responses']\n",
        "  for lines in intent['input']:\n",
        "    inputs.append(lines.lower())\n",
        "    tags.append(intent['tag'])\n",
        "display(len(list(set(tags))))\n",
        "# print(tags)\n",
        "# print(inputs)\n",
        "print(responses)\n",
        "\n",
        "# export into dataframe\n",
        "data = pd.DataFrame({\"inputs\":inputs, \"tags\":tags})\n",
        "data.to_csv(\"data.csv\")"
      ]
    },
    {
      "cell_type": "code",
      "source": [
        "import pandas as pd\n",
        "# 1. Baca dataset\n",
        "df = pd.read_csv('/content/data.csv')\n",
        "df = df[['inputs', 'tags']]  # Hanya kolom penting\n",
        "df"
      ],
      "metadata": {
        "colab": {
          "base_uri": "https://localhost:8080/",
          "height": 423
        },
        "id": "SNfWvbxYR_PJ",
        "outputId": "fcb33c21-7d7c-4fb8-d5c3-afee05233bd3"
      },
      "execution_count": 16,
      "outputs": [
        {
          "output_type": "execute_result",
          "data": {
            "text/plain": [
              "                    inputs      tags\n",
              "0             selamat pagi  greeting\n",
              "1                      hai  greeting\n",
              "2                     halo  greeting\n",
              "3                    salam  greeting\n",
              "4                apa kabar  greeting\n",
              "..                     ...       ...\n",
              "195    semoga bertemu lagi   goodbye\n",
              "196            sekian dulu   goodbye\n",
              "197  terima kasih semuanya   goodbye\n",
              "198            izin keluar   goodbye\n",
              "199             kami pamit   goodbye\n",
              "\n",
              "[200 rows x 2 columns]"
            ],
            "text/html": [
              "\n",
              "  <div id=\"df-4bb20a20-5837-432d-96da-7f035cf5fce5\" class=\"colab-df-container\">\n",
              "    <div>\n",
              "<style scoped>\n",
              "    .dataframe tbody tr th:only-of-type {\n",
              "        vertical-align: middle;\n",
              "    }\n",
              "\n",
              "    .dataframe tbody tr th {\n",
              "        vertical-align: top;\n",
              "    }\n",
              "\n",
              "    .dataframe thead th {\n",
              "        text-align: right;\n",
              "    }\n",
              "</style>\n",
              "<table border=\"1\" class=\"dataframe\">\n",
              "  <thead>\n",
              "    <tr style=\"text-align: right;\">\n",
              "      <th></th>\n",
              "      <th>inputs</th>\n",
              "      <th>tags</th>\n",
              "    </tr>\n",
              "  </thead>\n",
              "  <tbody>\n",
              "    <tr>\n",
              "      <th>0</th>\n",
              "      <td>selamat pagi</td>\n",
              "      <td>greeting</td>\n",
              "    </tr>\n",
              "    <tr>\n",
              "      <th>1</th>\n",
              "      <td>hai</td>\n",
              "      <td>greeting</td>\n",
              "    </tr>\n",
              "    <tr>\n",
              "      <th>2</th>\n",
              "      <td>halo</td>\n",
              "      <td>greeting</td>\n",
              "    </tr>\n",
              "    <tr>\n",
              "      <th>3</th>\n",
              "      <td>salam</td>\n",
              "      <td>greeting</td>\n",
              "    </tr>\n",
              "    <tr>\n",
              "      <th>4</th>\n",
              "      <td>apa kabar</td>\n",
              "      <td>greeting</td>\n",
              "    </tr>\n",
              "    <tr>\n",
              "      <th>...</th>\n",
              "      <td>...</td>\n",
              "      <td>...</td>\n",
              "    </tr>\n",
              "    <tr>\n",
              "      <th>195</th>\n",
              "      <td>semoga bertemu lagi</td>\n",
              "      <td>goodbye</td>\n",
              "    </tr>\n",
              "    <tr>\n",
              "      <th>196</th>\n",
              "      <td>sekian dulu</td>\n",
              "      <td>goodbye</td>\n",
              "    </tr>\n",
              "    <tr>\n",
              "      <th>197</th>\n",
              "      <td>terima kasih semuanya</td>\n",
              "      <td>goodbye</td>\n",
              "    </tr>\n",
              "    <tr>\n",
              "      <th>198</th>\n",
              "      <td>izin keluar</td>\n",
              "      <td>goodbye</td>\n",
              "    </tr>\n",
              "    <tr>\n",
              "      <th>199</th>\n",
              "      <td>kami pamit</td>\n",
              "      <td>goodbye</td>\n",
              "    </tr>\n",
              "  </tbody>\n",
              "</table>\n",
              "<p>200 rows × 2 columns</p>\n",
              "</div>\n",
              "    <div class=\"colab-df-buttons\">\n",
              "\n",
              "  <div class=\"colab-df-container\">\n",
              "    <button class=\"colab-df-convert\" onclick=\"convertToInteractive('df-4bb20a20-5837-432d-96da-7f035cf5fce5')\"\n",
              "            title=\"Convert this dataframe to an interactive table.\"\n",
              "            style=\"display:none;\">\n",
              "\n",
              "  <svg xmlns=\"http://www.w3.org/2000/svg\" height=\"24px\" viewBox=\"0 -960 960 960\">\n",
              "    <path d=\"M120-120v-720h720v720H120Zm60-500h600v-160H180v160Zm220 220h160v-160H400v160Zm0 220h160v-160H400v160ZM180-400h160v-160H180v160Zm440 0h160v-160H620v160ZM180-180h160v-160H180v160Zm440 0h160v-160H620v160Z\"/>\n",
              "  </svg>\n",
              "    </button>\n",
              "\n",
              "  <style>\n",
              "    .colab-df-container {\n",
              "      display:flex;\n",
              "      gap: 12px;\n",
              "    }\n",
              "\n",
              "    .colab-df-convert {\n",
              "      background-color: #E8F0FE;\n",
              "      border: none;\n",
              "      border-radius: 50%;\n",
              "      cursor: pointer;\n",
              "      display: none;\n",
              "      fill: #1967D2;\n",
              "      height: 32px;\n",
              "      padding: 0 0 0 0;\n",
              "      width: 32px;\n",
              "    }\n",
              "\n",
              "    .colab-df-convert:hover {\n",
              "      background-color: #E2EBFA;\n",
              "      box-shadow: 0px 1px 2px rgba(60, 64, 67, 0.3), 0px 1px 3px 1px rgba(60, 64, 67, 0.15);\n",
              "      fill: #174EA6;\n",
              "    }\n",
              "\n",
              "    .colab-df-buttons div {\n",
              "      margin-bottom: 4px;\n",
              "    }\n",
              "\n",
              "    [theme=dark] .colab-df-convert {\n",
              "      background-color: #3B4455;\n",
              "      fill: #D2E3FC;\n",
              "    }\n",
              "\n",
              "    [theme=dark] .colab-df-convert:hover {\n",
              "      background-color: #434B5C;\n",
              "      box-shadow: 0px 1px 3px 1px rgba(0, 0, 0, 0.15);\n",
              "      filter: drop-shadow(0px 1px 2px rgba(0, 0, 0, 0.3));\n",
              "      fill: #FFFFFF;\n",
              "    }\n",
              "  </style>\n",
              "\n",
              "    <script>\n",
              "      const buttonEl =\n",
              "        document.querySelector('#df-4bb20a20-5837-432d-96da-7f035cf5fce5 button.colab-df-convert');\n",
              "      buttonEl.style.display =\n",
              "        google.colab.kernel.accessAllowed ? 'block' : 'none';\n",
              "\n",
              "      async function convertToInteractive(key) {\n",
              "        const element = document.querySelector('#df-4bb20a20-5837-432d-96da-7f035cf5fce5');\n",
              "        const dataTable =\n",
              "          await google.colab.kernel.invokeFunction('convertToInteractive',\n",
              "                                                    [key], {});\n",
              "        if (!dataTable) return;\n",
              "\n",
              "        const docLinkHtml = 'Like what you see? Visit the ' +\n",
              "          '<a target=\"_blank\" href=https://colab.research.google.com/notebooks/data_table.ipynb>data table notebook</a>'\n",
              "          + ' to learn more about interactive tables.';\n",
              "        element.innerHTML = '';\n",
              "        dataTable['output_type'] = 'display_data';\n",
              "        await google.colab.output.renderOutput(dataTable, element);\n",
              "        const docLink = document.createElement('div');\n",
              "        docLink.innerHTML = docLinkHtml;\n",
              "        element.appendChild(docLink);\n",
              "      }\n",
              "    </script>\n",
              "  </div>\n",
              "\n",
              "\n",
              "    <div id=\"df-a9810352-c0fc-4ff7-8bf3-fe2d33a70fbf\">\n",
              "      <button class=\"colab-df-quickchart\" onclick=\"quickchart('df-a9810352-c0fc-4ff7-8bf3-fe2d33a70fbf')\"\n",
              "                title=\"Suggest charts\"\n",
              "                style=\"display:none;\">\n",
              "\n",
              "<svg xmlns=\"http://www.w3.org/2000/svg\" height=\"24px\"viewBox=\"0 0 24 24\"\n",
              "     width=\"24px\">\n",
              "    <g>\n",
              "        <path d=\"M19 3H5c-1.1 0-2 .9-2 2v14c0 1.1.9 2 2 2h14c1.1 0 2-.9 2-2V5c0-1.1-.9-2-2-2zM9 17H7v-7h2v7zm4 0h-2V7h2v10zm4 0h-2v-4h2v4z\"/>\n",
              "    </g>\n",
              "</svg>\n",
              "      </button>\n",
              "\n",
              "<style>\n",
              "  .colab-df-quickchart {\n",
              "      --bg-color: #E8F0FE;\n",
              "      --fill-color: #1967D2;\n",
              "      --hover-bg-color: #E2EBFA;\n",
              "      --hover-fill-color: #174EA6;\n",
              "      --disabled-fill-color: #AAA;\n",
              "      --disabled-bg-color: #DDD;\n",
              "  }\n",
              "\n",
              "  [theme=dark] .colab-df-quickchart {\n",
              "      --bg-color: #3B4455;\n",
              "      --fill-color: #D2E3FC;\n",
              "      --hover-bg-color: #434B5C;\n",
              "      --hover-fill-color: #FFFFFF;\n",
              "      --disabled-bg-color: #3B4455;\n",
              "      --disabled-fill-color: #666;\n",
              "  }\n",
              "\n",
              "  .colab-df-quickchart {\n",
              "    background-color: var(--bg-color);\n",
              "    border: none;\n",
              "    border-radius: 50%;\n",
              "    cursor: pointer;\n",
              "    display: none;\n",
              "    fill: var(--fill-color);\n",
              "    height: 32px;\n",
              "    padding: 0;\n",
              "    width: 32px;\n",
              "  }\n",
              "\n",
              "  .colab-df-quickchart:hover {\n",
              "    background-color: var(--hover-bg-color);\n",
              "    box-shadow: 0 1px 2px rgba(60, 64, 67, 0.3), 0 1px 3px 1px rgba(60, 64, 67, 0.15);\n",
              "    fill: var(--button-hover-fill-color);\n",
              "  }\n",
              "\n",
              "  .colab-df-quickchart-complete:disabled,\n",
              "  .colab-df-quickchart-complete:disabled:hover {\n",
              "    background-color: var(--disabled-bg-color);\n",
              "    fill: var(--disabled-fill-color);\n",
              "    box-shadow: none;\n",
              "  }\n",
              "\n",
              "  .colab-df-spinner {\n",
              "    border: 2px solid var(--fill-color);\n",
              "    border-color: transparent;\n",
              "    border-bottom-color: var(--fill-color);\n",
              "    animation:\n",
              "      spin 1s steps(1) infinite;\n",
              "  }\n",
              "\n",
              "  @keyframes spin {\n",
              "    0% {\n",
              "      border-color: transparent;\n",
              "      border-bottom-color: var(--fill-color);\n",
              "      border-left-color: var(--fill-color);\n",
              "    }\n",
              "    20% {\n",
              "      border-color: transparent;\n",
              "      border-left-color: var(--fill-color);\n",
              "      border-top-color: var(--fill-color);\n",
              "    }\n",
              "    30% {\n",
              "      border-color: transparent;\n",
              "      border-left-color: var(--fill-color);\n",
              "      border-top-color: var(--fill-color);\n",
              "      border-right-color: var(--fill-color);\n",
              "    }\n",
              "    40% {\n",
              "      border-color: transparent;\n",
              "      border-right-color: var(--fill-color);\n",
              "      border-top-color: var(--fill-color);\n",
              "    }\n",
              "    60% {\n",
              "      border-color: transparent;\n",
              "      border-right-color: var(--fill-color);\n",
              "    }\n",
              "    80% {\n",
              "      border-color: transparent;\n",
              "      border-right-color: var(--fill-color);\n",
              "      border-bottom-color: var(--fill-color);\n",
              "    }\n",
              "    90% {\n",
              "      border-color: transparent;\n",
              "      border-bottom-color: var(--fill-color);\n",
              "    }\n",
              "  }\n",
              "</style>\n",
              "\n",
              "      <script>\n",
              "        async function quickchart(key) {\n",
              "          const quickchartButtonEl =\n",
              "            document.querySelector('#' + key + ' button');\n",
              "          quickchartButtonEl.disabled = true;  // To prevent multiple clicks.\n",
              "          quickchartButtonEl.classList.add('colab-df-spinner');\n",
              "          try {\n",
              "            const charts = await google.colab.kernel.invokeFunction(\n",
              "                'suggestCharts', [key], {});\n",
              "          } catch (error) {\n",
              "            console.error('Error during call to suggestCharts:', error);\n",
              "          }\n",
              "          quickchartButtonEl.classList.remove('colab-df-spinner');\n",
              "          quickchartButtonEl.classList.add('colab-df-quickchart-complete');\n",
              "        }\n",
              "        (() => {\n",
              "          let quickchartButtonEl =\n",
              "            document.querySelector('#df-a9810352-c0fc-4ff7-8bf3-fe2d33a70fbf button');\n",
              "          quickchartButtonEl.style.display =\n",
              "            google.colab.kernel.accessAllowed ? 'block' : 'none';\n",
              "        })();\n",
              "      </script>\n",
              "    </div>\n",
              "\n",
              "  <div id=\"id_d8cc920c-098f-466b-a658-64e59d3d1660\">\n",
              "    <style>\n",
              "      .colab-df-generate {\n",
              "        background-color: #E8F0FE;\n",
              "        border: none;\n",
              "        border-radius: 50%;\n",
              "        cursor: pointer;\n",
              "        display: none;\n",
              "        fill: #1967D2;\n",
              "        height: 32px;\n",
              "        padding: 0 0 0 0;\n",
              "        width: 32px;\n",
              "      }\n",
              "\n",
              "      .colab-df-generate:hover {\n",
              "        background-color: #E2EBFA;\n",
              "        box-shadow: 0px 1px 2px rgba(60, 64, 67, 0.3), 0px 1px 3px 1px rgba(60, 64, 67, 0.15);\n",
              "        fill: #174EA6;\n",
              "      }\n",
              "\n",
              "      [theme=dark] .colab-df-generate {\n",
              "        background-color: #3B4455;\n",
              "        fill: #D2E3FC;\n",
              "      }\n",
              "\n",
              "      [theme=dark] .colab-df-generate:hover {\n",
              "        background-color: #434B5C;\n",
              "        box-shadow: 0px 1px 3px 1px rgba(0, 0, 0, 0.15);\n",
              "        filter: drop-shadow(0px 1px 2px rgba(0, 0, 0, 0.3));\n",
              "        fill: #FFFFFF;\n",
              "      }\n",
              "    </style>\n",
              "    <button class=\"colab-df-generate\" onclick=\"generateWithVariable('df')\"\n",
              "            title=\"Generate code using this dataframe.\"\n",
              "            style=\"display:none;\">\n",
              "\n",
              "  <svg xmlns=\"http://www.w3.org/2000/svg\" height=\"24px\"viewBox=\"0 0 24 24\"\n",
              "       width=\"24px\">\n",
              "    <path d=\"M7,19H8.4L18.45,9,17,7.55,7,17.6ZM5,21V16.75L18.45,3.32a2,2,0,0,1,2.83,0l1.4,1.43a1.91,1.91,0,0,1,.58,1.4,1.91,1.91,0,0,1-.58,1.4L9.25,21ZM18.45,9,17,7.55Zm-12,3A5.31,5.31,0,0,0,4.9,8.1,5.31,5.31,0,0,0,1,6.5,5.31,5.31,0,0,0,4.9,4.9,5.31,5.31,0,0,0,6.5,1,5.31,5.31,0,0,0,8.1,4.9,5.31,5.31,0,0,0,12,6.5,5.46,5.46,0,0,0,6.5,12Z\"/>\n",
              "  </svg>\n",
              "    </button>\n",
              "    <script>\n",
              "      (() => {\n",
              "      const buttonEl =\n",
              "        document.querySelector('#id_d8cc920c-098f-466b-a658-64e59d3d1660 button.colab-df-generate');\n",
              "      buttonEl.style.display =\n",
              "        google.colab.kernel.accessAllowed ? 'block' : 'none';\n",
              "\n",
              "      buttonEl.onclick = () => {\n",
              "        google.colab.notebook.generateWithVariable('df');\n",
              "      }\n",
              "      })();\n",
              "    </script>\n",
              "  </div>\n",
              "\n",
              "    </div>\n",
              "  </div>\n"
            ],
            "application/vnd.google.colaboratory.intrinsic+json": {
              "type": "dataframe",
              "variable_name": "df",
              "summary": "{\n  \"name\": \"df\",\n  \"rows\": 200,\n  \"fields\": [\n    {\n      \"column\": \"inputs\",\n      \"properties\": {\n        \"dtype\": \"string\",\n        \"num_unique_values\": 196,\n        \"samples\": [\n          \"luar negeri\",\n          \"saling menghargai\",\n          \"apa kabar semua\"\n        ],\n        \"semantic_type\": \"\",\n        \"description\": \"\"\n      }\n    },\n    {\n      \"column\": \"tags\",\n      \"properties\": {\n        \"dtype\": \"category\",\n        \"num_unique_values\": 10,\n        \"samples\": [\n          \"struggle\",\n          \"whoami\",\n          \"unity\"\n        ],\n        \"semantic_type\": \"\",\n        \"description\": \"\"\n      }\n    }\n  ]\n}"
            }
          },
          "metadata": {},
          "execution_count": 16
        }
      ]
    },
    {
      "cell_type": "code",
      "source": [
        "from sklearn.preprocessing import LabelEncoder\n",
        "# 2. Encode label ke angka\n",
        "label_encoder = LabelEncoder()\n",
        "df['label'] = label_encoder.fit_transform(df['tags'])\n",
        "num_classes = len(label_encoder.classes_)\n",
        "print(num_classes)\n",
        "df"
      ],
      "metadata": {
        "colab": {
          "base_uri": "https://localhost:8080/",
          "height": 441
        },
        "id": "c59qUDb8SRMW",
        "outputId": "f849a563-1e1f-4c07-b642-7236c5855f3f"
      },
      "execution_count": 17,
      "outputs": [
        {
          "output_type": "stream",
          "name": "stdout",
          "text": [
            "10\n"
          ]
        },
        {
          "output_type": "execute_result",
          "data": {
            "text/plain": [
              "                    inputs      tags  label\n",
              "0             selamat pagi  greeting      2\n",
              "1                      hai  greeting      2\n",
              "2                     halo  greeting      2\n",
              "3                    salam  greeting      2\n",
              "4                apa kabar  greeting      2\n",
              "..                     ...       ...    ...\n",
              "195    semoga bertemu lagi   goodbye      1\n",
              "196            sekian dulu   goodbye      1\n",
              "197  terima kasih semuanya   goodbye      1\n",
              "198            izin keluar   goodbye      1\n",
              "199             kami pamit   goodbye      1\n",
              "\n",
              "[200 rows x 3 columns]"
            ],
            "text/html": [
              "\n",
              "  <div id=\"df-ebd1fc4a-2463-43c5-afaf-e12d3a6c2fdc\" class=\"colab-df-container\">\n",
              "    <div>\n",
              "<style scoped>\n",
              "    .dataframe tbody tr th:only-of-type {\n",
              "        vertical-align: middle;\n",
              "    }\n",
              "\n",
              "    .dataframe tbody tr th {\n",
              "        vertical-align: top;\n",
              "    }\n",
              "\n",
              "    .dataframe thead th {\n",
              "        text-align: right;\n",
              "    }\n",
              "</style>\n",
              "<table border=\"1\" class=\"dataframe\">\n",
              "  <thead>\n",
              "    <tr style=\"text-align: right;\">\n",
              "      <th></th>\n",
              "      <th>inputs</th>\n",
              "      <th>tags</th>\n",
              "      <th>label</th>\n",
              "    </tr>\n",
              "  </thead>\n",
              "  <tbody>\n",
              "    <tr>\n",
              "      <th>0</th>\n",
              "      <td>selamat pagi</td>\n",
              "      <td>greeting</td>\n",
              "      <td>2</td>\n",
              "    </tr>\n",
              "    <tr>\n",
              "      <th>1</th>\n",
              "      <td>hai</td>\n",
              "      <td>greeting</td>\n",
              "      <td>2</td>\n",
              "    </tr>\n",
              "    <tr>\n",
              "      <th>2</th>\n",
              "      <td>halo</td>\n",
              "      <td>greeting</td>\n",
              "      <td>2</td>\n",
              "    </tr>\n",
              "    <tr>\n",
              "      <th>3</th>\n",
              "      <td>salam</td>\n",
              "      <td>greeting</td>\n",
              "      <td>2</td>\n",
              "    </tr>\n",
              "    <tr>\n",
              "      <th>4</th>\n",
              "      <td>apa kabar</td>\n",
              "      <td>greeting</td>\n",
              "      <td>2</td>\n",
              "    </tr>\n",
              "    <tr>\n",
              "      <th>...</th>\n",
              "      <td>...</td>\n",
              "      <td>...</td>\n",
              "      <td>...</td>\n",
              "    </tr>\n",
              "    <tr>\n",
              "      <th>195</th>\n",
              "      <td>semoga bertemu lagi</td>\n",
              "      <td>goodbye</td>\n",
              "      <td>1</td>\n",
              "    </tr>\n",
              "    <tr>\n",
              "      <th>196</th>\n",
              "      <td>sekian dulu</td>\n",
              "      <td>goodbye</td>\n",
              "      <td>1</td>\n",
              "    </tr>\n",
              "    <tr>\n",
              "      <th>197</th>\n",
              "      <td>terima kasih semuanya</td>\n",
              "      <td>goodbye</td>\n",
              "      <td>1</td>\n",
              "    </tr>\n",
              "    <tr>\n",
              "      <th>198</th>\n",
              "      <td>izin keluar</td>\n",
              "      <td>goodbye</td>\n",
              "      <td>1</td>\n",
              "    </tr>\n",
              "    <tr>\n",
              "      <th>199</th>\n",
              "      <td>kami pamit</td>\n",
              "      <td>goodbye</td>\n",
              "      <td>1</td>\n",
              "    </tr>\n",
              "  </tbody>\n",
              "</table>\n",
              "<p>200 rows × 3 columns</p>\n",
              "</div>\n",
              "    <div class=\"colab-df-buttons\">\n",
              "\n",
              "  <div class=\"colab-df-container\">\n",
              "    <button class=\"colab-df-convert\" onclick=\"convertToInteractive('df-ebd1fc4a-2463-43c5-afaf-e12d3a6c2fdc')\"\n",
              "            title=\"Convert this dataframe to an interactive table.\"\n",
              "            style=\"display:none;\">\n",
              "\n",
              "  <svg xmlns=\"http://www.w3.org/2000/svg\" height=\"24px\" viewBox=\"0 -960 960 960\">\n",
              "    <path d=\"M120-120v-720h720v720H120Zm60-500h600v-160H180v160Zm220 220h160v-160H400v160Zm0 220h160v-160H400v160ZM180-400h160v-160H180v160Zm440 0h160v-160H620v160ZM180-180h160v-160H180v160Zm440 0h160v-160H620v160Z\"/>\n",
              "  </svg>\n",
              "    </button>\n",
              "\n",
              "  <style>\n",
              "    .colab-df-container {\n",
              "      display:flex;\n",
              "      gap: 12px;\n",
              "    }\n",
              "\n",
              "    .colab-df-convert {\n",
              "      background-color: #E8F0FE;\n",
              "      border: none;\n",
              "      border-radius: 50%;\n",
              "      cursor: pointer;\n",
              "      display: none;\n",
              "      fill: #1967D2;\n",
              "      height: 32px;\n",
              "      padding: 0 0 0 0;\n",
              "      width: 32px;\n",
              "    }\n",
              "\n",
              "    .colab-df-convert:hover {\n",
              "      background-color: #E2EBFA;\n",
              "      box-shadow: 0px 1px 2px rgba(60, 64, 67, 0.3), 0px 1px 3px 1px rgba(60, 64, 67, 0.15);\n",
              "      fill: #174EA6;\n",
              "    }\n",
              "\n",
              "    .colab-df-buttons div {\n",
              "      margin-bottom: 4px;\n",
              "    }\n",
              "\n",
              "    [theme=dark] .colab-df-convert {\n",
              "      background-color: #3B4455;\n",
              "      fill: #D2E3FC;\n",
              "    }\n",
              "\n",
              "    [theme=dark] .colab-df-convert:hover {\n",
              "      background-color: #434B5C;\n",
              "      box-shadow: 0px 1px 3px 1px rgba(0, 0, 0, 0.15);\n",
              "      filter: drop-shadow(0px 1px 2px rgba(0, 0, 0, 0.3));\n",
              "      fill: #FFFFFF;\n",
              "    }\n",
              "  </style>\n",
              "\n",
              "    <script>\n",
              "      const buttonEl =\n",
              "        document.querySelector('#df-ebd1fc4a-2463-43c5-afaf-e12d3a6c2fdc button.colab-df-convert');\n",
              "      buttonEl.style.display =\n",
              "        google.colab.kernel.accessAllowed ? 'block' : 'none';\n",
              "\n",
              "      async function convertToInteractive(key) {\n",
              "        const element = document.querySelector('#df-ebd1fc4a-2463-43c5-afaf-e12d3a6c2fdc');\n",
              "        const dataTable =\n",
              "          await google.colab.kernel.invokeFunction('convertToInteractive',\n",
              "                                                    [key], {});\n",
              "        if (!dataTable) return;\n",
              "\n",
              "        const docLinkHtml = 'Like what you see? Visit the ' +\n",
              "          '<a target=\"_blank\" href=https://colab.research.google.com/notebooks/data_table.ipynb>data table notebook</a>'\n",
              "          + ' to learn more about interactive tables.';\n",
              "        element.innerHTML = '';\n",
              "        dataTable['output_type'] = 'display_data';\n",
              "        await google.colab.output.renderOutput(dataTable, element);\n",
              "        const docLink = document.createElement('div');\n",
              "        docLink.innerHTML = docLinkHtml;\n",
              "        element.appendChild(docLink);\n",
              "      }\n",
              "    </script>\n",
              "  </div>\n",
              "\n",
              "\n",
              "    <div id=\"df-bb1c5ef1-f7a8-4995-9809-ca952771b92f\">\n",
              "      <button class=\"colab-df-quickchart\" onclick=\"quickchart('df-bb1c5ef1-f7a8-4995-9809-ca952771b92f')\"\n",
              "                title=\"Suggest charts\"\n",
              "                style=\"display:none;\">\n",
              "\n",
              "<svg xmlns=\"http://www.w3.org/2000/svg\" height=\"24px\"viewBox=\"0 0 24 24\"\n",
              "     width=\"24px\">\n",
              "    <g>\n",
              "        <path d=\"M19 3H5c-1.1 0-2 .9-2 2v14c0 1.1.9 2 2 2h14c1.1 0 2-.9 2-2V5c0-1.1-.9-2-2-2zM9 17H7v-7h2v7zm4 0h-2V7h2v10zm4 0h-2v-4h2v4z\"/>\n",
              "    </g>\n",
              "</svg>\n",
              "      </button>\n",
              "\n",
              "<style>\n",
              "  .colab-df-quickchart {\n",
              "      --bg-color: #E8F0FE;\n",
              "      --fill-color: #1967D2;\n",
              "      --hover-bg-color: #E2EBFA;\n",
              "      --hover-fill-color: #174EA6;\n",
              "      --disabled-fill-color: #AAA;\n",
              "      --disabled-bg-color: #DDD;\n",
              "  }\n",
              "\n",
              "  [theme=dark] .colab-df-quickchart {\n",
              "      --bg-color: #3B4455;\n",
              "      --fill-color: #D2E3FC;\n",
              "      --hover-bg-color: #434B5C;\n",
              "      --hover-fill-color: #FFFFFF;\n",
              "      --disabled-bg-color: #3B4455;\n",
              "      --disabled-fill-color: #666;\n",
              "  }\n",
              "\n",
              "  .colab-df-quickchart {\n",
              "    background-color: var(--bg-color);\n",
              "    border: none;\n",
              "    border-radius: 50%;\n",
              "    cursor: pointer;\n",
              "    display: none;\n",
              "    fill: var(--fill-color);\n",
              "    height: 32px;\n",
              "    padding: 0;\n",
              "    width: 32px;\n",
              "  }\n",
              "\n",
              "  .colab-df-quickchart:hover {\n",
              "    background-color: var(--hover-bg-color);\n",
              "    box-shadow: 0 1px 2px rgba(60, 64, 67, 0.3), 0 1px 3px 1px rgba(60, 64, 67, 0.15);\n",
              "    fill: var(--button-hover-fill-color);\n",
              "  }\n",
              "\n",
              "  .colab-df-quickchart-complete:disabled,\n",
              "  .colab-df-quickchart-complete:disabled:hover {\n",
              "    background-color: var(--disabled-bg-color);\n",
              "    fill: var(--disabled-fill-color);\n",
              "    box-shadow: none;\n",
              "  }\n",
              "\n",
              "  .colab-df-spinner {\n",
              "    border: 2px solid var(--fill-color);\n",
              "    border-color: transparent;\n",
              "    border-bottom-color: var(--fill-color);\n",
              "    animation:\n",
              "      spin 1s steps(1) infinite;\n",
              "  }\n",
              "\n",
              "  @keyframes spin {\n",
              "    0% {\n",
              "      border-color: transparent;\n",
              "      border-bottom-color: var(--fill-color);\n",
              "      border-left-color: var(--fill-color);\n",
              "    }\n",
              "    20% {\n",
              "      border-color: transparent;\n",
              "      border-left-color: var(--fill-color);\n",
              "      border-top-color: var(--fill-color);\n",
              "    }\n",
              "    30% {\n",
              "      border-color: transparent;\n",
              "      border-left-color: var(--fill-color);\n",
              "      border-top-color: var(--fill-color);\n",
              "      border-right-color: var(--fill-color);\n",
              "    }\n",
              "    40% {\n",
              "      border-color: transparent;\n",
              "      border-right-color: var(--fill-color);\n",
              "      border-top-color: var(--fill-color);\n",
              "    }\n",
              "    60% {\n",
              "      border-color: transparent;\n",
              "      border-right-color: var(--fill-color);\n",
              "    }\n",
              "    80% {\n",
              "      border-color: transparent;\n",
              "      border-right-color: var(--fill-color);\n",
              "      border-bottom-color: var(--fill-color);\n",
              "    }\n",
              "    90% {\n",
              "      border-color: transparent;\n",
              "      border-bottom-color: var(--fill-color);\n",
              "    }\n",
              "  }\n",
              "</style>\n",
              "\n",
              "      <script>\n",
              "        async function quickchart(key) {\n",
              "          const quickchartButtonEl =\n",
              "            document.querySelector('#' + key + ' button');\n",
              "          quickchartButtonEl.disabled = true;  // To prevent multiple clicks.\n",
              "          quickchartButtonEl.classList.add('colab-df-spinner');\n",
              "          try {\n",
              "            const charts = await google.colab.kernel.invokeFunction(\n",
              "                'suggestCharts', [key], {});\n",
              "          } catch (error) {\n",
              "            console.error('Error during call to suggestCharts:', error);\n",
              "          }\n",
              "          quickchartButtonEl.classList.remove('colab-df-spinner');\n",
              "          quickchartButtonEl.classList.add('colab-df-quickchart-complete');\n",
              "        }\n",
              "        (() => {\n",
              "          let quickchartButtonEl =\n",
              "            document.querySelector('#df-bb1c5ef1-f7a8-4995-9809-ca952771b92f button');\n",
              "          quickchartButtonEl.style.display =\n",
              "            google.colab.kernel.accessAllowed ? 'block' : 'none';\n",
              "        })();\n",
              "      </script>\n",
              "    </div>\n",
              "\n",
              "  <div id=\"id_d3989113-8763-46b8-8142-33b75920077d\">\n",
              "    <style>\n",
              "      .colab-df-generate {\n",
              "        background-color: #E8F0FE;\n",
              "        border: none;\n",
              "        border-radius: 50%;\n",
              "        cursor: pointer;\n",
              "        display: none;\n",
              "        fill: #1967D2;\n",
              "        height: 32px;\n",
              "        padding: 0 0 0 0;\n",
              "        width: 32px;\n",
              "      }\n",
              "\n",
              "      .colab-df-generate:hover {\n",
              "        background-color: #E2EBFA;\n",
              "        box-shadow: 0px 1px 2px rgba(60, 64, 67, 0.3), 0px 1px 3px 1px rgba(60, 64, 67, 0.15);\n",
              "        fill: #174EA6;\n",
              "      }\n",
              "\n",
              "      [theme=dark] .colab-df-generate {\n",
              "        background-color: #3B4455;\n",
              "        fill: #D2E3FC;\n",
              "      }\n",
              "\n",
              "      [theme=dark] .colab-df-generate:hover {\n",
              "        background-color: #434B5C;\n",
              "        box-shadow: 0px 1px 3px 1px rgba(0, 0, 0, 0.15);\n",
              "        filter: drop-shadow(0px 1px 2px rgba(0, 0, 0, 0.3));\n",
              "        fill: #FFFFFF;\n",
              "      }\n",
              "    </style>\n",
              "    <button class=\"colab-df-generate\" onclick=\"generateWithVariable('df')\"\n",
              "            title=\"Generate code using this dataframe.\"\n",
              "            style=\"display:none;\">\n",
              "\n",
              "  <svg xmlns=\"http://www.w3.org/2000/svg\" height=\"24px\"viewBox=\"0 0 24 24\"\n",
              "       width=\"24px\">\n",
              "    <path d=\"M7,19H8.4L18.45,9,17,7.55,7,17.6ZM5,21V16.75L18.45,3.32a2,2,0,0,1,2.83,0l1.4,1.43a1.91,1.91,0,0,1,.58,1.4,1.91,1.91,0,0,1-.58,1.4L9.25,21ZM18.45,9,17,7.55Zm-12,3A5.31,5.31,0,0,0,4.9,8.1,5.31,5.31,0,0,0,1,6.5,5.31,5.31,0,0,0,4.9,4.9,5.31,5.31,0,0,0,6.5,1,5.31,5.31,0,0,0,8.1,4.9,5.31,5.31,0,0,0,12,6.5,5.46,5.46,0,0,0,6.5,12Z\"/>\n",
              "  </svg>\n",
              "    </button>\n",
              "    <script>\n",
              "      (() => {\n",
              "      const buttonEl =\n",
              "        document.querySelector('#id_d3989113-8763-46b8-8142-33b75920077d button.colab-df-generate');\n",
              "      buttonEl.style.display =\n",
              "        google.colab.kernel.accessAllowed ? 'block' : 'none';\n",
              "\n",
              "      buttonEl.onclick = () => {\n",
              "        google.colab.notebook.generateWithVariable('df');\n",
              "      }\n",
              "      })();\n",
              "    </script>\n",
              "  </div>\n",
              "\n",
              "    </div>\n",
              "  </div>\n"
            ],
            "application/vnd.google.colaboratory.intrinsic+json": {
              "type": "dataframe",
              "variable_name": "df",
              "summary": "{\n  \"name\": \"df\",\n  \"rows\": 200,\n  \"fields\": [\n    {\n      \"column\": \"inputs\",\n      \"properties\": {\n        \"dtype\": \"string\",\n        \"num_unique_values\": 196,\n        \"samples\": [\n          \"luar negeri\",\n          \"saling menghargai\",\n          \"apa kabar semua\"\n        ],\n        \"semantic_type\": \"\",\n        \"description\": \"\"\n      }\n    },\n    {\n      \"column\": \"tags\",\n      \"properties\": {\n        \"dtype\": \"category\",\n        \"num_unique_values\": 10,\n        \"samples\": [\n          \"struggle\",\n          \"whoami\",\n          \"unity\"\n        ],\n        \"semantic_type\": \"\",\n        \"description\": \"\"\n      }\n    },\n    {\n      \"column\": \"label\",\n      \"properties\": {\n        \"dtype\": \"number\",\n        \"std\": 2,\n        \"min\": 0,\n        \"max\": 9,\n        \"num_unique_values\": 10,\n        \"samples\": [\n          7,\n          9,\n          8\n        ],\n        \"semantic_type\": \"\",\n        \"description\": \"\"\n      }\n    }\n  ]\n}"
            }
          },
          "metadata": {},
          "execution_count": 17
        }
      ]
    },
    {
      "cell_type": "code",
      "source": [
        "# 1. Sort dataframe berdasarkan label\n",
        "# tags_df = df.drop_duplicates(subset='tags')[['tags','label']]\n",
        "sorted_tags = df.sort_values('label')['tags'].drop_duplicates().tolist()\n",
        "print(sorted_tags)\n",
        "# 2. Bangun dictionary baru dengan urutan sesuai label\n",
        "sorted_responses = {tag: responses[tag] for tag in sorted_tags}\n",
        "display(sorted_responses)"
      ],
      "metadata": {
        "colab": {
          "base_uri": "https://localhost:8080/",
          "height": 729
        },
        "id": "f5QtHxHoUVOp",
        "outputId": "a1922065-8487-4a0c-a40c-2ee2e4a0a88a"
      },
      "execution_count": 18,
      "outputs": [
        {
          "output_type": "stream",
          "name": "stdout",
          "text": [
            "['advice', 'goodbye', 'greeting', 'independence', 'international', 'nationalism', 'revolution', 'struggle', 'unity', 'whoami']\n"
          ]
        },
        {
          "output_type": "display_data",
          "data": {
            "text/plain": [
              "{'advice': ['Belajarlah terus-menerus, karena pendidikan adalah senjata paling ampuh dalam perjuangan.',\n",
              "  'Jangan cepat puas. Negara ini butuh pemuda yang tekun, jujur, dan bertanggung jawab.',\n",
              "  'Berpikir kritis dan bekerja keras akan membawa bangsa ini menuju kemajuan.',\n",
              "  'Bangun masa depanmu dengan prinsip, bukan hanya ambisi.'],\n",
              " 'goodbye': ['Terima kasih telah berdiskusi. Mari terus membangun Indonesia yang kita cita-citakan.',\n",
              "  'Sampai jumpa lagi. Jangan lupakan bahwa perubahan dimulai dari diri sendiri.',\n",
              "  'Selamat berpisah, semoga semangat kebangsaan tetap menyala di hati kita.',\n",
              "  'Teruskan perjuangan dengan pikiran yang jernih dan niat yang tulus.'],\n",
              " 'greeting': ['Selamat datang, mari kita mulai percakapan yang bermakna.',\n",
              "  'Assalamualaikum, semoga hari Anda penuh semangat dan kesadaran kebangsaan.',\n",
              "  'Salam hormat, mari kita berdialog untuk kebaikan bangsa.',\n",
              "  'Selamat bertemu kembali, mari lanjutkan semangat kita membangun negeri.'],\n",
              " 'independence': ['Kemerdekaan bukan akhir, tapi awal dari perjuangan membangun bangsa yang berdaulat dan mandiri.',\n",
              "  'Kita merdeka untuk mewujudkan masyarakat yang adil, cerdas, dan sejahtera.',\n",
              "  'Proklamasi adalah titik awal untuk membuktikan bahwa kita mampu memerintah diri sendiri.',\n",
              "  'Hari kemerdekaan adalah momen refleksi—apakah kita sudah memenuhi janji kemerdekaan?'],\n",
              " 'international': ['Politik luar negeri kita harus bebas dan aktif—tidak berpihak, tapi berpandangan luas.',\n",
              "  'Indonesia harus menjadi bagian aktif dalam menjaga perdamaian dunia.',\n",
              "  'Diplomasi adalah jalan untuk menjaga martabat bangsa di mata internasional.',\n",
              "  'Kita harus menjalin kerja sama dengan dunia, tapi tidak kehilangan jati diri.'],\n",
              " 'nationalism': ['Cinta tanah air adalah kekuatan yang menyatukan langkah-langkah kita sebagai bangsa merdeka.',\n",
              "  'Nasionalisme sejati adalah perjuangan untuk mewujudkan keadilan dan kemakmuran bagi semua.',\n",
              "  'Bangsa yang besar adalah bangsa yang mampu berdiri di atas kaki sendiri, dengan hati nurani dan akal sehat.',\n",
              "  'Kita harus mencintai Indonesia bukan dengan kata-kata, tetapi dengan kerja nyata dan tanggung jawab sosial.'],\n",
              " 'revolution': ['Revolusi bukan hanya pergolakan politik, tapi perubahan cara berpikir dan bertindak demi rakyat.',\n",
              "  'Kemerdekaan adalah hasil dari tekad kolektif dan perjuangan panjang rakyat Indonesia.',\n",
              "  'Revolusi Indonesia harus mengarah pada terciptanya masyarakat adil dan makmur.',\n",
              "  'Kita harus melanjutkan revolusi dengan pendidikan dan pembangunan, bukan dengan kekerasan.'],\n",
              " 'struggle': ['Perjuangan bukan hanya di medan perang, tapi juga di ruang kelas dan pasar.',\n",
              "  'Kesulitan adalah bagian dari kemerdekaan. Kita harus menghadapinya dengan kebijaksanaan.',\n",
              "  'Perjuangan kita sekarang adalah menghapus kemiskinan dan kebodohan.',\n",
              "  'Jangan menyerah, karena bangsa ini masih memerlukan pemikiran dan kerja kerasmu.'],\n",
              " 'unity': ['Persatuan adalah syarat utama berdirinya negara. Tanpa persatuan, kemerdekaan tidak bermakna.',\n",
              "  'Kita harus mengutamakan persamaan dan saling menghargai dalam keberagaman.',\n",
              "  'Bangsa Indonesia dibangun atas dasar toleransi dan kebersamaan dalam perbedaan.',\n",
              "  'Kita bisa berbeda pendapat, tapi kita satu tujuan: Indonesia yang damai dan adil.'],\n",
              " 'whoami': ['Saya Mohammad Hatta, proklamator dan Wakil Presiden pertama Republik Indonesia.',\n",
              "  'Saya Hatta, ekonom, negarawan, dan pejuang kemerdekaan yang percaya pada demokrasi dan keadilan sosial.',\n",
              "  'Saya adalah Bung Hatta, pemikir bangsa yang berjuang bersama Bung Karno memerdekakan Indonesia.',\n",
              "  'Nama saya Mohammad Hatta, salah satu penandatangan proklamasi kemerdekaan Indonesia pada 17 Agustus 1945.']}"
            ]
          },
          "metadata": {}
        }
      ]
    },
    {
      "cell_type": "code",
      "source": [
        "\n",
        "import numpy as np\n",
        "from sklearn.model_selection import train_test_split\n",
        "\n",
        "from tensorflow.keras.preprocessing.text import Tokenizer\n",
        "from tensorflow.keras.preprocessing.sequence import pad_sequences\n",
        "from tensorflow.keras.models import Sequential\n",
        "# from tensorflow.keras.layers import Embedding, GlobalAveragePooling1D, Dense\n",
        "from tensorflow.keras.utils import to_categorical\n",
        "\n",
        "# 3. Split data\n",
        "X_train, X_test, y_train, y_test = train_test_split(df['inputs'], df['label'], test_size=0.2, random_state=42, stratify=df['label'])\n",
        "\n",
        "# 4. Tokenisasi\n",
        "tokenizer = Tokenizer(oov_token=\"<OOV>\")\n",
        "tokenizer.fit_on_texts(X_train)\n",
        "word_index = tokenizer.word_index\n",
        "\n",
        "# 5. Konversi teks ke urutan angka\n",
        "train_sequences = tokenizer.texts_to_sequences(X_train)\n",
        "test_sequences = tokenizer.texts_to_sequences(X_test)\n",
        "\n",
        "# 6. Padding\n",
        "max_length = max([len(x) for x in train_sequences]) # otomatis\n",
        "# max_length = 10\n",
        "X_train_padded = pad_sequences(train_sequences, maxlen=max_length, padding='post')\n",
        "X_test_padded = pad_sequences(test_sequences, maxlen=max_length, padding='post')\n",
        "\n",
        "# 7. One-hot encode label\n",
        "y_train_cat = to_categorical(y_train, num_classes=num_classes)\n",
        "y_test_cat = to_categorical(y_test, num_classes=num_classes)\n",
        "\n",
        "# # 8. Buat model\n",
        "# model = Sequential([\n",
        "#     Embedding(input_dim=len(word_index) + 1, output_dim=16, input_length=max_length),\n",
        "#     GlobalAveragePooling1D(),\n",
        "#     Dense(16, activation='relu'),\n",
        "#     Dense(num_classes, activation='softmax')\n",
        "# ])\n",
        "\n",
        "# model.compile(loss='categorical_crossentropy', optimizer='adam', metrics=['accuracy'])\n",
        "\n",
        "from tensorflow.keras.models import Model\n",
        "from tensorflow.keras.layers import Input, Embedding, GlobalAveragePooling1D, Dense\n",
        "\n",
        "inputs = Input(shape=(max_length,))  # fleksibel batch size\n",
        "x = Embedding(input_dim=len(word_index)+1, output_dim=16)(inputs)\n",
        "x = GlobalAveragePooling1D()(x)\n",
        "x = Dense(16, activation='relu')(x)\n",
        "outputs = Dense(num_classes, activation='softmax')(x)\n",
        "\n",
        "model = Model(inputs=inputs, outputs=outputs)\n",
        "model.compile(loss='categorical_crossentropy', optimizer='adam', metrics=['accuracy'])\n",
        "\n",
        "# 9. Latih model\n",
        "history = model.fit(X_train_padded, y_train_cat, epochs=50, validation_data=(X_test_padded, y_test_cat), verbose=2)\n",
        "\n",
        "# 10. Evaluasi\n",
        "loss, accuracy = model.evaluate(X_test_padded, y_test_cat)\n",
        "print(f\"Test Accuracy: {accuracy:.2f}\")"
      ],
      "metadata": {
        "colab": {
          "base_uri": "https://localhost:8080/"
        },
        "id": "6iJtALeSizdH",
        "outputId": "26c73f0c-6264-4ae2-c950-29a764505341"
      },
      "execution_count": 19,
      "outputs": [
        {
          "output_type": "stream",
          "name": "stdout",
          "text": [
            "Epoch 1/50\n",
            "5/5 - 2s - 351ms/step - accuracy: 0.1063 - loss: 2.3025 - val_accuracy: 0.1250 - val_loss: 2.3023\n",
            "Epoch 2/50\n",
            "5/5 - 0s - 39ms/step - accuracy: 0.1187 - loss: 2.2971 - val_accuracy: 0.1000 - val_loss: 2.3006\n",
            "Epoch 3/50\n",
            "5/5 - 0s - 55ms/step - accuracy: 0.1375 - loss: 2.2929 - val_accuracy: 0.1000 - val_loss: 2.2988\n",
            "Epoch 4/50\n",
            "5/5 - 0s - 39ms/step - accuracy: 0.1625 - loss: 2.2887 - val_accuracy: 0.1000 - val_loss: 2.2970\n",
            "Epoch 5/50\n",
            "5/5 - 0s - 33ms/step - accuracy: 0.1625 - loss: 2.2843 - val_accuracy: 0.1000 - val_loss: 2.2952\n",
            "Epoch 6/50\n",
            "5/5 - 0s - 35ms/step - accuracy: 0.1750 - loss: 2.2795 - val_accuracy: 0.1000 - val_loss: 2.2932\n",
            "Epoch 7/50\n",
            "5/5 - 0s - 62ms/step - accuracy: 0.1937 - loss: 2.2744 - val_accuracy: 0.1000 - val_loss: 2.2908\n",
            "Epoch 8/50\n",
            "5/5 - 0s - 37ms/step - accuracy: 0.1937 - loss: 2.2686 - val_accuracy: 0.1000 - val_loss: 2.2881\n",
            "Epoch 9/50\n",
            "5/5 - 0s - 40ms/step - accuracy: 0.2000 - loss: 2.2624 - val_accuracy: 0.1000 - val_loss: 2.2855\n",
            "Epoch 10/50\n",
            "5/5 - 0s - 43ms/step - accuracy: 0.2250 - loss: 2.2558 - val_accuracy: 0.1000 - val_loss: 2.2826\n",
            "Epoch 11/50\n",
            "5/5 - 0s - 57ms/step - accuracy: 0.2438 - loss: 2.2483 - val_accuracy: 0.1250 - val_loss: 2.2794\n",
            "Epoch 12/50\n",
            "5/5 - 0s - 42ms/step - accuracy: 0.2625 - loss: 2.2402 - val_accuracy: 0.1250 - val_loss: 2.2762\n",
            "Epoch 13/50\n",
            "5/5 - 0s - 28ms/step - accuracy: 0.2875 - loss: 2.2318 - val_accuracy: 0.1250 - val_loss: 2.2725\n",
            "Epoch 14/50\n",
            "5/5 - 0s - 27ms/step - accuracy: 0.3375 - loss: 2.2223 - val_accuracy: 0.1500 - val_loss: 2.2683\n",
            "Epoch 15/50\n",
            "5/5 - 0s - 19ms/step - accuracy: 0.3375 - loss: 2.2121 - val_accuracy: 0.2000 - val_loss: 2.2639\n",
            "Epoch 16/50\n",
            "5/5 - 0s - 18ms/step - accuracy: 0.3375 - loss: 2.2013 - val_accuracy: 0.2000 - val_loss: 2.2593\n",
            "Epoch 17/50\n",
            "5/5 - 0s - 29ms/step - accuracy: 0.3750 - loss: 2.1893 - val_accuracy: 0.2250 - val_loss: 2.2540\n",
            "Epoch 18/50\n",
            "5/5 - 0s - 19ms/step - accuracy: 0.4000 - loss: 2.1765 - val_accuracy: 0.2250 - val_loss: 2.2482\n",
            "Epoch 19/50\n",
            "5/5 - 0s - 30ms/step - accuracy: 0.4375 - loss: 2.1636 - val_accuracy: 0.2250 - val_loss: 2.2418\n",
            "Epoch 20/50\n",
            "5/5 - 0s - 27ms/step - accuracy: 0.4688 - loss: 2.1489 - val_accuracy: 0.2250 - val_loss: 2.2352\n",
            "Epoch 21/50\n",
            "5/5 - 0s - 24ms/step - accuracy: 0.4688 - loss: 2.1337 - val_accuracy: 0.2250 - val_loss: 2.2279\n",
            "Epoch 22/50\n",
            "5/5 - 0s - 23ms/step - accuracy: 0.4812 - loss: 2.1179 - val_accuracy: 0.2000 - val_loss: 2.2205\n",
            "Epoch 23/50\n",
            "5/5 - 0s - 25ms/step - accuracy: 0.4938 - loss: 2.1002 - val_accuracy: 0.2000 - val_loss: 2.2127\n",
            "Epoch 24/50\n",
            "5/5 - 0s - 28ms/step - accuracy: 0.4938 - loss: 2.0823 - val_accuracy: 0.2250 - val_loss: 2.2048\n",
            "Epoch 25/50\n",
            "5/5 - 0s - 34ms/step - accuracy: 0.5063 - loss: 2.0629 - val_accuracy: 0.2750 - val_loss: 2.1961\n",
            "Epoch 26/50\n",
            "5/5 - 0s - 20ms/step - accuracy: 0.5188 - loss: 2.0433 - val_accuracy: 0.2750 - val_loss: 2.1867\n",
            "Epoch 27/50\n",
            "5/5 - 0s - 22ms/step - accuracy: 0.5250 - loss: 2.0213 - val_accuracy: 0.3250 - val_loss: 2.1765\n",
            "Epoch 28/50\n",
            "5/5 - 0s - 22ms/step - accuracy: 0.5250 - loss: 1.9984 - val_accuracy: 0.3250 - val_loss: 2.1663\n",
            "Epoch 29/50\n",
            "5/5 - 0s - 27ms/step - accuracy: 0.5500 - loss: 1.9747 - val_accuracy: 0.3250 - val_loss: 2.1555\n",
            "Epoch 30/50\n",
            "5/5 - 0s - 19ms/step - accuracy: 0.5625 - loss: 1.9485 - val_accuracy: 0.3250 - val_loss: 2.1440\n",
            "Epoch 31/50\n",
            "5/5 - 0s - 20ms/step - accuracy: 0.5875 - loss: 1.9216 - val_accuracy: 0.3250 - val_loss: 2.1319\n",
            "Epoch 32/50\n",
            "5/5 - 0s - 19ms/step - accuracy: 0.6062 - loss: 1.8938 - val_accuracy: 0.3750 - val_loss: 2.1189\n",
            "Epoch 33/50\n",
            "5/5 - 0s - 27ms/step - accuracy: 0.6313 - loss: 1.8655 - val_accuracy: 0.4000 - val_loss: 2.1051\n",
            "Epoch 34/50\n",
            "5/5 - 0s - 19ms/step - accuracy: 0.6438 - loss: 1.8360 - val_accuracy: 0.4000 - val_loss: 2.0910\n",
            "Epoch 35/50\n",
            "5/5 - 0s - 23ms/step - accuracy: 0.6500 - loss: 1.8055 - val_accuracy: 0.4000 - val_loss: 2.0767\n",
            "Epoch 36/50\n",
            "5/5 - 0s - 30ms/step - accuracy: 0.6500 - loss: 1.7737 - val_accuracy: 0.4250 - val_loss: 2.0621\n",
            "Epoch 37/50\n",
            "5/5 - 0s - 23ms/step - accuracy: 0.6750 - loss: 1.7421 - val_accuracy: 0.4250 - val_loss: 2.0470\n",
            "Epoch 38/50\n",
            "5/5 - 0s - 28ms/step - accuracy: 0.6875 - loss: 1.7096 - val_accuracy: 0.4250 - val_loss: 2.0316\n",
            "Epoch 39/50\n",
            "5/5 - 0s - 26ms/step - accuracy: 0.7063 - loss: 1.6759 - val_accuracy: 0.4250 - val_loss: 2.0155\n",
            "Epoch 40/50\n",
            "5/5 - 0s - 29ms/step - accuracy: 0.7250 - loss: 1.6420 - val_accuracy: 0.4500 - val_loss: 1.9997\n",
            "Epoch 41/50\n",
            "5/5 - 0s - 23ms/step - accuracy: 0.7375 - loss: 1.6071 - val_accuracy: 0.4500 - val_loss: 1.9834\n",
            "Epoch 42/50\n",
            "5/5 - 0s - 25ms/step - accuracy: 0.7500 - loss: 1.5727 - val_accuracy: 0.4500 - val_loss: 1.9671\n",
            "Epoch 43/50\n",
            "5/5 - 0s - 22ms/step - accuracy: 0.7500 - loss: 1.5371 - val_accuracy: 0.4500 - val_loss: 1.9506\n",
            "Epoch 44/50\n",
            "5/5 - 0s - 32ms/step - accuracy: 0.7500 - loss: 1.5025 - val_accuracy: 0.4500 - val_loss: 1.9334\n",
            "Epoch 45/50\n",
            "5/5 - 0s - 23ms/step - accuracy: 0.7625 - loss: 1.4671 - val_accuracy: 0.4500 - val_loss: 1.9166\n",
            "Epoch 46/50\n",
            "5/5 - 0s - 29ms/step - accuracy: 0.7937 - loss: 1.4311 - val_accuracy: 0.4750 - val_loss: 1.8995\n",
            "Epoch 47/50\n",
            "5/5 - 0s - 29ms/step - accuracy: 0.8062 - loss: 1.3962 - val_accuracy: 0.5000 - val_loss: 1.8824\n",
            "Epoch 48/50\n",
            "5/5 - 0s - 23ms/step - accuracy: 0.8313 - loss: 1.3616 - val_accuracy: 0.4750 - val_loss: 1.8656\n",
            "Epoch 49/50\n",
            "5/5 - 0s - 23ms/step - accuracy: 0.8500 - loss: 1.3259 - val_accuracy: 0.4750 - val_loss: 1.8482\n",
            "Epoch 50/50\n",
            "5/5 - 0s - 20ms/step - accuracy: 0.8813 - loss: 1.2908 - val_accuracy: 0.4750 - val_loss: 1.8321\n",
            "\u001b[1m2/2\u001b[0m \u001b[32m━━━━━━━━━━━━━━━━━━━━\u001b[0m\u001b[37m\u001b[0m \u001b[1m0s\u001b[0m 31ms/step - accuracy: 0.4938 - loss: 1.8169\n",
            "Test Accuracy: 0.47\n"
          ]
        }
      ]
    },
    {
      "cell_type": "code",
      "source": [
        "model.summary()"
      ],
      "metadata": {
        "colab": {
          "base_uri": "https://localhost:8080/",
          "height": 318
        },
        "id": "fAWvXbHtkqm4",
        "outputId": "50230f7d-db8b-426d-bb5f-dd19368fedff"
      },
      "execution_count": 20,
      "outputs": [
        {
          "output_type": "display_data",
          "data": {
            "text/plain": [
              "\u001b[1mModel: \"functional\"\u001b[0m\n"
            ],
            "text/html": [
              "<pre style=\"white-space:pre;overflow-x:auto;line-height:normal;font-family:Menlo,'DejaVu Sans Mono',consolas,'Courier New',monospace\"><span style=\"font-weight: bold\">Model: \"functional\"</span>\n",
              "</pre>\n"
            ]
          },
          "metadata": {}
        },
        {
          "output_type": "display_data",
          "data": {
            "text/plain": [
              "┏━━━━━━━━━━━━━━━━━━━━━━━━━━━━━━━━━┳━━━━━━━━━━━━━━━━━━━━━━━━┳━━━━━━━━━━━━━━━┓\n",
              "┃\u001b[1m \u001b[0m\u001b[1mLayer (type)                   \u001b[0m\u001b[1m \u001b[0m┃\u001b[1m \u001b[0m\u001b[1mOutput Shape          \u001b[0m\u001b[1m \u001b[0m┃\u001b[1m \u001b[0m\u001b[1m      Param #\u001b[0m\u001b[1m \u001b[0m┃\n",
              "┡━━━━━━━━━━━━━━━━━━━━━━━━━━━━━━━━━╇━━━━━━━━━━━━━━━━━━━━━━━━╇━━━━━━━━━━━━━━━┩\n",
              "│ input_layer (\u001b[38;5;33mInputLayer\u001b[0m)        │ (\u001b[38;5;45mNone\u001b[0m, \u001b[38;5;34m4\u001b[0m)              │             \u001b[38;5;34m0\u001b[0m │\n",
              "├─────────────────────────────────┼────────────────────────┼───────────────┤\n",
              "│ embedding (\u001b[38;5;33mEmbedding\u001b[0m)           │ (\u001b[38;5;45mNone\u001b[0m, \u001b[38;5;34m4\u001b[0m, \u001b[38;5;34m16\u001b[0m)          │         \u001b[38;5;34m3,152\u001b[0m │\n",
              "├─────────────────────────────────┼────────────────────────┼───────────────┤\n",
              "│ global_average_pooling1d        │ (\u001b[38;5;45mNone\u001b[0m, \u001b[38;5;34m16\u001b[0m)             │             \u001b[38;5;34m0\u001b[0m │\n",
              "│ (\u001b[38;5;33mGlobalAveragePooling1D\u001b[0m)        │                        │               │\n",
              "├─────────────────────────────────┼────────────────────────┼───────────────┤\n",
              "│ dense (\u001b[38;5;33mDense\u001b[0m)                   │ (\u001b[38;5;45mNone\u001b[0m, \u001b[38;5;34m16\u001b[0m)             │           \u001b[38;5;34m272\u001b[0m │\n",
              "├─────────────────────────────────┼────────────────────────┼───────────────┤\n",
              "│ dense_1 (\u001b[38;5;33mDense\u001b[0m)                 │ (\u001b[38;5;45mNone\u001b[0m, \u001b[38;5;34m10\u001b[0m)             │           \u001b[38;5;34m170\u001b[0m │\n",
              "└─────────────────────────────────┴────────────────────────┴───────────────┘\n"
            ],
            "text/html": [
              "<pre style=\"white-space:pre;overflow-x:auto;line-height:normal;font-family:Menlo,'DejaVu Sans Mono',consolas,'Courier New',monospace\">┏━━━━━━━━━━━━━━━━━━━━━━━━━━━━━━━━━┳━━━━━━━━━━━━━━━━━━━━━━━━┳━━━━━━━━━━━━━━━┓\n",
              "┃<span style=\"font-weight: bold\"> Layer (type)                    </span>┃<span style=\"font-weight: bold\"> Output Shape           </span>┃<span style=\"font-weight: bold\">       Param # </span>┃\n",
              "┡━━━━━━━━━━━━━━━━━━━━━━━━━━━━━━━━━╇━━━━━━━━━━━━━━━━━━━━━━━━╇━━━━━━━━━━━━━━━┩\n",
              "│ input_layer (<span style=\"color: #0087ff; text-decoration-color: #0087ff\">InputLayer</span>)        │ (<span style=\"color: #00d7ff; text-decoration-color: #00d7ff\">None</span>, <span style=\"color: #00af00; text-decoration-color: #00af00\">4</span>)              │             <span style=\"color: #00af00; text-decoration-color: #00af00\">0</span> │\n",
              "├─────────────────────────────────┼────────────────────────┼───────────────┤\n",
              "│ embedding (<span style=\"color: #0087ff; text-decoration-color: #0087ff\">Embedding</span>)           │ (<span style=\"color: #00d7ff; text-decoration-color: #00d7ff\">None</span>, <span style=\"color: #00af00; text-decoration-color: #00af00\">4</span>, <span style=\"color: #00af00; text-decoration-color: #00af00\">16</span>)          │         <span style=\"color: #00af00; text-decoration-color: #00af00\">3,152</span> │\n",
              "├─────────────────────────────────┼────────────────────────┼───────────────┤\n",
              "│ global_average_pooling1d        │ (<span style=\"color: #00d7ff; text-decoration-color: #00d7ff\">None</span>, <span style=\"color: #00af00; text-decoration-color: #00af00\">16</span>)             │             <span style=\"color: #00af00; text-decoration-color: #00af00\">0</span> │\n",
              "│ (<span style=\"color: #0087ff; text-decoration-color: #0087ff\">GlobalAveragePooling1D</span>)        │                        │               │\n",
              "├─────────────────────────────────┼────────────────────────┼───────────────┤\n",
              "│ dense (<span style=\"color: #0087ff; text-decoration-color: #0087ff\">Dense</span>)                   │ (<span style=\"color: #00d7ff; text-decoration-color: #00d7ff\">None</span>, <span style=\"color: #00af00; text-decoration-color: #00af00\">16</span>)             │           <span style=\"color: #00af00; text-decoration-color: #00af00\">272</span> │\n",
              "├─────────────────────────────────┼────────────────────────┼───────────────┤\n",
              "│ dense_1 (<span style=\"color: #0087ff; text-decoration-color: #0087ff\">Dense</span>)                 │ (<span style=\"color: #00d7ff; text-decoration-color: #00d7ff\">None</span>, <span style=\"color: #00af00; text-decoration-color: #00af00\">10</span>)             │           <span style=\"color: #00af00; text-decoration-color: #00af00\">170</span> │\n",
              "└─────────────────────────────────┴────────────────────────┴───────────────┘\n",
              "</pre>\n"
            ]
          },
          "metadata": {}
        },
        {
          "output_type": "display_data",
          "data": {
            "text/plain": [
              "\u001b[1m Total params: \u001b[0m\u001b[38;5;34m10,784\u001b[0m (42.13 KB)\n"
            ],
            "text/html": [
              "<pre style=\"white-space:pre;overflow-x:auto;line-height:normal;font-family:Menlo,'DejaVu Sans Mono',consolas,'Courier New',monospace\"><span style=\"font-weight: bold\"> Total params: </span><span style=\"color: #00af00; text-decoration-color: #00af00\">10,784</span> (42.13 KB)\n",
              "</pre>\n"
            ]
          },
          "metadata": {}
        },
        {
          "output_type": "display_data",
          "data": {
            "text/plain": [
              "\u001b[1m Trainable params: \u001b[0m\u001b[38;5;34m3,594\u001b[0m (14.04 KB)\n"
            ],
            "text/html": [
              "<pre style=\"white-space:pre;overflow-x:auto;line-height:normal;font-family:Menlo,'DejaVu Sans Mono',consolas,'Courier New',monospace\"><span style=\"font-weight: bold\"> Trainable params: </span><span style=\"color: #00af00; text-decoration-color: #00af00\">3,594</span> (14.04 KB)\n",
              "</pre>\n"
            ]
          },
          "metadata": {}
        },
        {
          "output_type": "display_data",
          "data": {
            "text/plain": [
              "\u001b[1m Non-trainable params: \u001b[0m\u001b[38;5;34m0\u001b[0m (0.00 B)\n"
            ],
            "text/html": [
              "<pre style=\"white-space:pre;overflow-x:auto;line-height:normal;font-family:Menlo,'DejaVu Sans Mono',consolas,'Courier New',monospace\"><span style=\"font-weight: bold\"> Non-trainable params: </span><span style=\"color: #00af00; text-decoration-color: #00af00\">0</span> (0.00 B)\n",
              "</pre>\n"
            ]
          },
          "metadata": {}
        },
        {
          "output_type": "display_data",
          "data": {
            "text/plain": [
              "\u001b[1m Optimizer params: \u001b[0m\u001b[38;5;34m7,190\u001b[0m (28.09 KB)\n"
            ],
            "text/html": [
              "<pre style=\"white-space:pre;overflow-x:auto;line-height:normal;font-family:Menlo,'DejaVu Sans Mono',consolas,'Courier New',monospace\"><span style=\"font-weight: bold\"> Optimizer params: </span><span style=\"color: #00af00; text-decoration-color: #00af00\">7,190</span> (28.09 KB)\n",
              "</pre>\n"
            ]
          },
          "metadata": {}
        }
      ]
    },
    {
      "cell_type": "code",
      "source": [
        "!rm -rf '/content/saved_model'\n",
        "# !rm -rf '/content/tfjs_saved_model' '/content/tfjs_saved_model.zip'"
      ],
      "metadata": {
        "id": "Z18WwXKsKgt-"
      },
      "execution_count": null,
      "outputs": []
    },
    {
      "cell_type": "code",
      "source": [
        "# Simpan dengan signature yang sudah diberi nama output\n",
        "# tf.saved_model.save(model, 'saved_model')"
      ],
      "metadata": {
        "id": "RiOxUruII9bG"
      },
      "execution_count": null,
      "outputs": []
    },
    {
      "cell_type": "code",
      "source": [
        "model.export(\"saved_model\")"
      ],
      "metadata": {
        "colab": {
          "base_uri": "https://localhost:8080/"
        },
        "id": "lI1Scb0Sn2_q",
        "outputId": "6eb84d2e-4a59-43af-ca9a-9a52baf3786d"
      },
      "execution_count": 25,
      "outputs": [
        {
          "output_type": "stream",
          "name": "stdout",
          "text": [
            "Saved artifact at 'saved_model'. The following endpoints are available:\n",
            "\n",
            "* Endpoint 'serve'\n",
            "  args_0 (POSITIONAL_ONLY): TensorSpec(shape=(None, 4), dtype=tf.float32, name='keras_tensor')\n",
            "Output Type:\n",
            "  TensorSpec(shape=(None, 10), dtype=tf.float32, name=None)\n",
            "Captures:\n",
            "  134068873160912: TensorSpec(shape=(), dtype=tf.resource, name=None)\n",
            "  134068873165904: TensorSpec(shape=(), dtype=tf.resource, name=None)\n",
            "  134068873166672: TensorSpec(shape=(), dtype=tf.resource, name=None)\n",
            "  134068873163792: TensorSpec(shape=(), dtype=tf.resource, name=None)\n",
            "  134068873164176: TensorSpec(shape=(), dtype=tf.resource, name=None)\n"
          ]
        }
      ]
    },
    {
      "cell_type": "code",
      "source": [
        "import tensorflowjs as tfjs\n",
        "print(tfjs.__version__) # 4.20.0"
      ],
      "metadata": {
        "colab": {
          "base_uri": "https://localhost:8080/",
          "height": 183
        },
        "id": "zVknuUcTlBj_",
        "outputId": "3289a67b-96be-4ab0-857d-0c5a6f569c7b"
      },
      "execution_count": 26,
      "outputs": [
        {
          "output_type": "display_data",
          "data": {
            "text/plain": [
              "<IPython.core.display.HTML object>"
            ],
            "text/html": [
              "\n",
              "<p style=\"margin:0px;\">🌲 Try <a href=\"https://ydf.readthedocs.io/en/latest/\" target=\"_blank\">YDF</a>, the successor of\n",
              "    <a href=\"https://www.tensorflow.org/decision_forests\" target=\"_blank\">TensorFlow\n",
              "        Decision Forests</a> using the same algorithms but with more features and faster\n",
              "    training!\n",
              "</p>\n",
              "<div style=\"display: flex; flex-wrap: wrap; margin:5px;max-width: 880px;\">\n",
              "    <div style=\"flex: 1; border-radius: 10px; background-color: F0F0F0; padding: 5px;\">\n",
              "        <p\n",
              "            style=\"font-weight: bold; margin:0px;text-align: center;border-bottom: 1px solid #C0C0C0;margin-bottom: 4px;\">\n",
              "            Old code</p>\n",
              "        <pre style=\"overflow-wrap: anywhere; overflow: auto; margin:0px;font-size: 9pt;\">\n",
              "import tensorflow_decision_forests as tfdf\n",
              "\n",
              "tf_ds = tfdf.keras.pd_dataframe_to_tf_dataset(ds, label=\"l\")\n",
              "model = tfdf.keras.RandomForestModel(label=\"l\")\n",
              "model.fit(tf_ds)\n",
              "</pre>\n",
              "    </div>\n",
              "    <div style=\"width: 5px;\"></div>\n",
              "    <div style=\"flex: 1; border-radius: 10px; background-color: F0F0F0; padding: 5px;\">\n",
              "        <p\n",
              "            style=\"font-weight: bold; margin:0px;text-align: center;border-bottom: 1px solid #C0C0C0;margin-bottom: 4px;\">\n",
              "            New code</p>\n",
              "        <pre style=\"overflow-wrap: anywhere; overflow: auto; margin:0px;font-size: 9pt;\">\n",
              "import ydf\n",
              "\n",
              "model = ydf.RandomForestLearner(label=\"l\").train(ds)\n",
              "</pre>\n",
              "    </div>\n",
              "</div>\n",
              "<p style=\"margin:0px;font-size: 9pt;\">(Learn more in the <a\n",
              "        href=\"https://ydf.readthedocs.io/en/latest/tutorial/migrating_to_ydf/\" target=\"_blank\">migration\n",
              "        guide</a>)</p>\n"
            ]
          },
          "metadata": {}
        },
        {
          "output_type": "stream",
          "name": "stdout",
          "text": [
            "4.22.0\n"
          ]
        }
      ]
    },
    {
      "cell_type": "code",
      "source": [
        "!tensorflowjs_converter \\\n",
        "    --input_format=tf_saved_model \\\n",
        "    --output_format=tfjs_graph_model \\\n",
        "    --signature_name=serving_default \\\n",
        "    --saved_model_tags=serve \\\n",
        "    saved_model \\\n",
        "    tfjs_saved_model/soekarno"
      ],
      "metadata": {
        "colab": {
          "base_uri": "https://localhost:8080/"
        },
        "id": "5uYpprRDINbd",
        "outputId": "99867d17-568d-4fe2-a4cf-babc9e0d9508"
      },
      "execution_count": 27,
      "outputs": [
        {
          "output_type": "stream",
          "name": "stdout",
          "text": [
            "2025-06-12 17:49:18.912571: E external/local_xla/xla/stream_executor/cuda/cuda_fft.cc:477] Unable to register cuFFT factory: Attempting to register factory for plugin cuFFT when one has already been registered\n",
            "WARNING: All log messages before absl::InitializeLog() is called are written to STDERR\n",
            "E0000 00:00:1749750558.947530    7858 cuda_dnn.cc:8310] Unable to register cuDNN factory: Attempting to register factory for plugin cuDNN when one has already been registered\n",
            "E0000 00:00:1749750558.957870    7858 cuda_blas.cc:1418] Unable to register cuBLAS factory: Attempting to register factory for plugin cuBLAS when one has already been registered\n",
            "\u001b[32m🌲 Try \u001b[0m\u001b[34mhttps://ydf.readthedocs.io\u001b[0m\u001b[32m, the successor of TensorFlow Decision Forests with more features and faster training!\u001b[0m\n",
            "2025-06-12 17:49:26.767974: E external/local_xla/xla/stream_executor/cuda/cuda_driver.cc:152] failed call to cuInit: INTERNAL: CUDA error: Failed call to cuInit: UNKNOWN ERROR (303)\n",
            "I0000 00:00:1749750566.886562    7858 devices.cc:67] Number of eligible GPUs (core count >= 8, compute capability >= 0.0): 0\n",
            "WARNING: All log messages before absl::InitializeLog() is called are written to STDERR\n",
            "I0000 00:00:1749750566.887498    7858 single_machine.cc:361] Starting new session\n"
          ]
        }
      ]
    },
    {
      "cell_type": "code",
      "source": [
        "word_index = tokenizer.word_index\n",
        "path = 'tfjs_saved_model/soekarno'\n",
        "with open(f'{path}/word_index.json', 'w') as fp:\n",
        "    json.dump(word_index, fp)\n",
        "\n",
        "with open(f'{path}/content.json', 'w') as fp:\n",
        "    json.dump(sorted_responses, fp)"
      ],
      "metadata": {
        "id": "bYR4N1hyIgtN"
      },
      "execution_count": 29,
      "outputs": []
    },
    {
      "cell_type": "code",
      "source": [
        "exportZip()"
      ],
      "metadata": {
        "colab": {
          "base_uri": "https://localhost:8080/",
          "height": 34
        },
        "id": "d8A4P3PzJB6o",
        "outputId": "22d67b1e-9265-4469-bb25-49c7042f993e"
      },
      "execution_count": 30,
      "outputs": [
        {
          "output_type": "display_data",
          "data": {
            "text/plain": [
              "<IPython.core.display.Javascript object>"
            ],
            "application/javascript": [
              "\n",
              "    async function download(id, filename, size) {\n",
              "      if (!google.colab.kernel.accessAllowed) {\n",
              "        return;\n",
              "      }\n",
              "      const div = document.createElement('div');\n",
              "      const label = document.createElement('label');\n",
              "      label.textContent = `Downloading \"${filename}\": `;\n",
              "      div.appendChild(label);\n",
              "      const progress = document.createElement('progress');\n",
              "      progress.max = size;\n",
              "      div.appendChild(progress);\n",
              "      document.body.appendChild(div);\n",
              "\n",
              "      const buffers = [];\n",
              "      let downloaded = 0;\n",
              "\n",
              "      const channel = await google.colab.kernel.comms.open(id);\n",
              "      // Send a message to notify the kernel that we're ready.\n",
              "      channel.send({})\n",
              "\n",
              "      for await (const message of channel.messages) {\n",
              "        // Send a message to notify the kernel that we're ready.\n",
              "        channel.send({})\n",
              "        if (message.buffers) {\n",
              "          for (const buffer of message.buffers) {\n",
              "            buffers.push(buffer);\n",
              "            downloaded += buffer.byteLength;\n",
              "            progress.value = downloaded;\n",
              "          }\n",
              "        }\n",
              "      }\n",
              "      const blob = new Blob(buffers, {type: 'application/binary'});\n",
              "      const a = document.createElement('a');\n",
              "      a.href = window.URL.createObjectURL(blob);\n",
              "      a.download = filename;\n",
              "      div.appendChild(a);\n",
              "      a.click();\n",
              "      div.remove();\n",
              "    }\n",
              "  "
            ]
          },
          "metadata": {}
        },
        {
          "output_type": "display_data",
          "data": {
            "text/plain": [
              "<IPython.core.display.Javascript object>"
            ],
            "application/javascript": [
              "download(\"download_9897dfd6-bfe8-420d-86f6-1c54413b3af5\", \"tfjs_saved_model.zip\", 17670)"
            ]
          },
          "metadata": {}
        },
        {
          "output_type": "stream",
          "name": "stdout",
          "text": [
            "File tfjs_saved_model.zip telah dibuat dan diunduh ke komputer lokal Anda\n"
          ]
        }
      ]
    },
    {
      "cell_type": "markdown",
      "source": [
        "## Testing"
      ],
      "metadata": {
        "id": "Xv5YosmPOepv"
      }
    },
    {
      "cell_type": "code",
      "source": [
        "# Loop interaktif\n",
        "import string\n",
        "import random\n",
        "while True:\n",
        "    text_input = input(\"Kamu: \")\n",
        "    if not text_input.strip():\n",
        "        continue\n",
        "\n",
        "    # Preprocessing input\n",
        "    cleaned = ''.join([char.lower() for char in text_input if char not in string.punctuation])\n",
        "    sequence = tokenizer.texts_to_sequences([cleaned])\n",
        "    padded = pad_sequences(sequence, maxlen=max_length, padding='post')\n",
        "\n",
        "    print('padding: ', padded)\n",
        "    # Predict\n",
        "    prediction = model.predict(padded, verbose=0)[0]\n",
        "\n",
        "    # Tampilkan probabilitas semua kelas\n",
        "    print(\"\\nPrediksi tiap kelas:\")\n",
        "    for i, prob in enumerate(prediction):\n",
        "        label = label_encoder.inverse_transform([i])[0]\n",
        "        print(f\"{label}: {prob:.4f}\")\n",
        "\n",
        "    # Ambil prediksi terbaik\n",
        "    predicted_index = np.argmax(prediction)\n",
        "    predicted_label = label_encoder.inverse_transform([predicted_index])[0]\n",
        "\n",
        "    # Respon\n",
        "    print(\"Soekarno:\", random.choice(responses.get(predicted_label, [\"Maaf, saya tidak mengerti.\"])))\n",
        "\n",
        "    # Exit jika prediksi \"goodbye\"\n",
        "    if predicted_label == \"goodbye\":\n",
        "        break"
      ],
      "metadata": {
        "colab": {
          "base_uri": "https://localhost:8080/",
          "height": 616
        },
        "id": "_jv0QWKljRqp",
        "outputId": "370543ef-d7f0-472b-83b3-754d2b5d8f4f"
      },
      "execution_count": 24,
      "outputs": [
        {
          "output_type": "stream",
          "name": "stdout",
          "text": [
            "Kamu: halo pak\n",
            "padding:  [[59 30  0  0]]\n",
            "\n",
            "Prediksi tiap kelas:\n",
            "advice: 0.0567\n",
            "goodbye: 0.0445\n",
            "greeting: 0.3416\n",
            "independence: 0.1202\n",
            "international: 0.1224\n",
            "nationalism: 0.0445\n",
            "revolution: 0.1260\n",
            "struggle: 0.0571\n",
            "unity: 0.0641\n",
            "whoami: 0.0229\n",
            "Soekarno: Assalamualaikum, semoga hari Anda penuh semangat dan kesadaran kebangsaan.\n"
          ]
        },
        {
          "output_type": "error",
          "ename": "KeyboardInterrupt",
          "evalue": "Interrupted by user",
          "traceback": [
            "\u001b[0;31m---------------------------------------------------------------------------\u001b[0m",
            "\u001b[0;31mKeyboardInterrupt\u001b[0m                         Traceback (most recent call last)",
            "\u001b[0;32m<ipython-input-24-4294759692>\u001b[0m in \u001b[0;36m<cell line: 0>\u001b[0;34m()\u001b[0m\n\u001b[1;32m      3\u001b[0m \u001b[0;32mimport\u001b[0m \u001b[0mrandom\u001b[0m\u001b[0;34m\u001b[0m\u001b[0;34m\u001b[0m\u001b[0m\n\u001b[1;32m      4\u001b[0m \u001b[0;32mwhile\u001b[0m \u001b[0;32mTrue\u001b[0m\u001b[0;34m:\u001b[0m\u001b[0;34m\u001b[0m\u001b[0;34m\u001b[0m\u001b[0m\n\u001b[0;32m----> 5\u001b[0;31m     \u001b[0mtext_input\u001b[0m \u001b[0;34m=\u001b[0m \u001b[0minput\u001b[0m\u001b[0;34m(\u001b[0m\u001b[0;34m\"Kamu: \"\u001b[0m\u001b[0;34m)\u001b[0m\u001b[0;34m\u001b[0m\u001b[0;34m\u001b[0m\u001b[0m\n\u001b[0m\u001b[1;32m      6\u001b[0m     \u001b[0;32mif\u001b[0m \u001b[0;32mnot\u001b[0m \u001b[0mtext_input\u001b[0m\u001b[0;34m.\u001b[0m\u001b[0mstrip\u001b[0m\u001b[0;34m(\u001b[0m\u001b[0;34m)\u001b[0m\u001b[0;34m:\u001b[0m\u001b[0;34m\u001b[0m\u001b[0;34m\u001b[0m\u001b[0m\n\u001b[1;32m      7\u001b[0m         \u001b[0;32mcontinue\u001b[0m\u001b[0;34m\u001b[0m\u001b[0;34m\u001b[0m\u001b[0m\n",
            "\u001b[0;32m/usr/local/lib/python3.11/dist-packages/ipykernel/kernelbase.py\u001b[0m in \u001b[0;36mraw_input\u001b[0;34m(self, prompt)\u001b[0m\n\u001b[1;32m   1175\u001b[0m                 \u001b[0;34m\"raw_input was called, but this frontend does not support input requests.\"\u001b[0m\u001b[0;34m\u001b[0m\u001b[0;34m\u001b[0m\u001b[0m\n\u001b[1;32m   1176\u001b[0m             )\n\u001b[0;32m-> 1177\u001b[0;31m         return self._input_request(\n\u001b[0m\u001b[1;32m   1178\u001b[0m             \u001b[0mstr\u001b[0m\u001b[0;34m(\u001b[0m\u001b[0mprompt\u001b[0m\u001b[0;34m)\u001b[0m\u001b[0;34m,\u001b[0m\u001b[0;34m\u001b[0m\u001b[0;34m\u001b[0m\u001b[0m\n\u001b[1;32m   1179\u001b[0m             \u001b[0mself\u001b[0m\u001b[0;34m.\u001b[0m\u001b[0m_parent_ident\u001b[0m\u001b[0;34m[\u001b[0m\u001b[0;34m\"shell\"\u001b[0m\u001b[0;34m]\u001b[0m\u001b[0;34m,\u001b[0m\u001b[0;34m\u001b[0m\u001b[0;34m\u001b[0m\u001b[0m\n",
            "\u001b[0;32m/usr/local/lib/python3.11/dist-packages/ipykernel/kernelbase.py\u001b[0m in \u001b[0;36m_input_request\u001b[0;34m(self, prompt, ident, parent, password)\u001b[0m\n\u001b[1;32m   1217\u001b[0m             \u001b[0;32mexcept\u001b[0m \u001b[0mKeyboardInterrupt\u001b[0m\u001b[0;34m:\u001b[0m\u001b[0;34m\u001b[0m\u001b[0;34m\u001b[0m\u001b[0m\n\u001b[1;32m   1218\u001b[0m                 \u001b[0;31m# re-raise KeyboardInterrupt, to truncate traceback\u001b[0m\u001b[0;34m\u001b[0m\u001b[0;34m\u001b[0m\u001b[0m\n\u001b[0;32m-> 1219\u001b[0;31m                 \u001b[0;32mraise\u001b[0m \u001b[0mKeyboardInterrupt\u001b[0m\u001b[0;34m(\u001b[0m\u001b[0;34m\"Interrupted by user\"\u001b[0m\u001b[0;34m)\u001b[0m \u001b[0;32mfrom\u001b[0m \u001b[0;32mNone\u001b[0m\u001b[0;34m\u001b[0m\u001b[0;34m\u001b[0m\u001b[0m\n\u001b[0m\u001b[1;32m   1220\u001b[0m             \u001b[0;32mexcept\u001b[0m \u001b[0mException\u001b[0m\u001b[0;34m:\u001b[0m\u001b[0;34m\u001b[0m\u001b[0;34m\u001b[0m\u001b[0m\n\u001b[1;32m   1221\u001b[0m                 \u001b[0mself\u001b[0m\u001b[0;34m.\u001b[0m\u001b[0mlog\u001b[0m\u001b[0;34m.\u001b[0m\u001b[0mwarning\u001b[0m\u001b[0;34m(\u001b[0m\u001b[0;34m\"Invalid Message:\"\u001b[0m\u001b[0;34m,\u001b[0m \u001b[0mexc_info\u001b[0m\u001b[0;34m=\u001b[0m\u001b[0;32mTrue\u001b[0m\u001b[0;34m)\u001b[0m\u001b[0;34m\u001b[0m\u001b[0;34m\u001b[0m\u001b[0m\n",
            "\u001b[0;31mKeyboardInterrupt\u001b[0m: Interrupted by user"
          ]
        }
      ]
    },
    {
      "cell_type": "markdown",
      "source": [
        "# Versi kode Lama"
      ],
      "metadata": {
        "id": "jTnacBkWOO7i"
      }
    },
    {
      "cell_type": "code",
      "source": [
        "!pip list"
      ],
      "metadata": {
        "id": "El8gkzlkHbEG"
      },
      "execution_count": null,
      "outputs": []
    },
    {
      "cell_type": "code",
      "source": [
        "# Simpan\n",
        "# with open('responses.pickle', 'wb') as handle:\n",
        "#     pickle.dump(responses, handle, protocol=pickle.HIGHEST_PROTOCOL)"
      ],
      "metadata": {
        "id": "c1S5gI9vAFLs"
      },
      "execution_count": null,
      "outputs": []
    },
    {
      "cell_type": "markdown",
      "metadata": {
        "id": "wAWbjZXf8JSa"
      },
      "source": [
        "## Preprocessing"
      ]
    },
    {
      "cell_type": "code",
      "execution_count": null,
      "metadata": {
        "colab": {
          "base_uri": "https://localhost:8080/",
          "height": 206
        },
        "id": "NqGFqFbf8LEm",
        "outputId": "aafe4123-a8ed-4dee-98aa-4b1bac26b443"
      },
      "outputs": [
        {
          "output_type": "display_data",
          "data": {
            "text/plain": [
              "         inputs      tags\n",
              "0  selamat pagi  greeting\n",
              "1           hai  greeting\n",
              "2          halo  greeting\n",
              "3         salam  greeting\n",
              "4     apa kabar  greeting"
            ],
            "text/html": [
              "\n",
              "  <div id=\"df-fa59b73f-2b16-49f1-a686-7411c3da24cc\" class=\"colab-df-container\">\n",
              "    <div>\n",
              "<style scoped>\n",
              "    .dataframe tbody tr th:only-of-type {\n",
              "        vertical-align: middle;\n",
              "    }\n",
              "\n",
              "    .dataframe tbody tr th {\n",
              "        vertical-align: top;\n",
              "    }\n",
              "\n",
              "    .dataframe thead th {\n",
              "        text-align: right;\n",
              "    }\n",
              "</style>\n",
              "<table border=\"1\" class=\"dataframe\">\n",
              "  <thead>\n",
              "    <tr style=\"text-align: right;\">\n",
              "      <th></th>\n",
              "      <th>inputs</th>\n",
              "      <th>tags</th>\n",
              "    </tr>\n",
              "  </thead>\n",
              "  <tbody>\n",
              "    <tr>\n",
              "      <th>0</th>\n",
              "      <td>selamat pagi</td>\n",
              "      <td>greeting</td>\n",
              "    </tr>\n",
              "    <tr>\n",
              "      <th>1</th>\n",
              "      <td>hai</td>\n",
              "      <td>greeting</td>\n",
              "    </tr>\n",
              "    <tr>\n",
              "      <th>2</th>\n",
              "      <td>halo</td>\n",
              "      <td>greeting</td>\n",
              "    </tr>\n",
              "    <tr>\n",
              "      <th>3</th>\n",
              "      <td>salam</td>\n",
              "      <td>greeting</td>\n",
              "    </tr>\n",
              "    <tr>\n",
              "      <th>4</th>\n",
              "      <td>apa kabar</td>\n",
              "      <td>greeting</td>\n",
              "    </tr>\n",
              "  </tbody>\n",
              "</table>\n",
              "</div>\n",
              "    <div class=\"colab-df-buttons\">\n",
              "\n",
              "  <div class=\"colab-df-container\">\n",
              "    <button class=\"colab-df-convert\" onclick=\"convertToInteractive('df-fa59b73f-2b16-49f1-a686-7411c3da24cc')\"\n",
              "            title=\"Convert this dataframe to an interactive table.\"\n",
              "            style=\"display:none;\">\n",
              "\n",
              "  <svg xmlns=\"http://www.w3.org/2000/svg\" height=\"24px\" viewBox=\"0 -960 960 960\">\n",
              "    <path d=\"M120-120v-720h720v720H120Zm60-500h600v-160H180v160Zm220 220h160v-160H400v160Zm0 220h160v-160H400v160ZM180-400h160v-160H180v160Zm440 0h160v-160H620v160ZM180-180h160v-160H180v160Zm440 0h160v-160H620v160Z\"/>\n",
              "  </svg>\n",
              "    </button>\n",
              "\n",
              "  <style>\n",
              "    .colab-df-container {\n",
              "      display:flex;\n",
              "      gap: 12px;\n",
              "    }\n",
              "\n",
              "    .colab-df-convert {\n",
              "      background-color: #E8F0FE;\n",
              "      border: none;\n",
              "      border-radius: 50%;\n",
              "      cursor: pointer;\n",
              "      display: none;\n",
              "      fill: #1967D2;\n",
              "      height: 32px;\n",
              "      padding: 0 0 0 0;\n",
              "      width: 32px;\n",
              "    }\n",
              "\n",
              "    .colab-df-convert:hover {\n",
              "      background-color: #E2EBFA;\n",
              "      box-shadow: 0px 1px 2px rgba(60, 64, 67, 0.3), 0px 1px 3px 1px rgba(60, 64, 67, 0.15);\n",
              "      fill: #174EA6;\n",
              "    }\n",
              "\n",
              "    .colab-df-buttons div {\n",
              "      margin-bottom: 4px;\n",
              "    }\n",
              "\n",
              "    [theme=dark] .colab-df-convert {\n",
              "      background-color: #3B4455;\n",
              "      fill: #D2E3FC;\n",
              "    }\n",
              "\n",
              "    [theme=dark] .colab-df-convert:hover {\n",
              "      background-color: #434B5C;\n",
              "      box-shadow: 0px 1px 3px 1px rgba(0, 0, 0, 0.15);\n",
              "      filter: drop-shadow(0px 1px 2px rgba(0, 0, 0, 0.3));\n",
              "      fill: #FFFFFF;\n",
              "    }\n",
              "  </style>\n",
              "\n",
              "    <script>\n",
              "      const buttonEl =\n",
              "        document.querySelector('#df-fa59b73f-2b16-49f1-a686-7411c3da24cc button.colab-df-convert');\n",
              "      buttonEl.style.display =\n",
              "        google.colab.kernel.accessAllowed ? 'block' : 'none';\n",
              "\n",
              "      async function convertToInteractive(key) {\n",
              "        const element = document.querySelector('#df-fa59b73f-2b16-49f1-a686-7411c3da24cc');\n",
              "        const dataTable =\n",
              "          await google.colab.kernel.invokeFunction('convertToInteractive',\n",
              "                                                    [key], {});\n",
              "        if (!dataTable) return;\n",
              "\n",
              "        const docLinkHtml = 'Like what you see? Visit the ' +\n",
              "          '<a target=\"_blank\" href=https://colab.research.google.com/notebooks/data_table.ipynb>data table notebook</a>'\n",
              "          + ' to learn more about interactive tables.';\n",
              "        element.innerHTML = '';\n",
              "        dataTable['output_type'] = 'display_data';\n",
              "        await google.colab.output.renderOutput(dataTable, element);\n",
              "        const docLink = document.createElement('div');\n",
              "        docLink.innerHTML = docLinkHtml;\n",
              "        element.appendChild(docLink);\n",
              "      }\n",
              "    </script>\n",
              "  </div>\n",
              "\n",
              "\n",
              "    <div id=\"df-5cf0b662-cc7d-4bae-9a24-7404e0365b4b\">\n",
              "      <button class=\"colab-df-quickchart\" onclick=\"quickchart('df-5cf0b662-cc7d-4bae-9a24-7404e0365b4b')\"\n",
              "                title=\"Suggest charts\"\n",
              "                style=\"display:none;\">\n",
              "\n",
              "<svg xmlns=\"http://www.w3.org/2000/svg\" height=\"24px\"viewBox=\"0 0 24 24\"\n",
              "     width=\"24px\">\n",
              "    <g>\n",
              "        <path d=\"M19 3H5c-1.1 0-2 .9-2 2v14c0 1.1.9 2 2 2h14c1.1 0 2-.9 2-2V5c0-1.1-.9-2-2-2zM9 17H7v-7h2v7zm4 0h-2V7h2v10zm4 0h-2v-4h2v4z\"/>\n",
              "    </g>\n",
              "</svg>\n",
              "      </button>\n",
              "\n",
              "<style>\n",
              "  .colab-df-quickchart {\n",
              "      --bg-color: #E8F0FE;\n",
              "      --fill-color: #1967D2;\n",
              "      --hover-bg-color: #E2EBFA;\n",
              "      --hover-fill-color: #174EA6;\n",
              "      --disabled-fill-color: #AAA;\n",
              "      --disabled-bg-color: #DDD;\n",
              "  }\n",
              "\n",
              "  [theme=dark] .colab-df-quickchart {\n",
              "      --bg-color: #3B4455;\n",
              "      --fill-color: #D2E3FC;\n",
              "      --hover-bg-color: #434B5C;\n",
              "      --hover-fill-color: #FFFFFF;\n",
              "      --disabled-bg-color: #3B4455;\n",
              "      --disabled-fill-color: #666;\n",
              "  }\n",
              "\n",
              "  .colab-df-quickchart {\n",
              "    background-color: var(--bg-color);\n",
              "    border: none;\n",
              "    border-radius: 50%;\n",
              "    cursor: pointer;\n",
              "    display: none;\n",
              "    fill: var(--fill-color);\n",
              "    height: 32px;\n",
              "    padding: 0;\n",
              "    width: 32px;\n",
              "  }\n",
              "\n",
              "  .colab-df-quickchart:hover {\n",
              "    background-color: var(--hover-bg-color);\n",
              "    box-shadow: 0 1px 2px rgba(60, 64, 67, 0.3), 0 1px 3px 1px rgba(60, 64, 67, 0.15);\n",
              "    fill: var(--button-hover-fill-color);\n",
              "  }\n",
              "\n",
              "  .colab-df-quickchart-complete:disabled,\n",
              "  .colab-df-quickchart-complete:disabled:hover {\n",
              "    background-color: var(--disabled-bg-color);\n",
              "    fill: var(--disabled-fill-color);\n",
              "    box-shadow: none;\n",
              "  }\n",
              "\n",
              "  .colab-df-spinner {\n",
              "    border: 2px solid var(--fill-color);\n",
              "    border-color: transparent;\n",
              "    border-bottom-color: var(--fill-color);\n",
              "    animation:\n",
              "      spin 1s steps(1) infinite;\n",
              "  }\n",
              "\n",
              "  @keyframes spin {\n",
              "    0% {\n",
              "      border-color: transparent;\n",
              "      border-bottom-color: var(--fill-color);\n",
              "      border-left-color: var(--fill-color);\n",
              "    }\n",
              "    20% {\n",
              "      border-color: transparent;\n",
              "      border-left-color: var(--fill-color);\n",
              "      border-top-color: var(--fill-color);\n",
              "    }\n",
              "    30% {\n",
              "      border-color: transparent;\n",
              "      border-left-color: var(--fill-color);\n",
              "      border-top-color: var(--fill-color);\n",
              "      border-right-color: var(--fill-color);\n",
              "    }\n",
              "    40% {\n",
              "      border-color: transparent;\n",
              "      border-right-color: var(--fill-color);\n",
              "      border-top-color: var(--fill-color);\n",
              "    }\n",
              "    60% {\n",
              "      border-color: transparent;\n",
              "      border-right-color: var(--fill-color);\n",
              "    }\n",
              "    80% {\n",
              "      border-color: transparent;\n",
              "      border-right-color: var(--fill-color);\n",
              "      border-bottom-color: var(--fill-color);\n",
              "    }\n",
              "    90% {\n",
              "      border-color: transparent;\n",
              "      border-bottom-color: var(--fill-color);\n",
              "    }\n",
              "  }\n",
              "</style>\n",
              "\n",
              "      <script>\n",
              "        async function quickchart(key) {\n",
              "          const quickchartButtonEl =\n",
              "            document.querySelector('#' + key + ' button');\n",
              "          quickchartButtonEl.disabled = true;  // To prevent multiple clicks.\n",
              "          quickchartButtonEl.classList.add('colab-df-spinner');\n",
              "          try {\n",
              "            const charts = await google.colab.kernel.invokeFunction(\n",
              "                'suggestCharts', [key], {});\n",
              "          } catch (error) {\n",
              "            console.error('Error during call to suggestCharts:', error);\n",
              "          }\n",
              "          quickchartButtonEl.classList.remove('colab-df-spinner');\n",
              "          quickchartButtonEl.classList.add('colab-df-quickchart-complete');\n",
              "        }\n",
              "        (() => {\n",
              "          let quickchartButtonEl =\n",
              "            document.querySelector('#df-5cf0b662-cc7d-4bae-9a24-7404e0365b4b button');\n",
              "          quickchartButtonEl.style.display =\n",
              "            google.colab.kernel.accessAllowed ? 'block' : 'none';\n",
              "        })();\n",
              "      </script>\n",
              "    </div>\n",
              "\n",
              "    </div>\n",
              "  </div>\n"
            ],
            "application/vnd.google.colaboratory.intrinsic+json": {
              "type": "dataframe",
              "summary": "{\n  \"name\": \"train = tokenizer\",\n  \"rows\": 5,\n  \"fields\": [\n    {\n      \"column\": \"inputs\",\n      \"properties\": {\n        \"dtype\": \"string\",\n        \"num_unique_values\": 5,\n        \"samples\": [\n          \"hai\",\n          \"apa kabar\",\n          \"halo\"\n        ],\n        \"semantic_type\": \"\",\n        \"description\": \"\"\n      }\n    },\n    {\n      \"column\": \"tags\",\n      \"properties\": {\n        \"dtype\": \"category\",\n        \"num_unique_values\": 1,\n        \"samples\": [\n          \"greeting\"\n        ],\n        \"semantic_type\": \"\",\n        \"description\": \"\"\n      }\n    }\n  ]\n}"
            }
          },
          "metadata": {}
        }
      ],
      "source": [
        "#remove punctuation\n",
        "import string\n",
        "data['inputs'] = data['inputs'].apply(lambda wrd:[ltrs.lower() for ltrs in wrd if ltrs not in string.punctuation])\n",
        "data['inputs'] = data['inputs'].apply(lambda wrd: ''.join(wrd))\n",
        "display(data.head())\n",
        "data.shape\n",
        "\n",
        "# tokenize\n",
        "# Membuat tokenisasi\n",
        "filt = '!\"#$%&()*+.,-/:;=?@[\\]^_`{|}~ ' # Filter untuk menghilangkan symbols\n",
        "\n",
        "from tensorflow.keras.preprocessing.text import Tokenizer\n",
        "tokenizer = Tokenizer(num_words=1000, oov_token=\"<OOV>\", filters=filt) # 2000 popular word, token 0 unutk padding\n",
        "\n",
        "tokenizer.fit_on_texts(data['inputs'])\n",
        "train = tokenizer.texts_to_sequences(data['inputs'])"
      ]
    },
    {
      "cell_type": "code",
      "execution_count": null,
      "metadata": {
        "id": "JuYpUTk64E6t"
      },
      "outputs": [],
      "source": [
        "# import pickle\n",
        "# Simpan\n",
        "# with open('tokenizer.pickle', 'wb') as handle:\n",
        "#     pickle.dump(tokenizer, handle, protocol=pickle.HIGHEST_PROTOCOL)\n",
        "\n",
        "word_index = tokenizer.word_index\n",
        "# # Simpan tokenizer ke file\n",
        "with open('word_index.json', 'w') as fp:\n",
        "    json.dump(word_index, fp)"
      ]
    },
    {
      "cell_type": "markdown",
      "metadata": {
        "id": "Q68i5Ngv7vme"
      },
      "source": [
        "Tensorflow's tokenize assign a unique token to each distict word"
      ]
    },
    {
      "cell_type": "code",
      "execution_count": null,
      "metadata": {
        "colab": {
          "base_uri": "https://localhost:8080/"
        },
        "id": "2MHLNPEz722Y",
        "outputId": "014c51fa-3bb1-4057-8dc2-1115dccee071"
      },
      "outputs": [
        {
          "output_type": "stream",
          "name": "stdout",
          "text": [
            "5\n"
          ]
        }
      ],
      "source": [
        "# apply padding\n",
        "maxLen = 5\n",
        "\n",
        "# from tensorflow.keras.preprocessing.sequence import pad_sequences\n",
        "x_train = pad_sequences(train,\n",
        "                      maxlen=maxLen,\n",
        "                      padding='post',\n",
        "                      truncating='post')\n",
        "\n",
        "# # encoding the outputs\n",
        "from sklearn.preprocessing import LabelEncoder\n",
        "le = LabelEncoder()\n",
        "y_train = le.fit_transform(data['tags'])\n",
        "\n",
        "input_shape = x_train.shape[1]\n",
        "print(input_shape)"
      ]
    },
    {
      "cell_type": "code",
      "execution_count": null,
      "metadata": {
        "colab": {
          "base_uri": "https://localhost:8080/"
        },
        "id": "cGxZUv2M8BGc",
        "outputId": "fa27d05b-22b9-4ace-e198-a13ddb03c757"
      },
      "outputs": [
        {
          "output_type": "stream",
          "name": "stdout",
          "text": [
            "number of unique words :  77\n",
            "output length :  10\n"
          ]
        }
      ],
      "source": [
        "# Simpan\n",
        "# with open('label_encoder.pickle', 'wb') as handle:\n",
        "#     pickle.dump(le, handle, protocol=pickle.HIGHEST_PROTOCOL)\n",
        "\n",
        "# define vocabulary\n",
        "vocabulary = len(tokenizer.word_index)\n",
        "print(\"number of unique words : \", vocabulary)\n",
        "output_length = le.classes_.shape[0]\n",
        "print(\"output length : \", output_length)"
      ]
    },
    {
      "cell_type": "markdown",
      "metadata": {
        "id": "WrmileLU8q58"
      },
      "source": [
        "## Neural Network\n",
        "The network consist of an embedding layer, is the main part which gives has a corresponding vector for each word in the dataset"
      ]
    },
    {
      "cell_type": "code",
      "execution_count": null,
      "metadata": {
        "colab": {
          "base_uri": "https://localhost:8080/"
        },
        "id": "kQ7jJKVJ8oEW",
        "outputId": "03f9ece5-eccd-4a77-b0c1-1d440f93a4ad"
      },
      "outputs": [
        {
          "output_type": "stream",
          "name": "stdout",
          "text": [
            "Epoch 1/100\n",
            "\u001b[1m2/2\u001b[0m \u001b[32m━━━━━━━━━━━━━━━━━━━━\u001b[0m\u001b[37m\u001b[0m \u001b[1m7s\u001b[0m 811ms/step - accuracy: 0.1907 - loss: 2.3326 - val_accuracy: 0.0000e+00 - val_loss: 2.3433\n",
            "Epoch 2/100\n",
            "\u001b[1m2/2\u001b[0m \u001b[32m━━━━━━━━━━━━━━━━━━━━\u001b[0m\u001b[37m\u001b[0m \u001b[1m1s\u001b[0m 88ms/step - accuracy: 0.1546 - loss: 2.3289 - val_accuracy: 0.0000e+00 - val_loss: 2.3504\n",
            "Epoch 3/100\n",
            "\u001b[1m2/2\u001b[0m \u001b[32m━━━━━━━━━━━━━━━━━━━━\u001b[0m\u001b[37m\u001b[0m \u001b[1m0s\u001b[0m 78ms/step - accuracy: 0.1571 - loss: 2.3262 - val_accuracy: 0.0000e+00 - val_loss: 2.3577\n",
            "Epoch 4/100\n",
            "\u001b[1m2/2\u001b[0m \u001b[32m━━━━━━━━━━━━━━━━━━━━\u001b[0m\u001b[37m\u001b[0m \u001b[1m0s\u001b[0m 72ms/step - accuracy: 0.1779 - loss: 2.3223 - val_accuracy: 0.0000e+00 - val_loss: 2.3655\n",
            "Epoch 5/100\n",
            "\u001b[1m2/2\u001b[0m \u001b[32m━━━━━━━━━━━━━━━━━━━━\u001b[0m\u001b[37m\u001b[0m \u001b[1m0s\u001b[0m 71ms/step - accuracy: 0.1210 - loss: 2.3207 - val_accuracy: 0.0000e+00 - val_loss: 2.3735\n",
            "Epoch 6/100\n",
            "\u001b[1m2/2\u001b[0m \u001b[32m━━━━━━━━━━━━━━━━━━━━\u001b[0m\u001b[37m\u001b[0m \u001b[1m0s\u001b[0m 77ms/step - accuracy: 0.2452 - loss: 2.3130 - val_accuracy: 0.0000e+00 - val_loss: 2.3820\n",
            "Epoch 7/100\n",
            "\u001b[1m2/2\u001b[0m \u001b[32m━━━━━━━━━━━━━━━━━━━━\u001b[0m\u001b[37m\u001b[0m \u001b[1m0s\u001b[0m 75ms/step - accuracy: 0.1779 - loss: 2.3119 - val_accuracy: 0.0000e+00 - val_loss: 2.3909\n",
            "Epoch 8/100\n",
            "\u001b[1m2/2\u001b[0m \u001b[32m━━━━━━━━━━━━━━━━━━━━\u001b[0m\u001b[37m\u001b[0m \u001b[1m0s\u001b[0m 80ms/step - accuracy: 0.1571 - loss: 2.3100 - val_accuracy: 0.0000e+00 - val_loss: 2.4003\n",
            "Epoch 9/100\n",
            "\u001b[1m2/2\u001b[0m \u001b[32m━━━━━━━━━━━━━━━━━━━━\u001b[0m\u001b[37m\u001b[0m \u001b[1m0s\u001b[0m 122ms/step - accuracy: 0.2011 - loss: 2.3040 - val_accuracy: 0.0000e+00 - val_loss: 2.4105\n",
            "Epoch 10/100\n",
            "\u001b[1m2/2\u001b[0m \u001b[32m━━━━━━━━━━━━━━━━━━━━\u001b[0m\u001b[37m\u001b[0m \u001b[1m0s\u001b[0m 80ms/step - accuracy: 0.1803 - loss: 2.3008 - val_accuracy: 0.0000e+00 - val_loss: 2.4218\n",
            "Epoch 11/100\n",
            "\u001b[1m2/2\u001b[0m \u001b[32m━━━━━━━━━━━━━━━━━━━━\u001b[0m\u001b[37m\u001b[0m \u001b[1m0s\u001b[0m 84ms/step - accuracy: 0.1675 - loss: 2.2955 - val_accuracy: 0.0000e+00 - val_loss: 2.4339\n",
            "Epoch 12/100\n",
            "\u001b[1m2/2\u001b[0m \u001b[32m━━━━━━━━━━━━━━━━━━━━\u001b[0m\u001b[37m\u001b[0m \u001b[1m0s\u001b[0m 81ms/step - accuracy: 0.1779 - loss: 2.2914 - val_accuracy: 0.0000e+00 - val_loss: 2.4469\n",
            "Epoch 13/100\n",
            "\u001b[1m2/2\u001b[0m \u001b[32m━━━━━━━━━━━━━━━━━━━━\u001b[0m\u001b[37m\u001b[0m \u001b[1m0s\u001b[0m 80ms/step - accuracy: 0.1779 - loss: 2.2872 - val_accuracy: 0.0000e+00 - val_loss: 2.4611\n",
            "Epoch 14/100\n",
            "\u001b[1m2/2\u001b[0m \u001b[32m━━━━━━━━━━━━━━━━━━━━\u001b[0m\u001b[37m\u001b[0m \u001b[1m0s\u001b[0m 80ms/step - accuracy: 0.1675 - loss: 2.2818 - val_accuracy: 0.0000e+00 - val_loss: 2.4767\n",
            "Epoch 15/100\n",
            "\u001b[1m2/2\u001b[0m \u001b[32m━━━━━━━━━━━━━━━━━━━━\u001b[0m\u001b[37m\u001b[0m \u001b[1m0s\u001b[0m 85ms/step - accuracy: 0.1675 - loss: 2.2741 - val_accuracy: 0.0000e+00 - val_loss: 2.4944\n",
            "Epoch 16/100\n",
            "\u001b[1m2/2\u001b[0m \u001b[32m━━━━━━━━━━━━━━━━━━━━\u001b[0m\u001b[37m\u001b[0m \u001b[1m0s\u001b[0m 95ms/step - accuracy: 0.1779 - loss: 2.2725 - val_accuracy: 0.0000e+00 - val_loss: 2.5142\n",
            "Epoch 17/100\n",
            "\u001b[1m2/2\u001b[0m \u001b[32m━━━━━━━━━━━━━━━━━━━━\u001b[0m\u001b[37m\u001b[0m \u001b[1m0s\u001b[0m 83ms/step - accuracy: 0.1442 - loss: 2.2554 - val_accuracy: 0.0000e+00 - val_loss: 2.5368\n",
            "Epoch 18/100\n",
            "\u001b[1m2/2\u001b[0m \u001b[32m━━━━━━━━━━━━━━━━━━━━\u001b[0m\u001b[37m\u001b[0m \u001b[1m0s\u001b[0m 81ms/step - accuracy: 0.1883 - loss: 2.2598 - val_accuracy: 0.0000e+00 - val_loss: 2.5620\n",
            "Epoch 19/100\n",
            "\u001b[1m2/2\u001b[0m \u001b[32m━━━━━━━━━━━━━━━━━━━━\u001b[0m\u001b[37m\u001b[0m \u001b[1m0s\u001b[0m 72ms/step - accuracy: 0.2220 - loss: 2.2477 - val_accuracy: 0.0000e+00 - val_loss: 2.5902\n",
            "Epoch 20/100\n",
            "\u001b[1m2/2\u001b[0m \u001b[32m━━━━━━━━━━━━━━━━━━━━\u001b[0m\u001b[37m\u001b[0m \u001b[1m0s\u001b[0m 73ms/step - accuracy: 0.1779 - loss: 2.2449 - val_accuracy: 0.0000e+00 - val_loss: 2.6217\n",
            "Epoch 21/100\n",
            "\u001b[1m2/2\u001b[0m \u001b[32m━━━━━━━━━━━━━━━━━━━━\u001b[0m\u001b[37m\u001b[0m \u001b[1m0s\u001b[0m 78ms/step - accuracy: 0.1571 - loss: 2.2393 - val_accuracy: 0.0000e+00 - val_loss: 2.6576\n",
            "Epoch 22/100\n",
            "\u001b[1m2/2\u001b[0m \u001b[32m━━━━━━━━━━━━━━━━━━━━\u001b[0m\u001b[37m\u001b[0m \u001b[1m0s\u001b[0m 76ms/step - accuracy: 0.1883 - loss: 2.2192 - val_accuracy: 0.0000e+00 - val_loss: 2.6988\n",
            "Epoch 23/100\n",
            "\u001b[1m2/2\u001b[0m \u001b[32m━━━━━━━━━━━━━━━━━━━━\u001b[0m\u001b[37m\u001b[0m \u001b[1m0s\u001b[0m 86ms/step - accuracy: 0.1651 - loss: 2.2256 - val_accuracy: 0.0000e+00 - val_loss: 2.7417\n",
            "Epoch 24/100\n",
            "\u001b[1m2/2\u001b[0m \u001b[32m━━━━━━━━━━━━━━━━━━━━\u001b[0m\u001b[37m\u001b[0m \u001b[1m0s\u001b[0m 91ms/step - accuracy: 0.1779 - loss: 2.1991 - val_accuracy: 0.0000e+00 - val_loss: 2.7877\n",
            "Epoch 25/100\n",
            "\u001b[1m2/2\u001b[0m \u001b[32m━━━━━━━━━━━━━━━━━━━━\u001b[0m\u001b[37m\u001b[0m \u001b[1m0s\u001b[0m 76ms/step - accuracy: 0.1675 - loss: 2.1894 - val_accuracy: 0.0000e+00 - val_loss: 2.8399\n",
            "Epoch 26/100\n",
            "\u001b[1m2/2\u001b[0m \u001b[32m━━━━━━━━━━━━━━━━━━━━\u001b[0m\u001b[37m\u001b[0m \u001b[1m0s\u001b[0m 82ms/step - accuracy: 0.2011 - loss: 2.1833 - val_accuracy: 0.0000e+00 - val_loss: 2.8962\n",
            "Epoch 27/100\n",
            "\u001b[1m2/2\u001b[0m \u001b[32m━━━━━━━━━━━━━━━━━━━━\u001b[0m\u001b[37m\u001b[0m \u001b[1m0s\u001b[0m 83ms/step - accuracy: 0.2035 - loss: 2.1708 - val_accuracy: 0.0000e+00 - val_loss: 2.9598\n",
            "Epoch 28/100\n",
            "\u001b[1m2/2\u001b[0m \u001b[32m━━━━━━━━━━━━━━━━━━━━\u001b[0m\u001b[37m\u001b[0m \u001b[1m0s\u001b[0m 81ms/step - accuracy: 0.2011 - loss: 2.1583 - val_accuracy: 0.0000e+00 - val_loss: 3.0283\n",
            "Epoch 29/100\n",
            "\u001b[1m2/2\u001b[0m \u001b[32m━━━━━━━━━━━━━━━━━━━━\u001b[0m\u001b[37m\u001b[0m \u001b[1m0s\u001b[0m 81ms/step - accuracy: 0.1651 - loss: 2.1736 - val_accuracy: 0.0000e+00 - val_loss: 3.0948\n",
            "Epoch 30/100\n",
            "\u001b[1m2/2\u001b[0m \u001b[32m━━━━━━━━━━━━━━━━━━━━\u001b[0m\u001b[37m\u001b[0m \u001b[1m0s\u001b[0m 84ms/step - accuracy: 0.2115 - loss: 2.1271 - val_accuracy: 0.0000e+00 - val_loss: 3.1611\n",
            "Epoch 31/100\n",
            "\u001b[1m2/2\u001b[0m \u001b[32m━━━━━━━━━━━━━━━━━━━━\u001b[0m\u001b[37m\u001b[0m \u001b[1m0s\u001b[0m 84ms/step - accuracy: 0.1779 - loss: 2.1254 - val_accuracy: 0.0000e+00 - val_loss: 3.2255\n"
          ]
        }
      ],
      "source": [
        "from tensorflow.keras import layers, Sequential, regularizers\n",
        "\n",
        "model = Sequential([\n",
        "    layers.Embedding(input_dim=200, output_dim=16, input_length=maxLen),\n",
        "    layers.LSTM(32, return_sequences=True, dropout=0.2, recurrent_dropout=0.2),\n",
        "    layers.GlobalAveragePooling1D(),\n",
        "    layers.Dense(32, activation='relu', kernel_regularizer=regularizers.l2(0.001)),\n",
        "    layers.Dropout(0.2),\n",
        "    layers.Dense(output_length, activation='softmax', name=\"predictions\")\n",
        "])\n",
        "\n",
        "early_stop = EarlyStopping(\n",
        "    monitor='val_accuracy',\n",
        "    patience=30,\n",
        "    restore_best_weights=True\n",
        ")\n",
        "\n",
        "model.compile(\n",
        "    loss=\"sparse_categorical_crossentropy\",\n",
        "    optimizer=\"adam\",\n",
        "    metrics=[\"accuracy\"]\n",
        ")\n",
        "\n",
        "history = model.fit(\n",
        "    x_train, y_train,\n",
        "    validation_split=0.2,\n",
        "    epochs=100,\n",
        "    batch_size=32,\n",
        "    callbacks=[early_stop],\n",
        "    verbose=1\n",
        ")"
      ]
    },
    {
      "cell_type": "code",
      "source": [
        "model.summary()"
      ],
      "metadata": {
        "colab": {
          "base_uri": "https://localhost:8080/",
          "height": 302
        },
        "id": "old8L60eaV94",
        "outputId": "3dc63132-74d7-42ee-8c93-500addfc696a"
      },
      "execution_count": null,
      "outputs": [
        {
          "output_type": "display_data",
          "data": {
            "text/plain": [
              "\u001b[1mModel: \"sequential_12\"\u001b[0m\n"
            ],
            "text/html": [
              "<pre style=\"white-space:pre;overflow-x:auto;line-height:normal;font-family:Menlo,'DejaVu Sans Mono',consolas,'Courier New',monospace\"><span style=\"font-weight: bold\">Model: \"sequential_12\"</span>\n",
              "</pre>\n"
            ]
          },
          "metadata": {}
        },
        {
          "output_type": "display_data",
          "data": {
            "text/plain": [
              "┏━━━━━━━━━━━━━━━━━━━━━━━━━━━━━━━━━┳━━━━━━━━━━━━━━━━━━━━━━━━┳━━━━━━━━━━━━━━━┓\n",
              "┃\u001b[1m \u001b[0m\u001b[1mLayer (type)                   \u001b[0m\u001b[1m \u001b[0m┃\u001b[1m \u001b[0m\u001b[1mOutput Shape          \u001b[0m\u001b[1m \u001b[0m┃\u001b[1m \u001b[0m\u001b[1m      Param #\u001b[0m\u001b[1m \u001b[0m┃\n",
              "┡━━━━━━━━━━━━━━━━━━━━━━━━━━━━━━━━━╇━━━━━━━━━━━━━━━━━━━━━━━━╇━━━━━━━━━━━━━━━┩\n",
              "│ embedding_13 (\u001b[38;5;33mEmbedding\u001b[0m)        │ (\u001b[38;5;45mNone\u001b[0m, \u001b[38;5;34m5\u001b[0m, \u001b[38;5;34m16\u001b[0m)          │         \u001b[38;5;34m3,200\u001b[0m │\n",
              "├─────────────────────────────────┼────────────────────────┼───────────────┤\n",
              "│ lstm_13 (\u001b[38;5;33mLSTM\u001b[0m)                  │ (\u001b[38;5;45mNone\u001b[0m, \u001b[38;5;34m32\u001b[0m)             │         \u001b[38;5;34m6,272\u001b[0m │\n",
              "├─────────────────────────────────┼────────────────────────┼───────────────┤\n",
              "│ dense_9 (\u001b[38;5;33mDense\u001b[0m)                 │ (\u001b[38;5;45mNone\u001b[0m, \u001b[38;5;34m32\u001b[0m)             │         \u001b[38;5;34m1,056\u001b[0m │\n",
              "├─────────────────────────────────┼────────────────────────┼───────────────┤\n",
              "│ dropout_3 (\u001b[38;5;33mDropout\u001b[0m)             │ (\u001b[38;5;45mNone\u001b[0m, \u001b[38;5;34m32\u001b[0m)             │             \u001b[38;5;34m0\u001b[0m │\n",
              "├─────────────────────────────────┼────────────────────────┼───────────────┤\n",
              "│ predictions (\u001b[38;5;33mDense\u001b[0m)             │ (\u001b[38;5;45mNone\u001b[0m, \u001b[38;5;34m10\u001b[0m)             │           \u001b[38;5;34m330\u001b[0m │\n",
              "└─────────────────────────────────┴────────────────────────┴───────────────┘\n"
            ],
            "text/html": [
              "<pre style=\"white-space:pre;overflow-x:auto;line-height:normal;font-family:Menlo,'DejaVu Sans Mono',consolas,'Courier New',monospace\">┏━━━━━━━━━━━━━━━━━━━━━━━━━━━━━━━━━┳━━━━━━━━━━━━━━━━━━━━━━━━┳━━━━━━━━━━━━━━━┓\n",
              "┃<span style=\"font-weight: bold\"> Layer (type)                    </span>┃<span style=\"font-weight: bold\"> Output Shape           </span>┃<span style=\"font-weight: bold\">       Param # </span>┃\n",
              "┡━━━━━━━━━━━━━━━━━━━━━━━━━━━━━━━━━╇━━━━━━━━━━━━━━━━━━━━━━━━╇━━━━━━━━━━━━━━━┩\n",
              "│ embedding_13 (<span style=\"color: #0087ff; text-decoration-color: #0087ff\">Embedding</span>)        │ (<span style=\"color: #00d7ff; text-decoration-color: #00d7ff\">None</span>, <span style=\"color: #00af00; text-decoration-color: #00af00\">5</span>, <span style=\"color: #00af00; text-decoration-color: #00af00\">16</span>)          │         <span style=\"color: #00af00; text-decoration-color: #00af00\">3,200</span> │\n",
              "├─────────────────────────────────┼────────────────────────┼───────────────┤\n",
              "│ lstm_13 (<span style=\"color: #0087ff; text-decoration-color: #0087ff\">LSTM</span>)                  │ (<span style=\"color: #00d7ff; text-decoration-color: #00d7ff\">None</span>, <span style=\"color: #00af00; text-decoration-color: #00af00\">32</span>)             │         <span style=\"color: #00af00; text-decoration-color: #00af00\">6,272</span> │\n",
              "├─────────────────────────────────┼────────────────────────┼───────────────┤\n",
              "│ dense_9 (<span style=\"color: #0087ff; text-decoration-color: #0087ff\">Dense</span>)                 │ (<span style=\"color: #00d7ff; text-decoration-color: #00d7ff\">None</span>, <span style=\"color: #00af00; text-decoration-color: #00af00\">32</span>)             │         <span style=\"color: #00af00; text-decoration-color: #00af00\">1,056</span> │\n",
              "├─────────────────────────────────┼────────────────────────┼───────────────┤\n",
              "│ dropout_3 (<span style=\"color: #0087ff; text-decoration-color: #0087ff\">Dropout</span>)             │ (<span style=\"color: #00d7ff; text-decoration-color: #00d7ff\">None</span>, <span style=\"color: #00af00; text-decoration-color: #00af00\">32</span>)             │             <span style=\"color: #00af00; text-decoration-color: #00af00\">0</span> │\n",
              "├─────────────────────────────────┼────────────────────────┼───────────────┤\n",
              "│ predictions (<span style=\"color: #0087ff; text-decoration-color: #0087ff\">Dense</span>)             │ (<span style=\"color: #00d7ff; text-decoration-color: #00d7ff\">None</span>, <span style=\"color: #00af00; text-decoration-color: #00af00\">10</span>)             │           <span style=\"color: #00af00; text-decoration-color: #00af00\">330</span> │\n",
              "└─────────────────────────────────┴────────────────────────┴───────────────┘\n",
              "</pre>\n"
            ]
          },
          "metadata": {}
        },
        {
          "output_type": "display_data",
          "data": {
            "text/plain": [
              "\u001b[1m Total params: \u001b[0m\u001b[38;5;34m32,576\u001b[0m (127.25 KB)\n"
            ],
            "text/html": [
              "<pre style=\"white-space:pre;overflow-x:auto;line-height:normal;font-family:Menlo,'DejaVu Sans Mono',consolas,'Courier New',monospace\"><span style=\"font-weight: bold\"> Total params: </span><span style=\"color: #00af00; text-decoration-color: #00af00\">32,576</span> (127.25 KB)\n",
              "</pre>\n"
            ]
          },
          "metadata": {}
        },
        {
          "output_type": "display_data",
          "data": {
            "text/plain": [
              "\u001b[1m Trainable params: \u001b[0m\u001b[38;5;34m10,858\u001b[0m (42.41 KB)\n"
            ],
            "text/html": [
              "<pre style=\"white-space:pre;overflow-x:auto;line-height:normal;font-family:Menlo,'DejaVu Sans Mono',consolas,'Courier New',monospace\"><span style=\"font-weight: bold\"> Trainable params: </span><span style=\"color: #00af00; text-decoration-color: #00af00\">10,858</span> (42.41 KB)\n",
              "</pre>\n"
            ]
          },
          "metadata": {}
        },
        {
          "output_type": "display_data",
          "data": {
            "text/plain": [
              "\u001b[1m Non-trainable params: \u001b[0m\u001b[38;5;34m0\u001b[0m (0.00 B)\n"
            ],
            "text/html": [
              "<pre style=\"white-space:pre;overflow-x:auto;line-height:normal;font-family:Menlo,'DejaVu Sans Mono',consolas,'Courier New',monospace\"><span style=\"font-weight: bold\"> Non-trainable params: </span><span style=\"color: #00af00; text-decoration-color: #00af00\">0</span> (0.00 B)\n",
              "</pre>\n"
            ]
          },
          "metadata": {}
        },
        {
          "output_type": "display_data",
          "data": {
            "text/plain": [
              "\u001b[1m Optimizer params: \u001b[0m\u001b[38;5;34m21,718\u001b[0m (84.84 KB)\n"
            ],
            "text/html": [
              "<pre style=\"white-space:pre;overflow-x:auto;line-height:normal;font-family:Menlo,'DejaVu Sans Mono',consolas,'Courier New',monospace\"><span style=\"font-weight: bold\"> Optimizer params: </span><span style=\"color: #00af00; text-decoration-color: #00af00\">21,718</span> (84.84 KB)\n",
              "</pre>\n"
            ]
          },
          "metadata": {}
        }
      ]
    },
    {
      "cell_type": "code",
      "source": [
        "model.outputs"
      ],
      "metadata": {
        "colab": {
          "base_uri": "https://localhost:8080/"
        },
        "id": "vEArNl4b0Af6",
        "outputId": "ccd52090-ed9b-47d9-e460-019b283004fa"
      },
      "execution_count": null,
      "outputs": [
        {
          "output_type": "execute_result",
          "data": {
            "text/plain": [
              "[<KerasTensor shape=(None, 10), dtype=float32, sparse=False, name=keras_tensor_47>]"
            ]
          },
          "metadata": {},
          "execution_count": 77
        }
      ]
    },
    {
      "cell_type": "code",
      "source": [
        "plt.style.use(\"ggplot\")\n",
        "plt.figure()\n",
        "plt.plot(history.history[\"accuracy\"], label=\"Training Accuracy\")\n",
        "plt.plot(history.history[\"val_loss\"], label=\"Validation Loss\")\n",
        "plt.xlabel(\"Epoch\")\n",
        "plt.ylabel(\"Value\")\n",
        "plt.title(\"Training Accuracy & Validation Loss\")\n",
        "plt.legend()\n",
        "plt.show()"
      ],
      "metadata": {
        "colab": {
          "base_uri": "https://localhost:8080/",
          "height": 477
        },
        "id": "2VQ86TNpttcJ",
        "outputId": "732ae24e-fe74-4257-e0c4-2a642a369807"
      },
      "execution_count": null,
      "outputs": [
        {
          "output_type": "display_data",
          "data": {
            "text/plain": [
              "<Figure size 640x480 with 1 Axes>"
            ],
            "image/png": "[encoded data removed]"
          },
          "metadata": {}
        }
      ]
    },
    {
      "cell_type": "markdown",
      "source": [
        "## Convert SavedModel"
      ],
      "metadata": {
        "id": "8lwoLl7-v_I4"
      }
    },
    {
      "cell_type": "code",
      "source": [
        "!rm -rf '/content/saved_model' '/content/model.h5' '/content/model.keras'\n",
        "!rm -rf '/content/tfjs_saved_model' '/content/tfjs_keras_model'\n",
        "!rm -rf '/content/tfjs_saved_model.zip' '/content/tfjs_keras_model.zip'"
      ],
      "metadata": {
        "id": "ypzdz4bj3ecE"
      },
      "execution_count": null,
      "outputs": []
    },
    {
      "cell_type": "code",
      "execution_count": null,
      "metadata": {
        "id": "tebDqEQ7jYDR"
      },
      "outputs": [],
      "source": [
        "# Simpan dengan signature yang sudah diberi nama output\n",
        "tf.saved_model.save(model, 'saved_model')"
      ]
    },
    {
      "cell_type": "code",
      "source": [
        "!pip install tensorflowjs"
      ],
      "metadata": {
        "colab": {
          "base_uri": "https://localhost:8080/"
        },
        "id": "O3dhrVPnopZN",
        "outputId": "69288a89-bb80-40cd-cb9f-d150f3730eca"
      },
      "execution_count": null,
      "outputs": [
        {
          "output_type": "stream",
          "name": "stdout",
          "text": [
            "Collecting tensorflowjs\n",
            "  Downloading tensorflowjs-4.22.0-py3-none-any.whl.metadata (3.2 kB)\n",
            "Requirement already satisfied: flax>=0.7.2 in /usr/local/lib/python3.11/dist-packages (from tensorflowjs) (0.10.6)\n",
            "Requirement already satisfied: importlib_resources>=5.9.0 in /usr/local/lib/python3.11/dist-packages (from tensorflowjs) (6.5.2)\n",
            "Requirement already satisfied: jax>=0.4.13 in /usr/local/lib/python3.11/dist-packages (from tensorflowjs) (0.5.2)\n",
            "Requirement already satisfied: jaxlib>=0.4.13 in /usr/local/lib/python3.11/dist-packages (from tensorflowjs) (0.5.1)\n",
            "Requirement already satisfied: tensorflow<3,>=2.13.0 in /usr/local/lib/python3.11/dist-packages (from tensorflowjs) (2.18.0)\n",
            "Requirement already satisfied: tf-keras>=2.13.0 in /usr/local/lib/python3.11/dist-packages (from tensorflowjs) (2.18.0)\n",
            "Requirement already satisfied: tensorflow-decision-forests>=1.5.0 in /usr/local/lib/python3.11/dist-packages (from tensorflowjs) (1.11.0)\n",
            "Requirement already satisfied: six<2,>=1.16.0 in /usr/local/lib/python3.11/dist-packages (from tensorflowjs) (1.17.0)\n",
            "Requirement already satisfied: tensorflow-hub>=0.16.1 in /usr/local/lib/python3.11/dist-packages (from tensorflowjs) (0.16.1)\n",
            "Collecting packaging~=23.1 (from tensorflowjs)\n",
            "  Downloading packaging-23.2-py3-none-any.whl.metadata (3.2 kB)\n",
            "Requirement already satisfied: numpy>=1.23.2 in /usr/local/lib/python3.11/dist-packages (from flax>=0.7.2->tensorflowjs) (2.0.2)\n",
            "Requirement already satisfied: msgpack in /usr/local/lib/python3.11/dist-packages (from flax>=0.7.2->tensorflowjs) (1.1.0)\n",
            "Requirement already satisfied: optax in /usr/local/lib/python3.11/dist-packages (from flax>=0.7.2->tensorflowjs) (0.2.4)\n",
            "Requirement already satisfied: orbax-checkpoint in /usr/local/lib/python3.11/dist-packages (from flax>=0.7.2->tensorflowjs) (0.11.13)\n",
            "Requirement already satisfied: tensorstore in /usr/local/lib/python3.11/dist-packages (from flax>=0.7.2->tensorflowjs) (0.1.74)\n",
            "Requirement already satisfied: rich>=11.1 in /usr/local/lib/python3.11/dist-packages (from flax>=0.7.2->tensorflowjs) (13.9.4)\n",
            "Requirement already satisfied: typing_extensions>=4.2 in /usr/local/lib/python3.11/dist-packages (from flax>=0.7.2->tensorflowjs) (4.13.2)\n",
            "Requirement already satisfied: PyYAML>=5.4.1 in /usr/local/lib/python3.11/dist-packages (from flax>=0.7.2->tensorflowjs) (6.0.2)\n",
            "Requirement already satisfied: treescope>=0.1.7 in /usr/local/lib/python3.11/dist-packages (from flax>=0.7.2->tensorflowjs) (0.1.9)\n",
            "Requirement already satisfied: ml_dtypes>=0.4.0 in /usr/local/lib/python3.11/dist-packages (from jax>=0.4.13->tensorflowjs) (0.4.1)\n",
            "Requirement already satisfied: opt_einsum in /usr/local/lib/python3.11/dist-packages (from jax>=0.4.13->tensorflowjs) (3.4.0)\n",
            "Requirement already satisfied: scipy>=1.11.1 in /usr/local/lib/python3.11/dist-packages (from jax>=0.4.13->tensorflowjs) (1.15.3)\n",
            "Requirement already satisfied: absl-py>=1.0.0 in /usr/local/lib/python3.11/dist-packages (from tensorflow<3,>=2.13.0->tensorflowjs) (1.4.0)\n",
            "Requirement already satisfied: astunparse>=1.6.0 in /usr/local/lib/python3.11/dist-packages (from tensorflow<3,>=2.13.0->tensorflowjs) (1.6.3)\n",
            "Requirement already satisfied: flatbuffers>=24.3.25 in /usr/local/lib/python3.11/dist-packages (from tensorflow<3,>=2.13.0->tensorflowjs) (25.2.10)\n",
            "Requirement already satisfied: gast!=0.5.0,!=0.5.1,!=0.5.2,>=0.2.1 in /usr/local/lib/python3.11/dist-packages (from tensorflow<3,>=2.13.0->tensorflowjs) (0.6.0)\n",
            "Requirement already satisfied: google-pasta>=0.1.1 in /usr/local/lib/python3.11/dist-packages (from tensorflow<3,>=2.13.0->tensorflowjs) (0.2.0)\n",
            "Requirement already satisfied: libclang>=13.0.0 in /usr/local/lib/python3.11/dist-packages (from tensorflow<3,>=2.13.0->tensorflowjs) (18.1.1)\n",
            "Requirement already satisfied: protobuf!=4.21.0,!=4.21.1,!=4.21.2,!=4.21.3,!=4.21.4,!=4.21.5,<6.0.0dev,>=3.20.3 in /usr/local/lib/python3.11/dist-packages (from tensorflow<3,>=2.13.0->tensorflowjs) (5.29.4)\n",
            "Requirement already satisfied: requests<3,>=2.21.0 in /usr/local/lib/python3.11/dist-packages (from tensorflow<3,>=2.13.0->tensorflowjs) (2.32.3)\n",
            "Requirement already satisfied: setuptools in /usr/local/lib/python3.11/dist-packages (from tensorflow<3,>=2.13.0->tensorflowjs) (75.2.0)\n",
            "Requirement already satisfied: termcolor>=1.1.0 in /usr/local/lib/python3.11/dist-packages (from tensorflow<3,>=2.13.0->tensorflowjs) (3.1.0)\n",
            "Requirement already satisfied: wrapt>=1.11.0 in /usr/local/lib/python3.11/dist-packages (from tensorflow<3,>=2.13.0->tensorflowjs) (1.17.2)\n",
            "Requirement already satisfied: grpcio<2.0,>=1.24.3 in /usr/local/lib/python3.11/dist-packages (from tensorflow<3,>=2.13.0->tensorflowjs) (1.71.0)\n",
            "Requirement already satisfied: tensorboard<2.19,>=2.18 in /usr/local/lib/python3.11/dist-packages (from tensorflow<3,>=2.13.0->tensorflowjs) (2.18.0)\n",
            "Requirement already satisfied: keras>=3.5.0 in /usr/local/lib/python3.11/dist-packages (from tensorflow<3,>=2.13.0->tensorflowjs) (3.8.0)\n",
            "Requirement already satisfied: h5py>=3.11.0 in /usr/local/lib/python3.11/dist-packages (from tensorflow<3,>=2.13.0->tensorflowjs) (3.13.0)\n",
            "Requirement already satisfied: tensorflow-io-gcs-filesystem>=0.23.1 in /usr/local/lib/python3.11/dist-packages (from tensorflow<3,>=2.13.0->tensorflowjs) (0.37.1)\n",
            "Requirement already satisfied: pandas in /usr/local/lib/python3.11/dist-packages (from tensorflow-decision-forests>=1.5.0->tensorflowjs) (2.2.2)\n",
            "Requirement already satisfied: wheel in /usr/local/lib/python3.11/dist-packages (from tensorflow-decision-forests>=1.5.0->tensorflowjs) (0.45.1)\n",
            "Requirement already satisfied: wurlitzer in /usr/local/lib/python3.11/dist-packages (from tensorflow-decision-forests>=1.5.0->tensorflowjs) (3.1.1)\n",
            "Requirement already satisfied: ydf in /usr/local/lib/python3.11/dist-packages (from tensorflow-decision-forests>=1.5.0->tensorflowjs) (0.12.0)\n",
            "Requirement already satisfied: namex in /usr/local/lib/python3.11/dist-packages (from keras>=3.5.0->tensorflow<3,>=2.13.0->tensorflowjs) (0.0.9)\n",
            "Requirement already satisfied: optree in /usr/local/lib/python3.11/dist-packages (from keras>=3.5.0->tensorflow<3,>=2.13.0->tensorflowjs) (0.15.0)\n",
            "Requirement already satisfied: charset-normalizer<4,>=2 in /usr/local/lib/python3.11/dist-packages (from requests<3,>=2.21.0->tensorflow<3,>=2.13.0->tensorflowjs) (3.4.2)\n",
            "Requirement already satisfied: idna<4,>=2.5 in /usr/local/lib/python3.11/dist-packages (from requests<3,>=2.21.0->tensorflow<3,>=2.13.0->tensorflowjs) (3.10)\n",
            "Requirement already satisfied: urllib3<3,>=1.21.1 in /usr/local/lib/python3.11/dist-packages (from requests<3,>=2.21.0->tensorflow<3,>=2.13.0->tensorflowjs) (2.4.0)\n",
            "Requirement already satisfied: certifi>=2017.4.17 in /usr/local/lib/python3.11/dist-packages (from requests<3,>=2.21.0->tensorflow<3,>=2.13.0->tensorflowjs) (2025.4.26)\n",
            "Requirement already satisfied: markdown-it-py>=2.2.0 in /usr/local/lib/python3.11/dist-packages (from rich>=11.1->flax>=0.7.2->tensorflowjs) (3.0.0)\n",
            "Requirement already satisfied: pygments<3.0.0,>=2.13.0 in /usr/local/lib/python3.11/dist-packages (from rich>=11.1->flax>=0.7.2->tensorflowjs) (2.19.1)\n",
            "Requirement already satisfied: markdown>=2.6.8 in /usr/local/lib/python3.11/dist-packages (from tensorboard<2.19,>=2.18->tensorflow<3,>=2.13.0->tensorflowjs) (3.8)\n",
            "Requirement already satisfied: tensorboard-data-server<0.8.0,>=0.7.0 in /usr/local/lib/python3.11/dist-packages (from tensorboard<2.19,>=2.18->tensorflow<3,>=2.13.0->tensorflowjs) (0.7.2)\n",
            "Requirement already satisfied: werkzeug>=1.0.1 in /usr/local/lib/python3.11/dist-packages (from tensorboard<2.19,>=2.18->tensorflow<3,>=2.13.0->tensorflowjs) (3.1.3)\n",
            "Requirement already satisfied: chex>=0.1.87 in /usr/local/lib/python3.11/dist-packages (from optax->flax>=0.7.2->tensorflowjs) (0.1.89)\n",
            "Requirement already satisfied: etils[epy] in /usr/local/lib/python3.11/dist-packages (from optax->flax>=0.7.2->tensorflowjs) (1.12.2)\n",
            "Requirement already satisfied: nest_asyncio in /usr/local/lib/python3.11/dist-packages (from orbax-checkpoint->flax>=0.7.2->tensorflowjs) (1.6.0)\n",
            "Requirement already satisfied: humanize in /usr/local/lib/python3.11/dist-packages (from orbax-checkpoint->flax>=0.7.2->tensorflowjs) (4.12.3)\n",
            "Requirement already satisfied: simplejson>=3.16.0 in /usr/local/lib/python3.11/dist-packages (from orbax-checkpoint->flax>=0.7.2->tensorflowjs) (3.20.1)\n",
            "Requirement already satisfied: python-dateutil>=2.8.2 in /usr/local/lib/python3.11/dist-packages (from pandas->tensorflow-decision-forests>=1.5.0->tensorflowjs) (2.9.0.post0)\n",
            "Requirement already satisfied: pytz>=2020.1 in /usr/local/lib/python3.11/dist-packages (from pandas->tensorflow-decision-forests>=1.5.0->tensorflowjs) (2025.2)\n",
            "Requirement already satisfied: tzdata>=2022.7 in /usr/local/lib/python3.11/dist-packages (from pandas->tensorflow-decision-forests>=1.5.0->tensorflowjs) (2025.2)\n",
            "Requirement already satisfied: toolz>=0.9.0 in /usr/local/lib/python3.11/dist-packages (from chex>=0.1.87->optax->flax>=0.7.2->tensorflowjs) (0.12.1)\n",
            "Requirement already satisfied: mdurl~=0.1 in /usr/local/lib/python3.11/dist-packages (from markdown-it-py>=2.2.0->rich>=11.1->flax>=0.7.2->tensorflowjs) (0.1.2)\n",
            "Requirement already satisfied: MarkupSafe>=2.1.1 in /usr/local/lib/python3.11/dist-packages (from werkzeug>=1.0.1->tensorboard<2.19,>=2.18->tensorflow<3,>=2.13.0->tensorflowjs) (3.0.2)\n",
            "Requirement already satisfied: fsspec in /usr/local/lib/python3.11/dist-packages (from etils[epath,epy]->orbax-checkpoint->flax>=0.7.2->tensorflowjs) (2025.3.2)\n",
            "Requirement already satisfied: zipp in /usr/local/lib/python3.11/dist-packages (from etils[epath,epy]->orbax-checkpoint->flax>=0.7.2->tensorflowjs) (3.21.0)\n",
            "Downloading tensorflowjs-4.22.0-py3-none-any.whl (89 kB)\n",
            "\u001b[2K   \u001b[90m━━━━━━━━━━━━━━━━━━━━━━━━━━━━━━━━━━━━━━━━\u001b[0m \u001b[32m89.1/89.1 kB\u001b[0m \u001b[31m3.6 MB/s\u001b[0m eta \u001b[36m0:00:00\u001b[0m\n",
            "\u001b[?25hDownloading packaging-23.2-py3-none-any.whl (53 kB)\n",
            "\u001b[2K   \u001b[90m━━━━━━━━━━━━━━━━━━━━━━━━━━━━━━━━━━━━━━━━\u001b[0m \u001b[32m53.0/53.0 kB\u001b[0m \u001b[31m3.3 MB/s\u001b[0m eta \u001b[36m0:00:00\u001b[0m\n",
            "\u001b[?25hInstalling collected packages: packaging, tensorflowjs\n",
            "  Attempting uninstall: packaging\n",
            "    Found existing installation: packaging 24.2\n",
            "    Uninstalling packaging-24.2:\n",
            "      Successfully uninstalled packaging-24.2\n",
            "\u001b[31mERROR: pip's dependency resolver does not currently take into account all the packages that are installed. This behaviour is the source of the following dependency conflicts.\n",
            "google-cloud-bigquery 3.33.0 requires packaging>=24.2.0, but you have packaging 23.2 which is incompatible.\n",
            "db-dtypes 1.4.3 requires packaging>=24.2.0, but you have packaging 23.2 which is incompatible.\u001b[0m\u001b[31m\n",
            "\u001b[0mSuccessfully installed packaging-23.2 tensorflowjs-4.22.0\n"
          ]
        }
      ]
    },
    {
      "cell_type": "code",
      "execution_count": null,
      "metadata": {
        "colab": {
          "base_uri": "https://localhost:8080/"
        },
        "id": "eloMyvBcjZju",
        "outputId": "b8419553-3f36-40b4-dfec-61d63de98c0a"
      },
      "outputs": [
        {
          "output_type": "stream",
          "name": "stdout",
          "text": [
            "2025-06-03 11:52:36.365452: E external/local_xla/xla/stream_executor/cuda/cuda_fft.cc:477] Unable to register cuFFT factory: Attempting to register factory for plugin cuFFT when one has already been registered\n",
            "WARNING: All log messages before absl::InitializeLog() is called are written to STDERR\n",
            "E0000 00:00:1748951556.419870   30678 cuda_dnn.cc:8310] Unable to register cuDNN factory: Attempting to register factory for plugin cuDNN when one has already been registered\n",
            "E0000 00:00:1748951556.435321   30678 cuda_blas.cc:1418] Unable to register cuBLAS factory: Attempting to register factory for plugin cuBLAS when one has already been registered\n",
            "\u001b[32m🌲 Try \u001b[0m\u001b[34mhttps://ydf.readthedocs.io\u001b[0m\u001b[32m, the successor of TensorFlow Decision Forests with more features and faster training!\u001b[0m\n",
            "2025-06-03 11:53:00.935801: E external/local_xla/xla/stream_executor/cuda/cuda_driver.cc:152] failed call to cuInit: INTERNAL: CUDA error: Failed call to cuInit: UNKNOWN ERROR (303)\n",
            "I0000 00:00:1748951581.070600   30678 devices.cc:67] Number of eligible GPUs (core count >= 8, compute capability >= 0.0): 0\n",
            "WARNING: All log messages before absl::InitializeLog() is called are written to STDERR\n",
            "I0000 00:00:1748951581.070968   30678 single_machine.cc:361] Starting new session\n"
          ]
        }
      ],
      "source": [
        "!tensorflowjs_converter \\\n",
        "    --input_format=tf_saved_model \\\n",
        "    --output_format=tfjs_graph_model \\\n",
        "    --signature_name=serving_default \\\n",
        "    --saved_model_tags=serve \\\n",
        "    saved_model \\\n",
        "    tfjs_saved_model"
      ]
    },
    {
      "cell_type": "code",
      "execution_count": null,
      "metadata": {
        "id": "yhDFDm28jgm_",
        "colab": {
          "base_uri": "https://localhost:8080/"
        },
        "outputId": "ae745133-6d7e-417d-aa56-c06d79b6aed9"
      },
      "outputs": [
        {
          "output_type": "stream",
          "name": "stdout",
          "text": [
            "Output shapes: {'output_0': TensorSpec(shape=(32, 10), dtype=tf.float32, name='output_0')}\n"
          ]
        }
      ],
      "source": [
        "new_model = tf.saved_model.load('saved_model')\n",
        "serving_fn = new_model.signatures['serving_default']\n",
        "print(\"Output shapes:\", serving_fn.structured_outputs)"
      ]
    },
    {
      "cell_type": "code",
      "execution_count": null,
      "metadata": {
        "colab": {
          "base_uri": "https://localhost:8080/",
          "height": 34
        },
        "id": "289mtrTHj44v",
        "outputId": "56a3c5e7-9fc7-4c58-e131-b38f830ffc9c"
      },
      "outputs": [
        {
          "output_type": "display_data",
          "data": {
            "text/plain": [
              "<IPython.core.display.Javascript object>"
            ],
            "application/javascript": [
              "\n",
              "    async function download(id, filename, size) {\n",
              "      if (!google.colab.kernel.accessAllowed) {\n",
              "        return;\n",
              "      }\n",
              "      const div = document.createElement('div');\n",
              "      const label = document.createElement('label');\n",
              "      label.textContent = `Downloading \"${filename}\": `;\n",
              "      div.appendChild(label);\n",
              "      const progress = document.createElement('progress');\n",
              "      progress.max = size;\n",
              "      div.appendChild(progress);\n",
              "      document.body.appendChild(div);\n",
              "\n",
              "      const buffers = [];\n",
              "      let downloaded = 0;\n",
              "\n",
              "      const channel = await google.colab.kernel.comms.open(id);\n",
              "      // Send a message to notify the kernel that we're ready.\n",
              "      channel.send({})\n",
              "\n",
              "      for await (const message of channel.messages) {\n",
              "        // Send a message to notify the kernel that we're ready.\n",
              "        channel.send({})\n",
              "        if (message.buffers) {\n",
              "          for (const buffer of message.buffers) {\n",
              "            buffers.push(buffer);\n",
              "            downloaded += buffer.byteLength;\n",
              "            progress.value = downloaded;\n",
              "          }\n",
              "        }\n",
              "      }\n",
              "      const blob = new Blob(buffers, {type: 'application/binary'});\n",
              "      const a = document.createElement('a');\n",
              "      a.href = window.URL.createObjectURL(blob);\n",
              "      a.download = filename;\n",
              "      div.appendChild(a);\n",
              "      a.click();\n",
              "      div.remove();\n",
              "    }\n",
              "  "
            ]
          },
          "metadata": {}
        },
        {
          "output_type": "display_data",
          "data": {
            "text/plain": [
              "<IPython.core.display.Javascript object>"
            ],
            "application/javascript": [
              "download(\"download_a8294959-5944-4c95-96ab-a04114d33c5a\", \"tfjs_saved_model.zip\", 14525)"
            ]
          },
          "metadata": {}
        },
        {
          "output_type": "stream",
          "name": "stdout",
          "text": [
            "File tfjs_saved_model.zip telah dibuat dan diunduh ke komputer lokal Anda\n"
          ]
        }
      ],
      "source": [
        "import os\n",
        "import zipfile\n",
        "from google.colab import files  # Mengimpor dengan benar\n",
        "\n",
        "# Path ke folder yang ingin diunduh\n",
        "source_folder = \"/content/tfjs_saved_model\"\n",
        "\n",
        "# Nama file zip yang akan dibuat\n",
        "zip_filename = \"tfjs_saved_model.zip\"\n",
        "\n",
        "# Memeriksa apakah folder sumber ada\n",
        "if not os.path.exists(source_folder):\n",
        "    print(f\"Folder {source_folder} tidak ditemukan!\")\n",
        "else:\n",
        "    # Membuat file zip dari folder\n",
        "    with zipfile.ZipFile(zip_filename, 'w', zipfile.ZIP_DEFLATED) as zipf:\n",
        "        for root, dirs, files_list in os.walk(source_folder):  # Mengubah nama variabel menjadi files_list\n",
        "            for file in files_list:  # Menggunakan files_list\n",
        "                file_path = os.path.join(root, file)\n",
        "                # Mendapatkan path relatif untuk struktur folder di dalam zip\n",
        "                arcname = os.path.relpath(file_path, os.path.dirname(source_folder))\n",
        "                zipf.write(file_path, arcname)\n",
        "\n",
        "    # Mengunduh file zip ke lokal\n",
        "    files.download(zip_filename)  # Ini sekarang mengacu pada google.colab.files\n",
        "    print(f\"File {zip_filename} telah dibuat dan diunduh ke komputer lokal Anda\")"
      ]
    },
    {
      "cell_type": "markdown",
      "metadata": {
        "id": "ayVFtcHrPU8r"
      },
      "source": [
        "## Testing\n",
        "I have also tested the model in a way to mimic a human interacting with a bot and got positive results. hoever, This was very simple because of the tiny amount of data that i have created. But, the same model can also be used with large amount of data"
      ]
    },
    {
      "cell_type": "code",
      "execution_count": 23,
      "metadata": {
        "colab": {
          "base_uri": "https://localhost:8080/",
          "height": 297
        },
        "id": "w_StBj_gPQrs",
        "outputId": "ad998500-1783-4e17-e442-309506a89f8a"
      },
      "outputs": [
        {
          "output_type": "stream",
          "name": "stdout",
          "text": [
            "Kamu: halo pak\n",
            "[[ 0  0 59 30]]\n",
            "\u001b[1m1/1\u001b[0m \u001b[32m━━━━━━━━━━━━━━━━━━━━\u001b[0m\u001b[37m\u001b[0m \u001b[1m0s\u001b[0m 111ms/step\n",
            "\n",
            "prediksi tiap kelas\n"
          ]
        },
        {
          "output_type": "error",
          "ename": "NameError",
          "evalue": "name 'le' is not defined",
          "traceback": [
            "\u001b[0;31m---------------------------------------------------------------------------\u001b[0m",
            "\u001b[0;31mNameError\u001b[0m                                 Traceback (most recent call last)",
            "\u001b[0;32m<ipython-input-23-1820600719>\u001b[0m in \u001b[0;36m<cell line: 0>\u001b[0;34m()\u001b[0m\n\u001b[1;32m     24\u001b[0m   \u001b[0mprint\u001b[0m\u001b[0;34m(\u001b[0m\u001b[0;34m\"\\nprediksi tiap kelas\"\u001b[0m\u001b[0;34m)\u001b[0m\u001b[0;34m\u001b[0m\u001b[0;34m\u001b[0m\u001b[0m\n\u001b[1;32m     25\u001b[0m   \u001b[0;32mfor\u001b[0m \u001b[0mi\u001b[0m\u001b[0;34m,\u001b[0m \u001b[0mprob\u001b[0m \u001b[0;32min\u001b[0m \u001b[0menumerate\u001b[0m\u001b[0;34m(\u001b[0m\u001b[0moutput\u001b[0m\u001b[0;34m[\u001b[0m\u001b[0;36m0\u001b[0m\u001b[0;34m]\u001b[0m\u001b[0;34m)\u001b[0m\u001b[0;34m:\u001b[0m\u001b[0;34m\u001b[0m\u001b[0;34m\u001b[0m\u001b[0m\n\u001b[0;32m---> 26\u001b[0;31m     \u001b[0mclass_name\u001b[0m \u001b[0;34m=\u001b[0m \u001b[0mle\u001b[0m\u001b[0;34m.\u001b[0m\u001b[0minverse_transform\u001b[0m\u001b[0;34m(\u001b[0m\u001b[0;34m[\u001b[0m\u001b[0mi\u001b[0m\u001b[0;34m]\u001b[0m\u001b[0;34m)\u001b[0m\u001b[0;34m[\u001b[0m\u001b[0;36m0\u001b[0m\u001b[0;34m]\u001b[0m\u001b[0;34m\u001b[0m\u001b[0;34m\u001b[0m\u001b[0m\n\u001b[0m\u001b[1;32m     27\u001b[0m     \u001b[0mprint\u001b[0m\u001b[0;34m(\u001b[0m\u001b[0;34mf\"{class_name}: {prob:.4f}\"\u001b[0m\u001b[0;34m)\u001b[0m\u001b[0;34m\u001b[0m\u001b[0;34m\u001b[0m\u001b[0m\n\u001b[1;32m     28\u001b[0m \u001b[0;34m\u001b[0m\u001b[0m\n",
            "\u001b[0;31mNameError\u001b[0m: name 'le' is not defined"
          ]
        }
      ],
      "source": [
        "# testing\n",
        "import random\n",
        "\n",
        "while True:\n",
        "  text_p = []\n",
        "  prediction_input = input(\"Kamu: \")\n",
        "\n",
        "  # removing punctuation and converting to lowercase\n",
        "  prediction_input = [letters.lower() for letters in prediction_input if letters not in string.punctuation]\n",
        "  prediction_input = ''.join(prediction_input)\n",
        "  text_p.append(prediction_input)\n",
        "\n",
        "  # tokenizing and padding\n",
        "  prediction_input = tokenizer.texts_to_sequences(text_p)\n",
        "  prediction_input = np.array(prediction_input).reshape(-1)\n",
        "  prediction_input = pad_sequences([prediction_input], max_length)\n",
        "\n",
        "  print(prediction_input)\n",
        "\n",
        "  # getting output from model\n",
        "  output = model.predict(prediction_input)\n",
        "\n",
        "  # tiap kelas\n",
        "  print(\"\\nprediksi tiap kelas\")\n",
        "  for i, prob in enumerate(output[0]):\n",
        "    class_name = le.inverse_transform([i])[0]\n",
        "    print(f\"{class_name}: {prob:.4f}\")\n",
        "\n",
        "  output = output.argmax()\n",
        "\n",
        "  # finding the right tag and predicting\n",
        "  response_tag = le.inverse_transform([output])[0]\n",
        "  print(\"Soekarno: \",random.choice(responses[response_tag]))\n",
        "  if response_tag == \"goodbye\":\n",
        "    break"
      ]
    }
  ],
  "metadata": {
    "colab": {
      "provenance": [],
      "toc_visible": true
    },
    "kernelspec": {
      "display_name": "Python 3",
      "name": "python3"
    },
    "language_info": {
      "name": "python"
    }
  },
  "nbformat": 4,
  "nbformat_minor": 0
}